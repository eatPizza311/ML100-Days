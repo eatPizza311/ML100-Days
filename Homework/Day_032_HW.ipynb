{
 "cells": [
  {
   "cell_type": "markdown",
   "metadata": {},
   "source": [
    "# Day032\n",
    "## 機器學習-流程與步驟\n",
    "### 機器學習專案開發流程\n",
    "1. 資料搜集、前處理: \n",
    "    - 資料前處理: 缺失值填補、離群值處理、標準化\n",
    "    \n",
    "    \n",
    "2. 定義⽬標與評估準則:\n",
    "    - 定義⽬標:\n",
    "        回歸問題? 分類問題?  <br>\n",
    "        要預測的⽬標是甚麼? (target 或 y)  <br>\n",
    "        要⽤甚麼資料來進⾏預測? (predictor 或 x)  <br>\n",
    "        將資料分為\n",
    "        - 訓練集, training set\n",
    "        - 驗證集, validation set\n",
    "        - 測試集, test set\n",
    "        \n",
    "    - 設定評估準則: 不同問題有不同的評估指標\n",
    "        - 回歸問題 (預測值為實數):\n",
    "            - RMSE, Root Mean Square Error\n",
    "            - Mean Absolute Error\n",
    "            - R-Square\n",
    "        - 分類問題 (預測值為類別):\n",
    "            - Accuracy\n",
    "            - F1-score\n",
    "            - AUC, Area Under Curve\n",
    "            \n",
    " \n",
    "3. 建立模型與調整參數:\n",
    "    - 根據設定⽬標建立機器學習模型\n",
    "    - 各模型都有其超參數需調整，根據經驗與對模型了解、訓練情形等進⾏調參\n",
    "    \n",
    "    \n",
    "4. 導入:\n",
    "    - 建立資料搜集、前處理等流程\n",
    "    - 送進模型進⾏預測\n",
    "    - 輸出預測結果\n",
    "    - 視專案需求整合前後端: 建議統⼀資料格式，⽅便讀寫 (.json, .csv)\n",
    "    \n",
    "<img src='https://imarticus.org/wp-content/uploads/2017/09/machine-learning-process.png' height=\"600\" width=\"600\">"
   ]
  },
  {
   "cell_type": "markdown",
   "metadata": {},
   "source": [
    "## 練習時間\n",
    "相信大家目前都能夠初步了解機器學習專案的流程及步驟，今天的作業希望大家能夠看看全球機器學習巨頭們在做的機器學習專案。以 google 為例，下圖是 Google 內部專案使用機器學習的數量，隨著時間進展，現在早已超過 2000 個專案在使用 ML。"
   ]
  },
  {
   "cell_type": "markdown",
   "metadata": {},
   "source": [
    "![image](https://cdn-images-1.medium.com/max/800/1*U_L8qI8RmYS-MOBrYvXhSA.png)"
   ]
  },
  {
   "cell_type": "markdown",
   "metadata": {},
   "source": [
    "底下幫同學整理幾間知名企業的 blog 或機器學習網站 (自行搜尋也可)，請挑選一篇文章閱讀並試著回答\n",
    "1. 專案的目標？ (要解決什麼問題）\n",
    "2. 使用的技術是？ (只需知道名稱即可，例如：使用 CNN 卷積神經網路做影像分類)\n",
    "3. 資料來源？ "
   ]
  },
  {
   "cell_type": "markdown",
   "metadata": {},
   "source": [
    "- [Google AI blog](https://ai.googleblog.com/)\n",
    "- [Facebook Research blog](https://research.fb.com/blog/)\n",
    "- [Apple machine learning journal](https://machinelearning.apple.com/)\n",
    "- [機器之心](https://www.jiqizhixin.com/)\n",
    "- [雷鋒網](http://www.leiphone.com/category/ai)"
   ]
  },
  {
   "cell_type": "markdown",
   "metadata": {},
   "source": [
    "## [Soft Actor-Critic: Deep Reinforcement Learning for Robotics](https://ai.googleblog.com/2019/01/soft-actor-critic-deep-reinforcement.html)\n",
    "### 1. 專案的目標\n",
    "> 在創造智慧型機器人時，現有的RL演算法都需要長時間收集資料才能達到預期的行為，而且機器人在訓練階段很可能壞掉，超參數的調整也很麻煩，加上許多安全性問題使這個方法有諸多限制，本專案的目標就是找出訓練機器人更好的方法。\n",
    " \n",
    "### 2. 使用的技術\n",
    "> Soft actor-critic is based on maximum entropy reinforcement learning\n",
    "### 3. 資料來源\n",
    "> 資料來自真實環境的數據"
   ]
  }
 ],
 "metadata": {
  "kernelspec": {
   "display_name": "Python 3",
   "language": "python",
   "name": "python3"
  },
  "language_info": {
   "codemirror_mode": {
    "name": "ipython",
    "version": 3
   },
   "file_extension": ".py",
   "mimetype": "text/x-python",
   "name": "python",
   "nbconvert_exporter": "python",
   "pygments_lexer": "ipython3",
   "version": "3.6.7"
  }
 },
 "nbformat": 4,
 "nbformat_minor": 2
}
