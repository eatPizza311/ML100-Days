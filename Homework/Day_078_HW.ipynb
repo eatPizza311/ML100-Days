{
 "cells": [
  {
   "cell_type": "markdown",
   "metadata": {},
   "source": [
    "# Day078\n",
    "## 訓練神經網路前的注意事項\n",
    "### 要做哪些檢查?\n",
    "1. 使用的裝置: 是使用 CPU or GPU / 想要使用的 GPU 是否已經被別人佔用?\n",
    "> nvidia-smi 可以看到目前可以取得的GPU 裝置使用狀態\n",
    "2. Input preprocessing: 資料 (Xs) 是否有進行過適當的標準化?\n",
    "> 透過 Function 進行處理，而非在 Cell 中單獨進行避免遺漏、錯置\n",
    "3. Output preprocessing: 目標 (Ys) 是否經過適當的處理? (如 onehot-encoded)\n",
    "> 同Input\n",
    "4. Model Graph: 模型的架構是否如預期所想?\n",
    "> model.summary() 可以看到模型堆疊的架構\n",
    "5. 超參數設定(Hyper-parameters): 訓練模型的相關參數是否設定得當?\n",
    "> 將模型/程式所使用到的相關參數集中管理，避免散落在各處"
   ]
  },
  {
   "cell_type": "markdown",
   "metadata": {},
   "source": [
    "## 範例"
   ]
  },
  {
   "cell_type": "code",
   "execution_count": 1,
   "metadata": {},
   "outputs": [
    {
     "name": "stdout",
     "output_type": "stream",
     "text": [
      "Sun Apr 14 23:08:34 2019       \n",
      "+-----------------------------------------------------------------------------+\n",
      "| NVIDIA-SMI 419.67       Driver Version: 419.67       CUDA Version: 10.1     |\n",
      "|-------------------------------+----------------------+----------------------+\n",
      "| GPU  Name            TCC/WDDM | Bus-Id        Disp.A | Volatile Uncorr. ECC |\n",
      "| Fan  Temp  Perf  Pwr:Usage/Cap|         Memory-Usage | GPU-Util  Compute M. |\n",
      "|===============================+======================+======================|\n",
      "|   0  GeForce GTX 1060   WDDM  | 00000000:01:00.0 Off |                  N/A |\n",
      "| N/A   54C    P8     6W /  N/A |     92MiB /  6144MiB |      0%      Default |\n",
      "+-------------------------------+----------------------+----------------------+\n",
      "                                                                               \n",
      "+-----------------------------------------------------------------------------+\n",
      "| Processes:                                                       GPU Memory |\n",
      "|  GPU       PID   Type   Process name                             Usage      |\n",
      "|=============================================================================|\n",
      "|    0     13660    C+G   Insufficient Permissions                   N/A      |\n",
      "+-----------------------------------------------------------------------------+\n"
     ]
    }
   ],
   "source": [
    "## 確認硬體資源\n",
    "!nvidia-smi"
   ]
  },
  {
   "cell_type": "code",
   "execution_count": 1,
   "metadata": {},
   "outputs": [
    {
     "name": "stderr",
     "output_type": "stream",
     "text": [
      "Using TensorFlow backend.\n"
     ]
    }
   ],
   "source": [
    "import os\n",
    "import keras\n",
    "from time import time\n",
    "\n",
    "# Disable GPU\n",
    "os.environ[\"CUDA_VISIBLE_DEVICES\"] = \"-1\""
   ]
  },
  {
   "cell_type": "code",
   "execution_count": 2,
   "metadata": {},
   "outputs": [],
   "source": [
    "train, test = keras.datasets.cifar10.load_data()"
   ]
  },
  {
   "cell_type": "code",
   "execution_count": 3,
   "metadata": {},
   "outputs": [],
   "source": [
    "## 資料前處理\n",
    "def preproc_x(x, flatten=True):\n",
    "    x = x / 255.\n",
    "    if flatten:\n",
    "        x = x.reshape((len(x), -1))\n",
    "    return x\n",
    "\n",
    "def preproc_y(y, num_classes=10):\n",
    "    if y.shape[-1] == 1:\n",
    "        y = keras.utils.to_categorical(y, num_classes)\n",
    "    return y    "
   ]
  },
  {
   "cell_type": "code",
   "execution_count": 4,
   "metadata": {},
   "outputs": [],
   "source": [
    "x_train, y_train = train\n",
    "x_test, y_test = test\n",
    "\n",
    "# Preproc the inputs\n",
    "x_train = preproc_x(x_train)\n",
    "x_test = preproc_x(x_test)\n",
    "\n",
    "# Preprc the outputs\n",
    "y_train = preproc_y(y_train)\n",
    "y_test = preproc_y(y_test)"
   ]
  },
  {
   "cell_type": "code",
   "execution_count": 5,
   "metadata": {},
   "outputs": [],
   "source": [
    "def build_mlp(input_shape, output_units=10, num_neurons=[512, 256, 128]):\n",
    "    input_layer = keras.layers.Input(input_shape)\n",
    "    \n",
    "    for i, n_units in enumerate(num_neurons):\n",
    "        if i == 0:\n",
    "            x = keras.layers.Dense(units=n_units, activation=\"relu\", name=\"hidden_layer\"+str(i+1))(input_layer)\n",
    "        else:\n",
    "            x = keras.layers.Dense(units=n_units, activation=\"relu\", name=\"hidden_layer\"+str(i+1))(x)\n",
    "    \n",
    "    out = keras.layers.Dense(units=output_units, activation=\"softmax\", name=\"output\")(x)\n",
    "    \n",
    "    model = keras.models.Model(inputs=[input_layer], outputs=[out])\n",
    "    return model"
   ]
  },
  {
   "cell_type": "code",
   "execution_count": 6,
   "metadata": {},
   "outputs": [
    {
     "name": "stdout",
     "output_type": "stream",
     "text": [
      "WARNING:tensorflow:From C:\\Users\\ChihYing\\Anaconda3\\lib\\site-packages\\tensorflow\\python\\framework\\op_def_library.py:263: colocate_with (from tensorflow.python.framework.ops) is deprecated and will be removed in a future version.\n",
      "Instructions for updating:\n",
      "Colocations handled automatically by placer.\n",
      "_________________________________________________________________\n",
      "Layer (type)                 Output Shape              Param #   \n",
      "=================================================================\n",
      "input_1 (InputLayer)         (None, 3072)              0         \n",
      "_________________________________________________________________\n",
      "hidden_layer1 (Dense)        (None, 512)               1573376   \n",
      "_________________________________________________________________\n",
      "hidden_layer2 (Dense)        (None, 256)               131328    \n",
      "_________________________________________________________________\n",
      "hidden_layer3 (Dense)        (None, 128)               32896     \n",
      "_________________________________________________________________\n",
      "output (Dense)               (None, 10)                1290      \n",
      "=================================================================\n",
      "Total params: 1,738,890\n",
      "Trainable params: 1,738,890\n",
      "Non-trainable params: 0\n",
      "_________________________________________________________________\n"
     ]
    }
   ],
   "source": [
    "model = build_mlp(input_shape=x_train.shape[1:])\n",
    "model.summary()"
   ]
  },
  {
   "cell_type": "code",
   "execution_count": 7,
   "metadata": {},
   "outputs": [],
   "source": [
    "## 超參數設定\n",
    "LEARNING_RATE = 0.001\n",
    "EPOCHS = 100\n",
    "BATCH_SIZE = 256"
   ]
  },
  {
   "cell_type": "code",
   "execution_count": 8,
   "metadata": {},
   "outputs": [],
   "source": [
    "optimizer = keras.optimizers.Adam(lr=LEARNING_RATE)\n",
    "model.compile(loss=\"categorical_crossentropy\", metrics=[\"accuracy\"], optimizer=optimizer)"
   ]
  },
  {
   "cell_type": "code",
   "execution_count": 10,
   "metadata": {},
   "outputs": [
    {
     "name": "stdout",
     "output_type": "stream",
     "text": [
      "WARNING:tensorflow:From C:\\Users\\ChihYing\\Anaconda3\\lib\\site-packages\\tensorflow\\python\\ops\\math_ops.py:3066: to_int32 (from tensorflow.python.ops.math_ops) is deprecated and will be removed in a future version.\n",
      "Instructions for updating:\n",
      "Use tf.cast instead.\n",
      "Train on 50000 samples, validate on 10000 samples\n",
      "Epoch 1/100\n",
      "50000/50000 [==============================] - 11s 216us/step - loss: 1.9552 - acc: 0.2953 - val_loss: 1.7691 - val_acc: 0.3658\n",
      "Epoch 2/100\n",
      "50000/50000 [==============================] - 10s 196us/step - loss: 1.7246 - acc: 0.3827 - val_loss: 1.6644 - val_acc: 0.3987\n",
      "Epoch 3/100\n",
      "50000/50000 [==============================] - 10s 203us/step - loss: 1.6262 - acc: 0.4192 - val_loss: 1.5952 - val_acc: 0.4340\n",
      "Epoch 4/100\n",
      "50000/50000 [==============================] - 9s 177us/step - loss: 1.5654 - acc: 0.4441 - val_loss: 1.5372 - val_acc: 0.4490\n",
      "Epoch 5/100\n",
      "50000/50000 [==============================] - 9s 181us/step - loss: 1.5123 - acc: 0.4610 - val_loss: 1.5352 - val_acc: 0.4506\n",
      "Epoch 6/100\n",
      "50000/50000 [==============================] - 9s 184us/step - loss: 1.4674 - acc: 0.4756 - val_loss: 1.4647 - val_acc: 0.4821\n",
      "Epoch 7/100\n",
      "50000/50000 [==============================] - 9s 185us/step - loss: 1.4413 - acc: 0.4856 - val_loss: 1.4407 - val_acc: 0.4881\n",
      "Epoch 8/100\n",
      "50000/50000 [==============================] - 9s 184us/step - loss: 1.4167 - acc: 0.4936 - val_loss: 1.5057 - val_acc: 0.4704\n",
      "Epoch 9/100\n",
      "50000/50000 [==============================] - 9s 184us/step - loss: 1.3815 - acc: 0.5087 - val_loss: 1.5024 - val_acc: 0.4727\n",
      "Epoch 10/100\n",
      "50000/50000 [==============================] - 9s 182us/step - loss: 1.3651 - acc: 0.5140 - val_loss: 1.3911 - val_acc: 0.5069\n",
      "Epoch 11/100\n",
      "50000/50000 [==============================] - 9s 182us/step - loss: 1.3234 - acc: 0.5290 - val_loss: 1.3915 - val_acc: 0.5067\n",
      "Epoch 12/100\n",
      "50000/50000 [==============================] - 9s 183us/step - loss: 1.3008 - acc: 0.5369 - val_loss: 1.4083 - val_acc: 0.4973s: 1. - ET - ETA: 2s - l\n",
      "Epoch 13/100\n",
      "50000/50000 [==============================] - 9s 183us/step - loss: 1.2845 - acc: 0.5437 - val_loss: 1.4339 - val_acc: 0.4912\n",
      "Epoch 14/100\n",
      "50000/50000 [==============================] - 9s 183us/step - loss: 1.2636 - acc: 0.5500 - val_loss: 1.3672 - val_acc: 0.5163\n",
      "Epoch 15/100\n",
      "50000/50000 [==============================] - 9s 182us/step - loss: 1.2393 - acc: 0.5593 - val_loss: 1.4002 - val_acc: 0.5156\n",
      "Epoch 16/100\n",
      "50000/50000 [==============================] - 9s 181us/step - loss: 1.2194 - acc: 0.5686 - val_loss: 1.3981 - val_acc: 0.5068\n",
      "Epoch 17/100\n",
      "50000/50000 [==============================] - 9s 183us/step - loss: 1.1916 - acc: 0.5761 - val_loss: 1.3463 - val_acc: 0.5226\n",
      "Epoch 18/100\n",
      "50000/50000 [==============================] - 9s 181us/step - loss: 1.1743 - acc: 0.5798 - val_loss: 1.3978 - val_acc: 0.5100\n",
      "Epoch 19/100\n",
      "50000/50000 [==============================] - 9s 182us/step - loss: 1.1629 - acc: 0.5855 - val_loss: 1.3751 - val_acc: 0.5153\n",
      "Epoch 20/100\n",
      "50000/50000 [==============================] - 9s 183us/step - loss: 1.1437 - acc: 0.5925 - val_loss: 1.3817 - val_acc: 0.5168\n",
      "Epoch 21/100\n",
      "50000/50000 [==============================] - 9s 185us/step - loss: 1.1232 - acc: 0.5983 - val_loss: 1.3690 - val_acc: 0.5303\n",
      "Epoch 22/100\n",
      "50000/50000 [==============================] - 9s 184us/step - loss: 1.1033 - acc: 0.6056 - val_loss: 1.3981 - val_acc: 0.5163\n",
      "Epoch 23/100\n",
      "50000/50000 [==============================] - 9s 183us/step - loss: 1.0764 - acc: 0.6183 - val_loss: 1.3682 - val_acc: 0.5329\n",
      "Epoch 24/100\n",
      "50000/50000 [==============================] - 9s 183us/step - loss: 1.0591 - acc: 0.6233 - val_loss: 1.3976 - val_acc: 0.5204\n",
      "Epoch 25/100\n",
      "50000/50000 [==============================] - 9s 182us/step - loss: 1.0461 - acc: 0.6266 - val_loss: 1.4117 - val_acc: 0.5189\n",
      "Epoch 26/100\n",
      "50000/50000 [==============================] - 9s 183us/step - loss: 1.0257 - acc: 0.6339 - val_loss: 1.4200 - val_acc: 0.5271\n",
      "Epoch 27/100\n",
      "50000/50000 [==============================] - 9s 182us/step - loss: 1.0077 - acc: 0.6431 - val_loss: 1.3968 - val_acc: 0.5254\n",
      "Epoch 28/100\n",
      "50000/50000 [==============================] - 9s 182us/step - loss: 0.9849 - acc: 0.6477 - val_loss: 1.4452 - val_acc: 0.5172\n",
      "Epoch 29/100\n",
      "50000/50000 [==============================] - 9s 184us/step - loss: 0.9687 - acc: 0.6523 - val_loss: 1.3993 - val_acc: 0.5250\n",
      "Epoch 30/100\n",
      "50000/50000 [==============================] - 9s 183us/step - loss: 0.9525 - acc: 0.6586 - val_loss: 1.3993 - val_acc: 0.5269\n",
      "Epoch 31/100\n",
      "50000/50000 [==============================] - 9s 177us/step - loss: 0.9384 - acc: 0.6632 - val_loss: 1.4403 - val_acc: 0.5150\n",
      "Epoch 32/100\n",
      "50000/50000 [==============================] - 9s 178us/step - loss: 0.9107 - acc: 0.6745 - val_loss: 1.4224 - val_acc: 0.5255\n",
      "Epoch 33/100\n",
      "50000/50000 [==============================] - 9s 179us/step - loss: 0.9010 - acc: 0.6785 - val_loss: 1.4678 - val_acc: 0.5161\n",
      "Epoch 34/100\n",
      "50000/50000 [==============================] - 9s 181us/step - loss: 0.8846 - acc: 0.6845 - val_loss: 1.4638 - val_acc: 0.5231\n",
      "Epoch 35/100\n",
      "50000/50000 [==============================] - 9s 182us/step - loss: 0.8747 - acc: 0.6877 - val_loss: 1.4566 - val_acc: 0.5304\n",
      "Epoch 36/100\n",
      "50000/50000 [==============================] - 9s 180us/step - loss: 0.8472 - acc: 0.6978 - val_loss: 1.4866 - val_acc: 0.5184\n",
      "Epoch 37/100\n",
      "50000/50000 [==============================] - 9s 181us/step - loss: 0.8369 - acc: 0.7015 - val_loss: 1.5136 - val_acc: 0.5190\n",
      "Epoch 38/100\n",
      "50000/50000 [==============================] - 9s 181us/step - loss: 0.8071 - acc: 0.7122 - val_loss: 1.5210 - val_acc: 0.5204\n",
      "Epoch 39/100\n",
      "50000/50000 [==============================] - 9s 182us/step - loss: 0.8028 - acc: 0.7140 - val_loss: 1.5646 - val_acc: 0.5208\n",
      "Epoch 40/100\n",
      "50000/50000 [==============================] - 9s 181us/step - loss: 0.7822 - acc: 0.7228 - val_loss: 1.5830 - val_acc: 0.5125\n",
      "Epoch 41/100\n",
      "50000/50000 [==============================] - 9s 183us/step - loss: 0.7701 - acc: 0.7267 - val_loss: 1.5543 - val_acc: 0.5188\n",
      "Epoch 42/100\n",
      "50000/50000 [==============================] - 9s 180us/step - loss: 0.7549 - acc: 0.7318 - val_loss: 1.5745 - val_acc: 0.5184:  - ETA: 1s - los\n",
      "Epoch 43/100\n",
      "50000/50000 [==============================] - 9s 181us/step - loss: 0.7404 - acc: 0.7365 - val_loss: 1.6576 - val_acc: 0.5176\n",
      "Epoch 44/100\n",
      "50000/50000 [==============================] - 9s 182us/step - loss: 0.7135 - acc: 0.7456 - val_loss: 1.6365 - val_acc: 0.5228\n",
      "Epoch 45/100\n",
      "50000/50000 [==============================] - 9s 181us/step - loss: 0.7067 - acc: 0.7453 - val_loss: 1.6443 - val_acc: 0.5096\n",
      "Epoch 46/100\n",
      "50000/50000 [==============================] - 9s 180us/step - loss: 0.6987 - acc: 0.7496 - val_loss: 1.7002 - val_acc: 0.5127\n",
      "Epoch 47/100\n",
      "50000/50000 [==============================] - 9s 180us/step - loss: 0.6705 - acc: 0.7607 - val_loss: 1.7888 - val_acc: 0.5031\n",
      "Epoch 48/100\n",
      "50000/50000 [==============================] - 9s 181us/step - loss: 0.6720 - acc: 0.7615 - val_loss: 1.7259 - val_acc: 0.5167\n",
      "Epoch 49/100\n",
      "50000/50000 [==============================] - 9s 182us/step - loss: 0.6457 - acc: 0.7706 - val_loss: 1.7292 - val_acc: 0.5136\n",
      "Epoch 50/100\n",
      "50000/50000 [==============================] - 9s 180us/step - loss: 0.6434 - acc: 0.7715 - val_loss: 1.7913 - val_acc: 0.5043\n",
      "Epoch 51/100\n",
      "50000/50000 [==============================] - 9s 182us/step - loss: 0.6490 - acc: 0.7675 - val_loss: 1.8109 - val_acc: 0.5047\n",
      "Epoch 52/100\n",
      "50000/50000 [==============================] - 9s 181us/step - loss: 0.6241 - acc: 0.7771 - val_loss: 1.8220 - val_acc: 0.5149\n",
      "Epoch 53/100\n",
      "50000/50000 [==============================] - 9s 181us/step - loss: 0.6031 - acc: 0.7848 - val_loss: 1.8412 - val_acc: 0.5238\n",
      "Epoch 54/100\n",
      "50000/50000 [==============================] - 9s 183us/step - loss: 0.5818 - acc: 0.7936 - val_loss: 1.8952 - val_acc: 0.5152\n",
      "Epoch 55/100\n",
      "50000/50000 [==============================] - 9s 180us/step - loss: 0.5898 - acc: 0.7900 - val_loss: 1.8894 - val_acc: 0.5132\n",
      "Epoch 56/100\n",
      "50000/50000 [==============================] - 9s 182us/step - loss: 0.5644 - acc: 0.7987 - val_loss: 1.9685 - val_acc: 0.5153\n",
      "Epoch 57/100\n"
     ]
    },
    {
     "name": "stdout",
     "output_type": "stream",
     "text": [
      "50000/50000 [==============================] - 9s 182us/step - loss: 0.5584 - acc: 0.7992 - val_loss: 1.9697 - val_acc: 0.5094\n",
      "Epoch 58/100\n",
      "50000/50000 [==============================] - 9s 180us/step - loss: 0.5460 - acc: 0.8053 - val_loss: 1.9729 - val_acc: 0.5044\n",
      "Epoch 59/100\n",
      "50000/50000 [==============================] - 9s 181us/step - loss: 0.5467 - acc: 0.8045 - val_loss: 2.0332 - val_acc: 0.5093\n",
      "Epoch 60/100\n",
      "50000/50000 [==============================] - 9s 181us/step - loss: 0.5318 - acc: 0.8091 - val_loss: 2.0231 - val_acc: 0.5115\n",
      "Epoch 61/100\n",
      "50000/50000 [==============================] - 9s 173us/step - loss: 0.5066 - acc: 0.8197 - val_loss: 2.0289 - val_acc: 0.5147\n",
      "Epoch 62/100\n",
      "50000/50000 [==============================] - 9s 176us/step - loss: 0.5183 - acc: 0.8153 - val_loss: 2.0469 - val_acc: 0.5106\n",
      "Epoch 63/100\n",
      "50000/50000 [==============================] - 9s 174us/step - loss: 0.4957 - acc: 0.8235 - val_loss: 2.1023 - val_acc: 0.5114\n",
      "Epoch 64/100\n",
      "50000/50000 [==============================] - 9s 172us/step - loss: 0.4991 - acc: 0.8219 - val_loss: 2.1619 - val_acc: 0.5024\n",
      "Epoch 65/100\n",
      "50000/50000 [==============================] - 9s 172us/step - loss: 0.4834 - acc: 0.8268 - val_loss: 2.1111 - val_acc: 0.5146\n",
      "Epoch 66/100\n",
      "50000/50000 [==============================] - 9s 172us/step - loss: 0.4804 - acc: 0.8272 - val_loss: 2.1743 - val_acc: 0.5095\n",
      "Epoch 67/100\n",
      "50000/50000 [==============================] - 9s 172us/step - loss: 0.4571 - acc: 0.8371 - val_loss: 2.2112 - val_acc: 0.5115\n",
      "Epoch 68/100\n",
      "50000/50000 [==============================] - 9s 173us/step - loss: 0.4489 - acc: 0.8404 - val_loss: 2.2230 - val_acc: 0.5043\n",
      "Epoch 69/100\n",
      "50000/50000 [==============================] - 9s 174us/step - loss: 0.4625 - acc: 0.8336 - val_loss: 2.2969 - val_acc: 0.5088\n",
      "Epoch 70/100\n",
      "50000/50000 [==============================] - 9s 173us/step - loss: 0.4615 - acc: 0.8345 - val_loss: 2.3301 - val_acc: 0.4874\n",
      "Epoch 71/100\n",
      "50000/50000 [==============================] - 9s 173us/step - loss: 0.4371 - acc: 0.8453 - val_loss: 2.3467 - val_acc: 0.5005\n",
      "Epoch 72/100\n",
      "50000/50000 [==============================] - 9s 172us/step - loss: 0.4356 - acc: 0.8443 - val_loss: 2.3419 - val_acc: 0.5072\n",
      "Epoch 73/100\n",
      "50000/50000 [==============================] - 9s 172us/step - loss: 0.4195 - acc: 0.8502 - val_loss: 2.3202 - val_acc: 0.5068\n",
      "Epoch 74/100\n",
      "50000/50000 [==============================] - 9s 173us/step - loss: 0.4225 - acc: 0.8490 - val_loss: 2.3803 - val_acc: 0.5054\n",
      "Epoch 75/100\n",
      "50000/50000 [==============================] - 9s 173us/step - loss: 0.3979 - acc: 0.8572 - val_loss: 2.5191 - val_acc: 0.4970\n",
      "Epoch 76/100\n",
      "50000/50000 [==============================] - 9s 173us/step - loss: 0.3903 - acc: 0.8597 - val_loss: 2.4374 - val_acc: 0.5043\n",
      "Epoch 77/100\n",
      "50000/50000 [==============================] - 9s 172us/step - loss: 0.3857 - acc: 0.8623 - val_loss: 2.4886 - val_acc: 0.5000\n",
      "Epoch 78/100\n",
      "50000/50000 [==============================] - 9s 173us/step - loss: 0.3906 - acc: 0.8597 - val_loss: 2.4934 - val_acc: 0.5039\n",
      "Epoch 79/100\n",
      "50000/50000 [==============================] - 9s 173us/step - loss: 0.4004 - acc: 0.8546 - val_loss: 2.4941 - val_acc: 0.4970\n",
      "Epoch 80/100\n",
      "50000/50000 [==============================] - 9s 175us/step - loss: 0.3766 - acc: 0.8654 - val_loss: 2.5502 - val_acc: 0.4992\n",
      "Epoch 81/100\n",
      "50000/50000 [==============================] - 9s 172us/step - loss: 0.3584 - acc: 0.8719 - val_loss: 2.6197 - val_acc: 0.4976\n",
      "Epoch 82/100\n",
      "50000/50000 [==============================] - 9s 173us/step - loss: 0.3686 - acc: 0.8680 - val_loss: 2.6753 - val_acc: 0.4945\n",
      "Epoch 83/100\n",
      "50000/50000 [==============================] - 9s 173us/step - loss: 0.3587 - acc: 0.8714 - val_loss: 2.6846 - val_acc: 0.5037\n",
      "Epoch 84/100\n",
      "50000/50000 [==============================] - 9s 173us/step - loss: 0.3567 - acc: 0.8725 - val_loss: 2.6294 - val_acc: 0.5001\n",
      "Epoch 85/100\n",
      "50000/50000 [==============================] - 9s 173us/step - loss: 0.3474 - acc: 0.8760 - val_loss: 2.6872 - val_acc: 0.4975\n",
      "Epoch 86/100\n",
      "50000/50000 [==============================] - 9s 174us/step - loss: 0.3388 - acc: 0.8781 - val_loss: 2.7493 - val_acc: 0.5044\n",
      "Epoch 87/100\n",
      "50000/50000 [==============================] - 9s 173us/step - loss: 0.3599 - acc: 0.8704 - val_loss: 2.6882 - val_acc: 0.4988\n",
      "Epoch 88/100\n",
      "50000/50000 [==============================] - 9s 172us/step - loss: 0.3240 - acc: 0.8831 - val_loss: 2.8145 - val_acc: 0.5004\n",
      "Epoch 89/100\n",
      "50000/50000 [==============================] - 9s 173us/step - loss: 0.3147 - acc: 0.8873 - val_loss: 2.8314 - val_acc: 0.5112\n",
      "Epoch 90/100\n",
      "50000/50000 [==============================] - 9s 173us/step - loss: 0.3025 - acc: 0.8916 - val_loss: 2.8342 - val_acc: 0.4996\n",
      "Epoch 91/100\n",
      "50000/50000 [==============================] - 9s 172us/step - loss: 0.3405 - acc: 0.8775 - val_loss: 2.8325 - val_acc: 0.4987\n",
      "Epoch 92/100\n",
      "50000/50000 [==============================] - 9s 174us/step - loss: 0.3063 - acc: 0.8910 - val_loss: 2.8695 - val_acc: 0.4940\n",
      "Epoch 93/100\n",
      "50000/50000 [==============================] - 9s 172us/step - loss: 0.3198 - acc: 0.8849 - val_loss: 2.8931 - val_acc: 0.5037\n",
      "Epoch 94/100\n",
      "50000/50000 [==============================] - 9s 173us/step - loss: 0.3038 - acc: 0.8905 - val_loss: 2.8616 - val_acc: 0.4985\n",
      "Epoch 95/100\n",
      "50000/50000 [==============================] - 9s 172us/step - loss: 0.3262 - acc: 0.8820 - val_loss: 3.0105 - val_acc: 0.4904\n",
      "Epoch 96/100\n",
      "50000/50000 [==============================] - 9s 173us/step - loss: 0.2991 - acc: 0.8923 - val_loss: 2.9268 - val_acc: 0.4870\n",
      "Epoch 97/100\n",
      "50000/50000 [==============================] - 10s 196us/step - loss: 0.2930 - acc: 0.8947 - val_loss: 2.9821 - val_acc: 0.4974\n",
      "Epoch 98/100\n",
      "50000/50000 [==============================] - 11s 225us/step - loss: 0.3119 - acc: 0.8882 - val_loss: 3.0013 - val_acc: 0.4962\n",
      "Epoch 99/100\n",
      "50000/50000 [==============================] - 12s 236us/step - loss: 0.2967 - acc: 0.8931 - val_loss: 3.0420 - val_acc: 0.4988\n",
      "Epoch 100/100\n",
      "50000/50000 [==============================] - 10s 208us/step - loss: 0.2743 - acc: 0.9028 - val_loss: 2.9797 - val_acc: 0.5066\n",
      "Total run time is 15.0 min, 3.4647932052612305 sec\n"
     ]
    }
   ],
   "source": [
    "time_start = time()\n",
    "model.fit(x_train, y_train, \n",
    "          epochs=EPOCHS, \n",
    "          batch_size=BATCH_SIZE, \n",
    "          validation_data=(x_test, y_test), \n",
    "          shuffle=True)\n",
    "time_stop = time()-time_start\n",
    "print(f\"Total run time is {time_stop//60} min, {time_stop%60} sec\")"
   ]
  },
  {
   "cell_type": "markdown",
   "metadata": {},
   "source": [
    "> 使用cpu，跑了15分鐘半"
   ]
  },
  {
   "cell_type": "code",
   "execution_count": 11,
   "metadata": {},
   "outputs": [
    {
     "data": {
      "image/png": "[encoded data removed]",
      "text/plain": [
       "<Figure size 432x288 with 1 Axes>"
      ]
     },
     "metadata": {
      "needs_background": "light"
     },
     "output_type": "display_data"
    },
    {
     "data": {
      "image/png": "[encoded data removed]",
      "text/plain": [
       "<Figure size 432x288 with 1 Axes>"
      ]
     },
     "metadata": {
      "needs_background": "light"
     },
     "output_type": "display_data"
    }
   ],
   "source": [
    "import matplotlib.pyplot as plt\n",
    "%matplotlib inline\n",
    "\n",
    "train_loss = model.history.history[\"loss\"]\n",
    "valid_loss = model.history.history[\"val_loss\"]\n",
    "\n",
    "train_acc = model.history.history[\"acc\"]\n",
    "valid_acc = model.history.history[\"val_acc\"]\n",
    "\n",
    "plt.plot(range(len(train_loss)), train_loss, label=\"train loss\")\n",
    "plt.plot(range(len(valid_loss)), valid_loss, label=\"valid loss\")\n",
    "plt.legend()\n",
    "plt.title(\"Loss\")\n",
    "plt.show()\n",
    "\n",
    "plt.plot(range(len(train_acc)), train_acc, label=\"train accuracy\")\n",
    "plt.plot(range(len(valid_acc)), valid_acc, label=\"valid accuracy\")\n",
    "plt.legend()\n",
    "plt.title(\"Accuracy\")\n",
    "plt.show()"
   ]
  },
  {
   "cell_type": "markdown",
   "metadata": {},
   "source": [
    "## 作業\n",
    "1. 請嘗試將 preproc_x 替換成以每筆資料的 min/max 進行標準化至 -1 ~ 1 間，再進行訓練\n",
    "2. 請嘗試將 mlp 疊更深 (e.g 5~10 層)，進行訓練後觀察 learning curve 的走勢\n",
    "3. (optional) 請改用 GPU 進行訓練 (如果你有 GPU 的話)，比較使用 CPU 與 GPU 的訓練速度"
   ]
  },
  {
   "cell_type": "code",
   "execution_count": 12,
   "metadata": {},
   "outputs": [
    {
     "name": "stdout",
     "output_type": "stream",
     "text": [
      "Sun Apr 14 23:24:29 2019       \n",
      "+-----------------------------------------------------------------------------+\n",
      "| NVIDIA-SMI 419.67       Driver Version: 419.67       CUDA Version: 10.1     |\n",
      "|-------------------------------+----------------------+----------------------+\n",
      "| GPU  Name            TCC/WDDM | Bus-Id        Disp.A | Volatile Uncorr. ECC |\n",
      "| Fan  Temp  Perf  Pwr:Usage/Cap|         Memory-Usage | GPU-Util  Compute M. |\n",
      "|===============================+======================+======================|\n",
      "|   0  GeForce GTX 1060   WDDM  | 00000000:01:00.0 Off |                  N/A |\n",
      "| N/A   61C    P8     6W /  N/A |     92MiB /  6144MiB |      0%      Default |\n",
      "+-------------------------------+----------------------+----------------------+\n",
      "                                                                               \n",
      "+-----------------------------------------------------------------------------+\n",
      "| Processes:                                                       GPU Memory |\n",
      "|  GPU       PID   Type   Process name                             Usage      |\n",
      "|=============================================================================|\n",
      "|    0     13660    C+G   Insufficient Permissions                   N/A      |\n",
      "+-----------------------------------------------------------------------------+\n"
     ]
    }
   ],
   "source": [
    "## 確認硬體資源\n",
    "\"\"\"\n",
    "Your code here\n",
    "\"\"\"\n",
    "!nvidia-smi"
   ]
  },
  {
   "cell_type": "code",
   "execution_count": 9,
   "metadata": {},
   "outputs": [],
   "source": [
    "# Try to enable GPU (optional)\n",
    "os.environ['CUDA_VISIBLE_DEVICES'] = \"0\""
   ]
  },
  {
   "cell_type": "code",
   "execution_count": 10,
   "metadata": {},
   "outputs": [],
   "source": [
    "train, test = keras.datasets.cifar10.load_data()"
   ]
  },
  {
   "cell_type": "markdown",
   "metadata": {},
   "source": [
    "使用以下公式標準化\n",
    "\n",
    "$$X'=a+(b-a)\\frac{X-X_{min}}{X_{max}-X_{min}}$$\n",
    "\n",
    "b為上限，a為下限"
   ]
  },
  {
   "cell_type": "code",
   "execution_count": 11,
   "metadata": {},
   "outputs": [],
   "source": [
    "## 資料前處理\n",
    "def preproc_x(x, flatten=True):\n",
    "    x = -1+2*(x-x.min()/(x.max()-x.min()))\n",
    "    if flatten:\n",
    "        x = x.reshape((len(x), -1))\n",
    "    return x\n",
    "\n",
    "def preproc_y(y, num_classes=10):\n",
    "    if y.shape[-1] == 1:\n",
    "        y = keras.utils.to_categorical(y, num_classes)\n",
    "    return y    "
   ]
  },
  {
   "cell_type": "code",
   "execution_count": 12,
   "metadata": {},
   "outputs": [],
   "source": [
    "x_train, y_train = train\n",
    "x_test, y_test = test\n",
    "\n",
    "# Preproc the inputs\n",
    "x_train = preproc_x(x_train)\n",
    "x_test = preproc_x(x_test)\n",
    "\n",
    "# Preprc the outputs\n",
    "y_train = preproc_y(y_train)\n",
    "y_test = preproc_y(y_test)"
   ]
  },
  {
   "cell_type": "code",
   "execution_count": 13,
   "metadata": {},
   "outputs": [
    {
     "name": "stdout",
     "output_type": "stream",
     "text": [
      "_________________________________________________________________\n",
      "Layer (type)                 Output Shape              Param #   \n",
      "=================================================================\n",
      "input_2 (InputLayer)         (None, 3072)              0         \n",
      "_________________________________________________________________\n",
      "hidden_layer1 (Dense)        (None, 512)               1573376   \n",
      "_________________________________________________________________\n",
      "hidden_layer2 (Dense)        (None, 256)               131328    \n",
      "_________________________________________________________________\n",
      "hidden_layer3 (Dense)        (None, 128)               32896     \n",
      "_________________________________________________________________\n",
      "hidden_layer4 (Dense)        (None, 64)                8256      \n",
      "_________________________________________________________________\n",
      "hidden_layer5 (Dense)        (None, 32)                2080      \n",
      "_________________________________________________________________\n",
      "output (Dense)               (None, 10)                330       \n",
      "=================================================================\n",
      "Total params: 1,748,266\n",
      "Trainable params: 1,748,266\n",
      "Non-trainable params: 0\n",
      "_________________________________________________________________\n"
     ]
    }
   ],
   "source": [
    "\"\"\"\n",
    "Your code here\n",
    "\"\"\"\n",
    "model = build_mlp(input_shape=x_train.shape[1:], num_neurons=[512, 256, 128, 64, 32])\n",
    "model.summary()\n"
   ]
  },
  {
   "cell_type": "code",
   "execution_count": 17,
   "metadata": {},
   "outputs": [],
   "source": [
    "## 超參數設定\n",
    "LEARNING_RATE = 0.001\n",
    "EPOCHS = 100\n",
    "BATCH_SIZE = 256"
   ]
  },
  {
   "cell_type": "code",
   "execution_count": 15,
   "metadata": {},
   "outputs": [],
   "source": [
    "optimizer = keras.optimizers.Adam(lr=LEARNING_RATE)\n",
    "model.compile(loss=\"categorical_crossentropy\", metrics=[\"accuracy\"], optimizer=optimizer)"
   ]
  },
  {
   "cell_type": "code",
   "execution_count": 18,
   "metadata": {},
   "outputs": [
    {
     "name": "stdout",
     "output_type": "stream",
     "text": [
      "Train on 50000 samples, validate on 10000 samples\n",
      "Epoch 1/100\n",
      "50000/50000 [==============================] - 2s 38us/step - loss: 14.5063 - acc: 0.1000 - val_loss: 14.5063 - val_acc: 0.1000\n",
      "Epoch 2/100\n",
      "50000/50000 [==============================] - 2s 35us/step - loss: 14.5063 - acc: 0.1000 - val_loss: 14.5063 - val_acc: 0.1000\n",
      "Epoch 3/100\n",
      "50000/50000 [==============================] - 2s 35us/step - loss: 14.5063 - acc: 0.1000 - val_loss: 14.5063 - val_acc: 0.1000\n",
      "Epoch 4/100\n",
      "50000/50000 [==============================] - 2s 35us/step - loss: 14.5063 - acc: 0.1000 - val_loss: 14.5063 - val_acc: 0.1000\n",
      "Epoch 5/100\n",
      "50000/50000 [==============================] - 2s 36us/step - loss: 14.5063 - acc: 0.1000 - val_loss: 14.5063 - val_acc: 0.1000\n",
      "Epoch 6/100\n",
      "50000/50000 [==============================] - 2s 37us/step - loss: 14.5063 - acc: 0.1000 - val_loss: 14.5063 - val_acc: 0.1000\n",
      "Epoch 7/100\n",
      "50000/50000 [==============================] - 2s 35us/step - loss: 14.5063 - acc: 0.1000 - val_loss: 14.5063 - val_acc: 0.1000\n",
      "Epoch 8/100\n",
      "50000/50000 [==============================] - 2s 36us/step - loss: 14.5063 - acc: 0.1000 - val_loss: 14.5063 - val_acc: 0.1000\n",
      "Epoch 9/100\n",
      "50000/50000 [==============================] - 2s 37us/step - loss: 14.5063 - acc: 0.1000 - val_loss: 14.5063 - val_acc: 0.1000\n",
      "Epoch 10/100\n",
      "50000/50000 [==============================] - 2s 36us/step - loss: 14.5063 - acc: 0.1000 - val_loss: 14.5063 - val_acc: 0.1000\n",
      "Epoch 11/100\n",
      "50000/50000 [==============================] - 2s 40us/step - loss: 14.5063 - acc: 0.1000 - val_loss: 14.5063 - val_acc: 0.1000\n",
      "Epoch 12/100\n",
      "50000/50000 [==============================] - 2s 37us/step - loss: 14.5063 - acc: 0.1000 - val_loss: 14.5063 - val_acc: 0.1000\n",
      "Epoch 13/100\n",
      "50000/50000 [==============================] - 2s 37us/step - loss: 14.5063 - acc: 0.1000 - val_loss: 14.5063 - val_acc: 0.1000\n",
      "Epoch 14/100\n",
      "50000/50000 [==============================] - 2s 39us/step - loss: 14.5063 - acc: 0.1000 - val_loss: 14.5063 - val_acc: 0.1000\n",
      "Epoch 15/100\n",
      "50000/50000 [==============================] - 2s 38us/step - loss: 14.5063 - acc: 0.1000 - val_loss: 14.5063 - val_acc: 0.1000\n",
      "Epoch 16/100\n",
      "50000/50000 [==============================] - 2s 39us/step - loss: 14.5063 - acc: 0.1000 - val_loss: 14.5063 - val_acc: 0.1000\n",
      "Epoch 17/100\n",
      "50000/50000 [==============================] - 2s 40us/step - loss: 14.5063 - acc: 0.1000 - val_loss: 14.5063 - val_acc: 0.1000\n",
      "Epoch 18/100\n",
      "50000/50000 [==============================] - 2s 39us/step - loss: 14.5063 - acc: 0.1000 - val_loss: 14.5063 - val_acc: 0.1000\n",
      "Epoch 19/100\n",
      "50000/50000 [==============================] - 2s 37us/step - loss: 14.5063 - acc: 0.1000 - val_loss: 14.5063 - val_acc: 0.1000\n",
      "Epoch 20/100\n",
      "50000/50000 [==============================] - 2s 38us/step - loss: 14.5063 - acc: 0.1000 - val_loss: 14.5063 - val_acc: 0.1000\n",
      "Epoch 21/100\n",
      "50000/50000 [==============================] - 2s 37us/step - loss: 14.5063 - acc: 0.1000 - val_loss: 14.5063 - val_acc: 0.1000\n",
      "Epoch 22/100\n",
      "50000/50000 [==============================] - 2s 38us/step - loss: 14.5063 - acc: 0.1000 - val_loss: 14.5063 - val_acc: 0.1000\n",
      "Epoch 23/100\n",
      "50000/50000 [==============================] - 2s 38us/step - loss: 14.5063 - acc: 0.1000 - val_loss: 14.5063 - val_acc: 0.1000\n",
      "Epoch 24/100\n",
      "50000/50000 [==============================] - 2s 36us/step - loss: 14.5063 - acc: 0.1000 - val_loss: 14.5063 - val_acc: 0.1000\n",
      "Epoch 25/100\n",
      "50000/50000 [==============================] - 2s 39us/step - loss: 14.5063 - acc: 0.1000 - val_loss: 14.5063 - val_acc: 0.1000\n",
      "Epoch 26/100\n",
      "50000/50000 [==============================] - 2s 36us/step - loss: 14.5063 - acc: 0.1000 - val_loss: 14.5063 - val_acc: 0.1000\n",
      "Epoch 27/100\n",
      "50000/50000 [==============================] - 2s 35us/step - loss: 14.5063 - acc: 0.1000 - val_loss: 14.5063 - val_acc: 0.1000\n",
      "Epoch 28/100\n",
      "50000/50000 [==============================] - 2s 35us/step - loss: 14.5063 - acc: 0.1000 - val_loss: 14.5063 - val_acc: 0.1000\n",
      "Epoch 29/100\n",
      "50000/50000 [==============================] - 2s 35us/step - loss: 14.5063 - acc: 0.1000 - val_loss: 14.5063 - val_acc: 0.1000\n",
      "Epoch 30/100\n",
      "50000/50000 [==============================] - 2s 35us/step - loss: 14.5063 - acc: 0.1000 - val_loss: 14.5063 - val_acc: 0.1000\n",
      "Epoch 31/100\n",
      "50000/50000 [==============================] - 2s 35us/step - loss: 14.5063 - acc: 0.1000 - val_loss: 14.5063 - val_acc: 0.1000\n",
      "Epoch 32/100\n",
      "50000/50000 [==============================] - 2s 38us/step - loss: 14.5063 - acc: 0.1000 - val_loss: 14.5063 - val_acc: 0.1000\n",
      "Epoch 33/100\n",
      "50000/50000 [==============================] - 2s 38us/step - loss: 14.5063 - acc: 0.1000 - val_loss: 14.5063 - val_acc: 0.1000\n",
      "Epoch 34/100\n",
      "50000/50000 [==============================] - 2s 38us/step - loss: 14.5063 - acc: 0.1000 - val_loss: 14.5063 - val_acc: 0.1000\n",
      "Epoch 35/100\n",
      "50000/50000 [==============================] - 2s 38us/step - loss: 14.5063 - acc: 0.1000 - val_loss: 14.5063 - val_acc: 0.1000\n",
      "Epoch 36/100\n",
      "50000/50000 [==============================] - 2s 34us/step - loss: 14.5063 - acc: 0.1000 - val_loss: 14.5063 - val_acc: 0.1000\n",
      "Epoch 37/100\n",
      "50000/50000 [==============================] - 2s 34us/step - loss: 14.5063 - acc: 0.1000 - val_loss: 14.5063 - val_acc: 0.1000\n",
      "Epoch 38/100\n",
      "50000/50000 [==============================] - 2s 34us/step - loss: 14.5063 - acc: 0.1000 - val_loss: 14.5063 - val_acc: 0.1000\n",
      "Epoch 39/100\n",
      "50000/50000 [==============================] - 2s 34us/step - loss: 14.5063 - acc: 0.1000 - val_loss: 14.5063 - val_acc: 0.1000\n",
      "Epoch 40/100\n",
      "50000/50000 [==============================] - 2s 34us/step - loss: 14.5063 - acc: 0.1000 - val_loss: 14.5063 - val_acc: 0.1000\n",
      "Epoch 41/100\n",
      "50000/50000 [==============================] - 2s 34us/step - loss: 14.5063 - acc: 0.1000 - val_loss: 14.5063 - val_acc: 0.1000\n",
      "Epoch 42/100\n",
      "50000/50000 [==============================] - 2s 35us/step - loss: 14.5063 - acc: 0.1000 - val_loss: 14.5063 - val_acc: 0.1000\n",
      "Epoch 43/100\n",
      "50000/50000 [==============================] - 2s 34us/step - loss: 14.5063 - acc: 0.1000 - val_loss: 14.5063 - val_acc: 0.1000\n",
      "Epoch 44/100\n",
      "50000/50000 [==============================] - 2s 35us/step - loss: 14.5063 - acc: 0.1000 - val_loss: 14.5063 - val_acc: 0.1000\n",
      "Epoch 45/100\n",
      "50000/50000 [==============================] - 2s 39us/step - loss: 14.5063 - acc: 0.1000 - val_loss: 14.5063 - val_acc: 0.1000\n",
      "Epoch 46/100\n",
      "50000/50000 [==============================] - 2s 38us/step - loss: 14.5063 - acc: 0.1000 - val_loss: 14.5063 - val_acc: 0.1000\n",
      "Epoch 47/100\n",
      "50000/50000 [==============================] - 2s 43us/step - loss: 14.5063 - acc: 0.1000 - val_loss: 14.5063 - val_acc: 0.1000\n",
      "Epoch 48/100\n",
      "50000/50000 [==============================] - 2s 35us/step - loss: 14.5063 - acc: 0.1000 - val_loss: 14.5063 - val_acc: 0.1000\n",
      "Epoch 49/100\n",
      "50000/50000 [==============================] - 2s 34us/step - loss: 14.5063 - acc: 0.1000 - val_loss: 14.5063 - val_acc: 0.1000\n",
      "Epoch 50/100\n",
      "50000/50000 [==============================] - 2s 33us/step - loss: 14.5063 - acc: 0.1000 - val_loss: 14.5063 - val_acc: 0.1000\n",
      "Epoch 51/100\n",
      "50000/50000 [==============================] - 2s 33us/step - loss: 14.5063 - acc: 0.1000 - val_loss: 14.5063 - val_acc: 0.1000\n",
      "Epoch 52/100\n",
      "50000/50000 [==============================] - 2s 33us/step - loss: 14.5063 - acc: 0.1000 - val_loss: 14.5063 - val_acc: 0.1000\n",
      "Epoch 53/100\n",
      "50000/50000 [==============================] - 2s 33us/step - loss: 14.5063 - acc: 0.1000 - val_loss: 14.5063 - val_acc: 0.1000\n",
      "Epoch 54/100\n",
      "50000/50000 [==============================] - 2s 32us/step - loss: 14.5063 - acc: 0.1000 - val_loss: 14.5063 - val_acc: 0.1000\n",
      "Epoch 55/100\n",
      "50000/50000 [==============================] - 2s 34us/step - loss: 14.5063 - acc: 0.1000 - val_loss: 14.5063 - val_acc: 0.1000\n",
      "Epoch 56/100\n",
      "50000/50000 [==============================] - 2s 33us/step - loss: 14.5063 - acc: 0.1000 - val_loss: 14.5063 - val_acc: 0.1000\n",
      "Epoch 57/100\n",
      "50000/50000 [==============================] - 2s 33us/step - loss: 14.5063 - acc: 0.1000 - val_loss: 14.5063 - val_acc: 0.1000\n",
      "Epoch 58/100\n",
      "50000/50000 [==============================] - 2s 33us/step - loss: 14.5063 - acc: 0.1000 - val_loss: 14.5063 - val_acc: 0.1000\n"
     ]
    },
    {
     "name": "stdout",
     "output_type": "stream",
     "text": [
      "Epoch 59/100\n",
      "50000/50000 [==============================] - 2s 33us/step - loss: 14.5063 - acc: 0.1000 - val_loss: 14.5063 - val_acc: 0.1000\n",
      "Epoch 60/100\n",
      "50000/50000 [==============================] - 2s 33us/step - loss: 14.5063 - acc: 0.1000 - val_loss: 14.5063 - val_acc: 0.1000\n",
      "Epoch 61/100\n",
      "50000/50000 [==============================] - 2s 35us/step - loss: 14.5063 - acc: 0.1000 - val_loss: 14.5063 - val_acc: 0.1000\n",
      "Epoch 62/100\n",
      "50000/50000 [==============================] - 2s 33us/step - loss: 14.5063 - acc: 0.1000 - val_loss: 14.5063 - val_acc: 0.1000\n",
      "Epoch 63/100\n",
      "50000/50000 [==============================] - 2s 34us/step - loss: 14.5063 - acc: 0.1000 - val_loss: 14.5063 - val_acc: 0.1000\n",
      "Epoch 64/100\n",
      "50000/50000 [==============================] - 2s 33us/step - loss: 14.5063 - acc: 0.1000 - val_loss: 14.5063 - val_acc: 0.1000\n",
      "Epoch 65/100\n",
      "50000/50000 [==============================] - 2s 35us/step - loss: 14.5063 - acc: 0.1000 - val_loss: 14.5063 - val_acc: 0.1000\n",
      "Epoch 66/100\n",
      "50000/50000 [==============================] - 2s 35us/step - loss: 14.5063 - acc: 0.1000 - val_loss: 14.5063 - val_acc: 0.1000\n",
      "Epoch 67/100\n",
      "50000/50000 [==============================] - 2s 33us/step - loss: 14.5063 - acc: 0.1000 - val_loss: 14.5063 - val_acc: 0.1000\n",
      "Epoch 68/100\n",
      "50000/50000 [==============================] - 2s 35us/step - loss: 14.5063 - acc: 0.1000 - val_loss: 14.5063 - val_acc: 0.1000\n",
      "Epoch 69/100\n",
      "50000/50000 [==============================] - 2s 34us/step - loss: 14.5063 - acc: 0.1000 - val_loss: 14.5063 - val_acc: 0.1000\n",
      "Epoch 70/100\n",
      "50000/50000 [==============================] - 2s 34us/step - loss: 14.5063 - acc: 0.1000 - val_loss: 14.5063 - val_acc: 0.1000\n",
      "Epoch 71/100\n",
      "50000/50000 [==============================] - 2s 36us/step - loss: 14.5063 - acc: 0.1000 - val_loss: 14.5063 - val_acc: 0.1000\n",
      "Epoch 72/100\n",
      "50000/50000 [==============================] - 2s 34us/step - loss: 14.5063 - acc: 0.1000 - val_loss: 14.5063 - val_acc: 0.1000\n",
      "Epoch 73/100\n",
      "50000/50000 [==============================] - 2s 33us/step - loss: 14.5063 - acc: 0.1000 - val_loss: 14.5063 - val_acc: 0.1000\n",
      "Epoch 74/100\n",
      "50000/50000 [==============================] - 2s 33us/step - loss: 14.5063 - acc: 0.1000 - val_loss: 14.5063 - val_acc: 0.1000\n",
      "Epoch 75/100\n",
      "50000/50000 [==============================] - 2s 33us/step - loss: 14.5063 - acc: 0.1000 - val_loss: 14.5063 - val_acc: 0.1000\n",
      "Epoch 76/100\n",
      "50000/50000 [==============================] - 2s 33us/step - loss: 14.5063 - acc: 0.1000 - val_loss: 14.5063 - val_acc: 0.1000\n",
      "Epoch 77/100\n",
      "50000/50000 [==============================] - 2s 36us/step - loss: 14.5063 - acc: 0.1000 - val_loss: 14.5063 - val_acc: 0.1000\n",
      "Epoch 78/100\n",
      "50000/50000 [==============================] - 2s 37us/step - loss: 14.5063 - acc: 0.1000 - val_loss: 14.5063 - val_acc: 0.1000\n",
      "Epoch 79/100\n",
      "50000/50000 [==============================] - 2s 39us/step - loss: 14.5063 - acc: 0.1000 - val_loss: 14.5063 - val_acc: 0.1000\n",
      "Epoch 80/100\n",
      "50000/50000 [==============================] - 2s 39us/step - loss: 14.5063 - acc: 0.1000 - val_loss: 14.5063 - val_acc: 0.1000\n",
      "Epoch 81/100\n",
      "50000/50000 [==============================] - 2s 36us/step - loss: 14.5063 - acc: 0.1000 - val_loss: 14.5063 - val_acc: 0.1000\n",
      "Epoch 82/100\n",
      "50000/50000 [==============================] - 2s 36us/step - loss: 14.5063 - acc: 0.1000 - val_loss: 14.5063 - val_acc: 0.1000\n",
      "Epoch 83/100\n",
      "50000/50000 [==============================] - 2s 35us/step - loss: 14.5063 - acc: 0.1000 - val_loss: 14.5063 - val_acc: 0.1000\n",
      "Epoch 84/100\n",
      "50000/50000 [==============================] - 2s 37us/step - loss: 14.5063 - acc: 0.1000 - val_loss: 14.5063 - val_acc: 0.1000\n",
      "Epoch 85/100\n",
      "50000/50000 [==============================] - 2s 36us/step - loss: 14.5063 - acc: 0.1000 - val_loss: 14.5063 - val_acc: 0.1000\n",
      "Epoch 86/100\n",
      "50000/50000 [==============================] - 2s 37us/step - loss: 14.5063 - acc: 0.1000 - val_loss: 14.5063 - val_acc: 0.1000\n",
      "Epoch 87/100\n",
      "50000/50000 [==============================] - 2s 37us/step - loss: 14.5063 - acc: 0.1000 - val_loss: 14.5063 - val_acc: 0.1000\n",
      "Epoch 88/100\n",
      "50000/50000 [==============================] - 2s 37us/step - loss: 14.5063 - acc: 0.1000 - val_loss: 14.5063 - val_acc: 0.1000\n",
      "Epoch 89/100\n",
      "50000/50000 [==============================] - 2s 36us/step - loss: 14.5063 - acc: 0.1000 - val_loss: 14.5063 - val_acc: 0.1000\n",
      "Epoch 90/100\n",
      "50000/50000 [==============================] - 2s 36us/step - loss: 14.5063 - acc: 0.1000 - val_loss: 14.5063 - val_acc: 0.1000\n",
      "Epoch 91/100\n",
      "50000/50000 [==============================] - 2s 37us/step - loss: 14.5063 - acc: 0.1000 - val_loss: 14.5063 - val_acc: 0.1000\n",
      "Epoch 92/100\n",
      "50000/50000 [==============================] - 2s 37us/step - loss: 14.5063 - acc: 0.1000 - val_loss: 14.5063 - val_acc: 0.1000\n",
      "Epoch 93/100\n",
      "50000/50000 [==============================] - 2s 35us/step - loss: 14.5063 - acc: 0.1000 - val_loss: 14.5063 - val_acc: 0.1000\n",
      "Epoch 94/100\n",
      "50000/50000 [==============================] - 2s 35us/step - loss: 14.5063 - acc: 0.1000 - val_loss: 14.5063 - val_acc: 0.1000\n",
      "Epoch 95/100\n",
      "50000/50000 [==============================] - 2s 34us/step - loss: 14.5063 - acc: 0.1000 - val_loss: 14.5063 - val_acc: 0.1000\n",
      "Epoch 96/100\n",
      "50000/50000 [==============================] - 2s 36us/step - loss: 14.5063 - acc: 0.1000 - val_loss: 14.5063 - val_acc: 0.1000\n",
      "Epoch 97/100\n",
      "50000/50000 [==============================] - 2s 40us/step - loss: 14.5063 - acc: 0.1000 - val_loss: 14.5063 - val_acc: 0.1000\n",
      "Epoch 98/100\n",
      "50000/50000 [==============================] - 2s 41us/step - loss: 14.5063 - acc: 0.1000 - val_loss: 14.5063 - val_acc: 0.1000\n",
      "Epoch 99/100\n",
      "50000/50000 [==============================] - 2s 37us/step - loss: 14.5063 - acc: 0.1000 - val_loss: 14.5063 - val_acc: 0.1000\n",
      "Epoch 100/100\n",
      "50000/50000 [==============================] - 2s 36us/step - loss: 14.5063 - acc: 0.1000 - val_loss: 14.5063 - val_acc: 0.1000\n",
      "Total run time is 2.0 min, 59.1830096244812 sec\n"
     ]
    }
   ],
   "source": [
    "time_start = time()\n",
    "model.fit(x_train, y_train, \n",
    "          epochs=EPOCHS, \n",
    "          batch_size=BATCH_SIZE, \n",
    "          validation_data=(x_test, y_test), \n",
    "          shuffle=True)\n",
    "time_stop = time()-time_start\n",
    "print(f\"Total run time is {time_stop//60} min, {time_stop%60} sec\")"
   ]
  },
  {
   "cell_type": "markdown",
   "metadata": {},
   "source": [
    "> 使用GPU，跑了三分鐘"
   ]
  },
  {
   "cell_type": "code",
   "execution_count": 20,
   "metadata": {},
   "outputs": [
    {
     "data": {
      "image/png": "[encoded data removed]",
      "text/plain": [
       "<Figure size 432x288 with 1 Axes>"
      ]
     },
     "metadata": {
      "needs_background": "light"
     },
     "output_type": "display_data"
    },
    {
     "data": {
      "image/png": "[encoded data removed]",
      "text/plain": [
       "<Figure size 432x288 with 1 Axes>"
      ]
     },
     "metadata": {
      "needs_background": "light"
     },
     "output_type": "display_data"
    }
   ],
   "source": [
    "import matplotlib.pyplot as plt\n",
    "%matplotlib inline\n",
    "train_loss = model.history.history[\"loss\"]\n",
    "valid_loss = model.history.history[\"val_loss\"]\n",
    "\n",
    "train_acc = model.history.history[\"acc\"]\n",
    "valid_acc = model.history.history[\"val_acc\"]\n",
    "\n",
    "plt.plot(range(len(train_loss)), train_loss, label=\"train loss\")\n",
    "plt.plot(range(len(valid_loss)), valid_loss, label=\"valid loss\")\n",
    "plt.legend()\n",
    "plt.title(\"Loss\")\n",
    "plt.show()\n",
    "\n",
    "plt.plot(range(len(train_acc)), train_acc, label=\"train accuracy\")\n",
    "plt.plot(range(len(valid_acc)), valid_acc, label=\"valid accuracy\")\n",
    "plt.legend()\n",
    "plt.title(\"Accuracy\")\n",
    "plt.show()"
   ]
  }
 ],
 "metadata": {
  "kernelspec": {
   "display_name": "Python 3",
   "language": "python",
   "name": "python3"
  },
  "language_info": {
   "codemirror_mode": {
    "name": "ipython",
    "version": 3
   },
   "file_extension": ".py",
   "mimetype": "text/x-python",
   "name": "python",
   "nbconvert_exporter": "python",
   "pygments_lexer": "ipython3",
   "version": "3.7.3"
  }
 },
 "nbformat": 4,
 "nbformat_minor": 2
}
