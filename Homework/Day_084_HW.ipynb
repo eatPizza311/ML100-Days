{
 "cells": [
  {
   "cell_type": "markdown",
   "metadata": {},
   "source": [
    "## Work\n",
    "請結合前面的知識與程式碼，比較不同的 regularization 的組合對訓練的結果與影響：如 dropout, regularizers, batch-normalization 等"
   ]
  },
  {
   "cell_type": "code",
   "execution_count": 1,
   "metadata": {},
   "outputs": [
    {
     "name": "stderr",
     "output_type": "stream",
     "text": [
      "Using TensorFlow backend.\n"
     ]
    }
   ],
   "source": [
    "import keras"
   ]
  },
  {
   "cell_type": "code",
   "execution_count": 2,
   "metadata": {},
   "outputs": [],
   "source": [
    "train, test = keras.datasets.cifar10.load_data()"
   ]
  },
  {
   "cell_type": "code",
   "execution_count": 3,
   "metadata": {},
   "outputs": [],
   "source": [
    "## 資料前處理\n",
    "def preproc_x(x, flatten=True):\n",
    "    x = x / 255.\n",
    "    if flatten:\n",
    "        x = x.reshape((len(x), -1))\n",
    "    return x\n",
    "\n",
    "def preproc_y(y, num_classes=10):\n",
    "    if y.shape[-1] == 1:\n",
    "        y = keras.utils.to_categorical(y, num_classes)\n",
    "    return y    "
   ]
  },
  {
   "cell_type": "code",
   "execution_count": 4,
   "metadata": {},
   "outputs": [],
   "source": [
    "x_train, y_train = train\n",
    "x_test, y_test = test\n",
    "\n",
    "# Preproc the inputs\n",
    "x_train = preproc_x(x_train)\n",
    "x_test = preproc_x(x_test)\n",
    "\n",
    "# Preprc the outputs\n",
    "y_train = preproc_y(y_train)\n",
    "y_test = preproc_y(y_test)"
   ]
  },
  {
   "cell_type": "code",
   "execution_count": 5,
   "metadata": {},
   "outputs": [],
   "source": [
    "from keras.layers import Dense, Input, BatchNormalization, Dropout\n",
    "# Hint 1 : 在 Dense 層中增加 Regularizers\n",
    "# Hint 2 : 增加 Dropout 層並設定 dropout ratio \n",
    "# Hint 3 : 增加 Batch-normalization 層\n",
    "def build_mlp(input_shape, num_units=[512, 256, 128], num_classes=10):\n",
    "    \"\"\"\n",
    "    Build your own model\n",
    "    \"\"\"\n",
    "    input_layer = Input(input_shape)\n",
    "    for i, units in enumerate(num_units):\n",
    "        if i == 0:\n",
    "            x = Dense(units, activation='relu', kernel_regularizer='l1',name='hidden_layer'+str(i+1))(input_layer)\n",
    "            x = BatchNormalization()(x)\n",
    "        else:\n",
    "            x = Dense(units, activation='relu',kernel_regularizer='l1',name='hidden_layer'+str(i+1))(x)\n",
    "            x = BatchNormalization()(x)\n",
    "    x = Dropout(0.5)(x)\n",
    "    out = Dense(num_classes, activation='softmax')(x)\n",
    "    model = keras.models.Model(inputs=[input_layer], outputs=[out])\n",
    "    \n",
    "    return model"
   ]
  },
  {
   "cell_type": "code",
   "execution_count": 6,
   "metadata": {},
   "outputs": [],
   "source": [
    "## 超參數設定\n",
    "\"\"\"\n",
    "Set your hyper-parameters\n",
    "\"\"\"\n",
    "LEARNING_RATE = 1e-3\n",
    "EPOCHS = 50\n",
    "BATCH_SIZE = 256\n",
    "MOMENTUM = 0.95"
   ]
  },
  {
   "cell_type": "code",
   "execution_count": 7,
   "metadata": {
    "scrolled": true
   },
   "outputs": [
    {
     "name": "stdout",
     "output_type": "stream",
     "text": [
      "WARNING:tensorflow:From /home/chihying/anaconda3/lib/python3.7/site-packages/tensorflow/python/framework/op_def_library.py:263: colocate_with (from tensorflow.python.framework.ops) is deprecated and will be removed in a future version.\n",
      "Instructions for updating:\n",
      "Colocations handled automatically by placer.\n",
      "WARNING:tensorflow:From /home/chihying/anaconda3/lib/python3.7/site-packages/keras/backend/tensorflow_backend.py:3445: calling dropout (from tensorflow.python.ops.nn_ops) with keep_prob is deprecated and will be removed in a future version.\n",
      "Instructions for updating:\n",
      "Please use `rate` instead of `keep_prob`. Rate should be set to `rate = 1 - keep_prob`.\n",
      "_________________________________________________________________\n",
      "Layer (type)                 Output Shape              Param #   \n",
      "=================================================================\n",
      "input_1 (InputLayer)         (None, 3072)              0         \n",
      "_________________________________________________________________\n",
      "hidden_layer1 (Dense)        (None, 512)               1573376   \n",
      "_________________________________________________________________\n",
      "batch_normalization_1 (Batch (None, 512)               2048      \n",
      "_________________________________________________________________\n",
      "hidden_layer2 (Dense)        (None, 256)               131328    \n",
      "_________________________________________________________________\n",
      "batch_normalization_2 (Batch (None, 256)               1024      \n",
      "_________________________________________________________________\n",
      "hidden_layer3 (Dense)        (None, 128)               32896     \n",
      "_________________________________________________________________\n",
      "batch_normalization_3 (Batch (None, 128)               512       \n",
      "_________________________________________________________________\n",
      "dropout_1 (Dropout)          (None, 128)               0         \n",
      "_________________________________________________________________\n",
      "dense_1 (Dense)              (None, 10)                1290      \n",
      "=================================================================\n",
      "Total params: 1,742,474\n",
      "Trainable params: 1,740,682\n",
      "Non-trainable params: 1,792\n",
      "_________________________________________________________________\n",
      "WARNING:tensorflow:From /home/chihying/anaconda3/lib/python3.7/site-packages/tensorflow/python/ops/math_ops.py:3066: to_int32 (from tensorflow.python.ops.math_ops) is deprecated and will be removed in a future version.\n",
      "Instructions for updating:\n",
      "Use tf.cast instead.\n",
      "Train on 50000 samples, validate on 10000 samples\n",
      "Epoch 1/50\n",
      "50000/50000 [==============================] - 3s 60us/step - loss: 199.4167 - acc: 0.2926 - val_loss: 43.0003 - val_acc: 0.1397\n",
      "Epoch 2/50\n",
      "50000/50000 [==============================] - 2s 31us/step - loss: 22.4915 - acc: 0.2854 - val_loss: 10.4315 - val_acc: 0.1606\n",
      "Epoch 3/50\n",
      "50000/50000 [==============================] - 2s 30us/step - loss: 5.4876 - acc: 0.3139 - val_loss: 3.2713 - val_acc: 0.2230\n",
      "Epoch 4/50\n",
      "50000/50000 [==============================] - 2s 33us/step - loss: 2.5459 - acc: 0.3433 - val_loss: 2.5348 - val_acc: 0.3101\n",
      "Epoch 5/50\n",
      "50000/50000 [==============================] - 2s 34us/step - loss: 2.4262 - acc: 0.3531 - val_loss: 3.3153 - val_acc: 0.2046\n",
      "Epoch 6/50\n",
      "50000/50000 [==============================] - 2s 36us/step - loss: 2.3794 - acc: 0.3654 - val_loss: 2.4956 - val_acc: 0.3230\n",
      "Epoch 7/50\n",
      "50000/50000 [==============================] - 2s 38us/step - loss: 2.3396 - acc: 0.3660 - val_loss: 3.2916 - val_acc: 0.2015\n",
      "Epoch 8/50\n",
      "50000/50000 [==============================] - 2s 38us/step - loss: 2.3106 - acc: 0.3661 - val_loss: 3.1574 - val_acc: 0.2190\n",
      "Epoch 9/50\n",
      "50000/50000 [==============================] - 2s 34us/step - loss: 2.3181 - acc: 0.3666 - val_loss: 2.4708 - val_acc: 0.3221\n",
      "Epoch 10/50\n",
      "50000/50000 [==============================] - 2s 34us/step - loss: 2.3135 - acc: 0.3670 - val_loss: 2.5616 - val_acc: 0.2732\n",
      "Epoch 11/50\n",
      "50000/50000 [==============================] - 2s 34us/step - loss: 2.3085 - acc: 0.3635 - val_loss: 2.9281 - val_acc: 0.2197\n",
      "Epoch 12/50\n",
      "50000/50000 [==============================] - 2s 32us/step - loss: 2.2887 - acc: 0.3692 - val_loss: 2.7609 - val_acc: 0.2344\n",
      "Epoch 13/50\n",
      "50000/50000 [==============================] - 2s 35us/step - loss: 2.2986 - acc: 0.3676 - val_loss: 2.4929 - val_acc: 0.2879\n",
      "Epoch 14/50\n",
      "50000/50000 [==============================] - 2s 36us/step - loss: 2.2985 - acc: 0.3622 - val_loss: 3.2125 - val_acc: 0.1880\n",
      "Epoch 15/50\n",
      "50000/50000 [==============================] - 2s 34us/step - loss: 2.2912 - acc: 0.3646 - val_loss: 2.8029 - val_acc: 0.2450\n",
      "Epoch 16/50\n",
      "50000/50000 [==============================] - 2s 33us/step - loss: 2.2936 - acc: 0.3675 - val_loss: 2.7602 - val_acc: 0.2564\n",
      "Epoch 17/50\n",
      "50000/50000 [==============================] - 2s 31us/step - loss: 2.2813 - acc: 0.3700 - val_loss: 2.4778 - val_acc: 0.2961\n",
      "Epoch 18/50\n",
      "50000/50000 [==============================] - 2s 33us/step - loss: 2.2795 - acc: 0.3692 - val_loss: 2.8609 - val_acc: 0.2395\n",
      "Epoch 19/50\n",
      "50000/50000 [==============================] - 2s 36us/step - loss: 2.2833 - acc: 0.3703 - val_loss: 2.5382 - val_acc: 0.2726\n",
      "Epoch 20/50\n",
      "50000/50000 [==============================] - 2s 35us/step - loss: 2.2716 - acc: 0.3728 - val_loss: 2.4629 - val_acc: 0.2733\n",
      "Epoch 21/50\n",
      "50000/50000 [==============================] - 2s 31us/step - loss: 2.2735 - acc: 0.3703 - val_loss: 2.4062 - val_acc: 0.3223\n",
      "Epoch 22/50\n",
      "50000/50000 [==============================] - 2s 34us/step - loss: 2.2685 - acc: 0.3698 - val_loss: 2.3628 - val_acc: 0.3435\n",
      "Epoch 23/50\n",
      "50000/50000 [==============================] - 2s 33us/step - loss: 2.2698 - acc: 0.3687 - val_loss: 2.7223 - val_acc: 0.2378\n",
      "Epoch 24/50\n",
      "50000/50000 [==============================] - 2s 33us/step - loss: 2.2687 - acc: 0.3705 - val_loss: 2.6555 - val_acc: 0.2442\n",
      "Epoch 25/50\n",
      "50000/50000 [==============================] - 2s 34us/step - loss: 2.2659 - acc: 0.3716 - val_loss: 2.8757 - val_acc: 0.2326\n",
      "Epoch 26/50\n",
      "50000/50000 [==============================] - 2s 36us/step - loss: 2.2687 - acc: 0.3717 - val_loss: 2.6760 - val_acc: 0.2450\n",
      "Epoch 27/50\n",
      "50000/50000 [==============================] - 2s 32us/step - loss: 2.2671 - acc: 0.3712 - val_loss: 2.4921 - val_acc: 0.3018\n",
      "Epoch 28/50\n",
      "50000/50000 [==============================] - 2s 30us/step - loss: 2.2679 - acc: 0.3682 - val_loss: 2.6349 - val_acc: 0.2900\n",
      "Epoch 29/50\n",
      "50000/50000 [==============================] - 1s 30us/step - loss: 2.2605 - acc: 0.3716 - val_loss: 2.4534 - val_acc: 0.2865\n",
      "Epoch 30/50\n",
      "50000/50000 [==============================] - 2s 37us/step - loss: 2.2721 - acc: 0.3713 - val_loss: 2.6632 - val_acc: 0.2528\n",
      "Epoch 31/50\n",
      "50000/50000 [==============================] - 2s 32us/step - loss: 2.2796 - acc: 0.3651 - val_loss: 2.5357 - val_acc: 0.2780\n",
      "Epoch 32/50\n",
      "50000/50000 [==============================] - 2s 30us/step - loss: 2.2760 - acc: 0.3681 - val_loss: 2.3980 - val_acc: 0.3133\n",
      "Epoch 33/50\n",
      "50000/50000 [==============================] - 2s 37us/step - loss: 2.2670 - acc: 0.3710 - val_loss: 2.5220 - val_acc: 0.2735\n",
      "Epoch 34/50\n",
      "50000/50000 [==============================] - 2s 31us/step - loss: 2.2718 - acc: 0.3716 - val_loss: 2.5493 - val_acc: 0.2638\n",
      "Epoch 35/50\n",
      "50000/50000 [==============================] - 2s 31us/step - loss: 2.2694 - acc: 0.3696 - val_loss: 2.5613 - val_acc: 0.2834\n",
      "Epoch 36/50\n",
      "50000/50000 [==============================] - 2s 39us/step - loss: 2.2681 - acc: 0.3729 - val_loss: 3.1387 - val_acc: 0.1887\n",
      "Epoch 37/50\n",
      "50000/50000 [==============================] - 1s 30us/step - loss: 2.2665 - acc: 0.3714 - val_loss: 2.6364 - val_acc: 0.2728\n",
      "Epoch 38/50\n",
      "50000/50000 [==============================] - 2s 34us/step - loss: 2.2775 - acc: 0.3692 - val_loss: 2.8403 - val_acc: 0.2564\n",
      "Epoch 39/50\n",
      "50000/50000 [==============================] - 2s 31us/step - loss: 2.2659 - acc: 0.3716 - val_loss: 2.5322 - val_acc: 0.2804\n",
      "Epoch 40/50\n",
      "50000/50000 [==============================] - 2s 31us/step - loss: 2.2652 - acc: 0.3707 - val_loss: 2.5458 - val_acc: 0.2766\n",
      "Epoch 41/50\n",
      "50000/50000 [==============================] - 2s 34us/step - loss: 2.2609 - acc: 0.3683 - val_loss: 2.4154 - val_acc: 0.3152\n",
      "Epoch 42/50\n"
     ]
    },
    {
     "name": "stdout",
     "output_type": "stream",
     "text": [
      "50000/50000 [==============================] - 2s 33us/step - loss: 2.2590 - acc: 0.3725 - val_loss: 2.4858 - val_acc: 0.3019\n",
      "Epoch 43/50\n",
      "50000/50000 [==============================] - 2s 36us/step - loss: 2.2618 - acc: 0.3728 - val_loss: 2.8182 - val_acc: 0.2712\n",
      "Epoch 44/50\n",
      "50000/50000 [==============================] - 2s 33us/step - loss: 2.2670 - acc: 0.3680 - val_loss: 2.8474 - val_acc: 0.2144\n",
      "Epoch 45/50\n",
      "50000/50000 [==============================] - 2s 37us/step - loss: 2.2715 - acc: 0.3681 - val_loss: 2.3836 - val_acc: 0.3268\n",
      "Epoch 46/50\n",
      "50000/50000 [==============================] - 2s 35us/step - loss: 2.2734 - acc: 0.3715 - val_loss: 2.9479 - val_acc: 0.2203\n",
      "Epoch 47/50\n",
      "50000/50000 [==============================] - 2s 34us/step - loss: 2.2701 - acc: 0.3694 - val_loss: 2.4435 - val_acc: 0.3060\n",
      "Epoch 48/50\n",
      "50000/50000 [==============================] - 2s 34us/step - loss: 2.2628 - acc: 0.3712 - val_loss: 3.2043 - val_acc: 0.2137\n",
      "Epoch 49/50\n",
      "50000/50000 [==============================] - 2s 31us/step - loss: 2.2694 - acc: 0.3697 - val_loss: 2.7075 - val_acc: 0.2410\n",
      "Epoch 50/50\n",
      "50000/50000 [==============================] - 2s 34us/step - loss: 2.2676 - acc: 0.3694 - val_loss: 2.6489 - val_acc: 0.2522\n"
     ]
    }
   ],
   "source": [
    "results = {}\n",
    "\"\"\"\n",
    "Write your training loop and record results\n",
    "\"\"\"\n",
    "\n",
    "model = build_mlp(input_shape=x_train.shape[1:])\n",
    "model.summary()\n",
    "optimizer = keras.optimizers.SGD(lr=LEARNING_RATE, nesterov=True, momentum=MOMENTUM)\n",
    "model.compile(loss=\"categorical_crossentropy\", metrics=[\"accuracy\"], optimizer=optimizer)\n",
    "\n",
    "model.fit(x_train, y_train, \n",
    "          epochs=EPOCHS, \n",
    "          batch_size=BATCH_SIZE, \n",
    "          validation_data=(x_test, y_test), \n",
    "          shuffle=True)\n",
    "\n",
    "\n",
    "# Collect results\n",
    "train_loss = model.history.history[\"loss\"]\n",
    "valid_loss = model.history.history[\"val_loss\"]\n",
    "train_acc = model.history.history[\"acc\"]\n",
    "valid_acc = model.history.history[\"val_acc\"]"
   ]
  },
  {
   "cell_type": "code",
   "execution_count": 8,
   "metadata": {},
   "outputs": [
    {
     "data": {
      "image/png": "[encoded data removed]",
      "text/plain": [
       "<Figure size 432x288 with 1 Axes>"
      ]
     },
     "metadata": {
      "needs_background": "light"
     },
     "output_type": "display_data"
    },
    {
     "data": {
      "image/png": "[encoded data removed]",
      "text/plain": [
       "<Figure size 432x288 with 1 Axes>"
      ]
     },
     "metadata": {
      "needs_background": "light"
     },
     "output_type": "display_data"
    }
   ],
   "source": [
    "import matplotlib.pyplot as plt\n",
    "%matplotlib inline\n",
    "\n",
    "\"\"\"\n",
    "Plot results\n",
    "\"\"\"\n",
    "plt.plot(range(len(train_loss)), train_loss, label=\"train loss\")\n",
    "plt.plot(range(len(valid_loss)), valid_loss, label=\"valid loss\")\n",
    "plt.legend()\n",
    "plt.title(\"Loss\")\n",
    "plt.show()\n",
    "\n",
    "plt.plot(range(len(train_acc)), train_acc, label=\"train accuracy\")\n",
    "plt.plot(range(len(valid_acc)), valid_acc, label=\"valid accuracy\")\n",
    "plt.legend()\n",
    "plt.title(\"Accuracy\")\n",
    "plt.show()"
   ]
  }
 ],
 "metadata": {
  "kernelspec": {
   "display_name": "Python 3",
   "language": "python",
   "name": "python3"
  },
  "language_info": {
   "codemirror_mode": {
    "name": "ipython",
    "version": 3
   },
   "file_extension": ".py",
   "mimetype": "text/x-python",
   "name": "python",
   "nbconvert_exporter": "python",
   "pygments_lexer": "ipython3",
   "version": "3.7.3"
  }
 },
 "nbformat": 4,
 "nbformat_minor": 2
}
