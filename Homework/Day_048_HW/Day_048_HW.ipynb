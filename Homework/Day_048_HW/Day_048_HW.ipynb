{
 "cells": [
  {
   "cell_type": "markdown",
   "metadata": {},
   "source": [
    "# Day048\n",
    "## Kaggle 競賽平台介紹"
   ]
  },
  {
   "cell_type": "markdown",
   "metadata": {},
   "source": [
    "# 範例"
   ]
  },
  {
   "cell_type": "code",
   "execution_count": 1,
   "metadata": {},
   "outputs": [],
   "source": [
    "import numpy as np\n",
    "import pandas as pd\n",
    "from sklearn import metrics\n",
    "from sklearn.model_selection import train_test_split, RandomizedSearchCV\n",
    "from sklearn.ensemble import GradientBoostingClassifier"
   ]
  },
  {
   "cell_type": "code",
   "execution_count": 2,
   "metadata": {},
   "outputs": [
    {
     "name": "stdout",
     "output_type": "stream",
     "text": [
      "0.892\n"
     ]
    }
   ],
   "source": [
    "df_train = pd.read_csv('./train.csv', header=None)\n",
    "df_target = pd.read_csv('./trainLabels.csv', header=None)\n",
    "df_test = pd.read_csv('./test.csv', header=None)\n",
    "train_X, test_x, train_Y, test_y = train_test_split(df_train, df_target, test_size=0.25, random_state = 4)\n",
    "train_Y = train_Y.values.flatten()\n",
    "test_y = test_y.values.flatten()\n",
    "clf = GradientBoostingClassifier()\n",
    "clf.fit(train_X, train_Y)\n",
    "y_pred = clf.predict(test_x)\n",
    "print(metrics.accuracy_score(test_y, y_pred))"
   ]
  },
  {
   "cell_type": "code",
   "execution_count": 3,
   "metadata": {},
   "outputs": [
    {
     "name": "stdout",
     "output_type": "stream",
     "text": [
      "Best Accuracy: 0.872000 using {'n_estimators': 82, 'min_samples_split': 41, 'max_depth': 5, 'learning_rate': 0.05}\n"
     ]
    }
   ],
   "source": [
    "param_dist = {\"max_depth\": [1, 3, 5, 7],\n",
    "              \"min_samples_split\": list(range(2,100)),\n",
    "              \"n_estimators\": list(range(1,100)),\n",
    "              \"learning_rate\": [0.05, 0.1]}\n",
    "\n",
    "# run randomized search\n",
    "n_iter_search = 20\n",
    "random_search = RandomizedSearchCV(clf, param_distributions=param_dist,\n",
    "                                   n_iter=n_iter_search, cv=5, random_state=4)\n",
    "\n",
    "random_result = random_search.fit(train_X, train_Y)\n",
    "print(\"Best Accuracy: %f using %s\" % (random_result.best_score_, random_result.best_params_))"
   ]
  },
  {
   "cell_type": "code",
   "execution_count": 4,
   "metadata": {},
   "outputs": [],
   "source": [
    "# 使用最佳參數重新建立模型\n",
    "clf_bestparam = GradientBoostingClassifier(n_estimators=82, min_samples_split=41, max_depth=5, learning_rate=0.05)\n",
    "\n",
    "# 訓練模型\n",
    "clf_bestparam.fit(df_train, df_target.values.flatten())\n",
    "\n",
    "# 預測測試集\n",
    "y_pred = clf_bestparam.predict(df_test)"
   ]
  },
  {
   "cell_type": "code",
   "execution_count": 5,
   "metadata": {},
   "outputs": [],
   "source": [
    "sub = pd.DataFrame({'Id': list(range(1,9001)),'Solution': y_pred})\n",
    "sub.to_csv('sklearn.csv',index=False)"
   ]
  }
 ],
 "metadata": {
  "kernelspec": {
   "display_name": "Python 3",
   "language": "python",
   "name": "python3"
  },
  "language_info": {
   "codemirror_mode": {
    "name": "ipython",
    "version": 3
   },
   "file_extension": ".py",
   "mimetype": "text/x-python",
   "name": "python",
   "nbconvert_exporter": "python",
   "pygments_lexer": "ipython3",
   "version": "3.6.7"
  }
 },
 "nbformat": 4,
 "nbformat_minor": 2
}
