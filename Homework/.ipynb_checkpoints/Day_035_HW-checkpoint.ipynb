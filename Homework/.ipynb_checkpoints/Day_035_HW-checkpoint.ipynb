{
 "cells": [
  {
   "cell_type": "markdown",
   "metadata": {},
   "source": [
    "# Day035\n",
    "## Regression vs. Classification\n",
    "### 回歸(Regression)\n",
    "代表預測的目標值為實數($-\\infty, \\infty$)，回歸問題可以轉為分類問題，如把本來預測的分數變為及不及格或前、中、後段等分類，可依專案不同自行變化。\n",
    "\n",
    "### 分類(Classification)\n",
    "代表預測的目標值為類別，另外又有分為\n",
    "1. 二元分類: 目標的類別僅有兩個。像是詐騙分析(詐騙⽤戶vs. 正常⽤戶)、瑕疵偵測(瑕疵 vs. 正常)。\n",
    "2. 多元分類: 目標類別有兩種以上。如手寫數字辨識有 10 個類別 (0~9)，影像競賽 ImageNet 更是有高達 1,000 個類別需要分類。\n",
    "\n",
    "\n",
    "除了分類型態以外，根據[樣本的歸類還有兩種](https://medium.com/@prakhar.mishra/one-vs-rest-strategy-for-multi-label-classification-280753401d7e):\n",
    "1. 多分類問題(Multi-class): 每個樣本都只能歸在一個類別。\n",
    "2. 多標籤問題(Multi-label): 一個樣本可以同時有多個類別。\n",
    "<img src=\"https://cdn-images-1.medium.com/max/1250/1*81uUPItMEVlts4oXadOy3A.png\" height=\"400\" width=\"400\">\n",
    "\n",
    "了解專案為什麼問題才能選用適當的模型訓練!\n",
    "\n",
    "### Regression vs. Classification\n",
    "<table class='table table-striped'> \n",
    "    <thead> \n",
    "        <tr> \n",
    "            <th> </th> \n",
    "            <th>Supervised Classification</th> \n",
    "            <th>Regression</th> \n",
    "        </tr> \n",
    "    </thead> \n",
    "    <tbody> \n",
    "        <tr> \n",
    "            <th scope='row'>output type</th> \n",
    "            <td>discrete(class labels)</td> \n",
    "            <td>continuous(number)</td> \n",
    "        </tr> \n",
    "        <tr> \n",
    "            <th scope='row'>What are your trying to find?</th> \n",
    "            <td>decision boundary</td> \n",
    "            <td>best fit line</td> \n",
    "        </tr> \n",
    "        <tr> \n",
    "            <th scope='row'>Evaluation</th> \n",
    "            <td>accuracy</td> \n",
    "            <td>Risidual sum of square(RSS)</td> \n",
    "        </tr> \n",
    "    </tbody> \n",
    "</table>"
   ]
  },
  {
   "cell_type": "markdown",
   "metadata": {},
   "source": [
    "## 練習時間\n",
    "相信大家對回歸問題及分類問題都有初步的了解。今天的作業希望大家搜尋有關 multi-label 的案例問題。下圖是電影 \"奇異博士\" 的分類。可以看到同時有 \"Action\", \"Adventure\", \"Fantasy\" 的類別存在，代表這是個多標籤的問題。 "
   ]
  },
  {
   "cell_type": "markdown",
   "metadata": {},
   "source": [
    "![image](https://cdn-images-1.medium.com/max/1000/1*r0gYXMSQf5VhdMyl2bRDyg.png)"
   ]
  },
  {
   "cell_type": "markdown",
   "metadata": {},
   "source": [
    "## 請搜尋目標為多標籤問題 (Multi-label) 的機器學習案例，了解其資料來源、目標以及評估指標為何\n",
    "## Hint: 服飾\n",
    "\n",
    "### [FashionNet](https://github.com/PlabanM1/FashionNet/blob/master/FashionNet.ipynb)\n",
    "1. 資料來源\n",
    "> 由網路零售網站蒐集來的50000張照片\n",
    "2. 目標\n",
    "> 創造能夠由照片得知一個人的穿衣習慣並推薦類似服裝的系統\n",
    "3. 評估指標\n",
    "> 使用tf_model.evaluate計算準確度"
   ]
  }
 ],
 "metadata": {
  "kernelspec": {
   "display_name": "Python 3",
   "language": "python",
   "name": "python3"
  },
  "language_info": {
   "codemirror_mode": {
    "name": "ipython",
    "version": 3
   },
   "file_extension": ".py",
   "mimetype": "text/x-python",
   "name": "python",
   "nbconvert_exporter": "python",
   "pygments_lexer": "ipython3",
   "version": "3.6.7"
  }
 },
 "nbformat": 4,
 "nbformat_minor": 2
}
