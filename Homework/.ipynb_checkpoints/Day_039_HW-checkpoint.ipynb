{
 "cells": [
  {
   "cell_type": "markdown",
   "metadata": {},
   "source": [
    "# Day039\n",
    "## regression model 介紹 - LASSO 回歸/ Ridge 回歸\n",
    "機器學習模型的目標函數中有兩個非常重要的元素\n",
    "- 損失函數 (Loss function): 衡量預測值與實際值的差異，讓模型能往正確的方向學習\n",
    "- 正則化 (Regularization): 避免模型變得過於複雜，造成過擬合 (Over-fitting)\n",
    "\n",
    "### 為什麼要Regularization?\n",
    "> 正則化可以懲罰(Penalization)模型的複雜度，當模型越複雜時其值就會越大([懲罰的核心目的是限制參數空間的大小以降低模型複雜度](http://www.sthda.com/english/articles/37-model-selection-essentials-in-r/153-penalized-regression-essentials-ridge-lasso-elastic-net/))\n",
    "\n",
    "### 正則化函數\n",
    "正則化函數是用來衡量模型的複雜度，有 L1 與 L2 兩種函數\n",
    "- L1: $\\alpha\\sum{ |{weights}| }$\n",
    "- L2: $\\alpha\\sum{ {weights}^2 }$\n",
    "\n",
    "這兩種都是希望模型的參數值不要太大，原因是參數的數值變小(代表曲線較平滑)，噪音對最終輸出的結果影響越小，提升模型的泛化能力，但也讓模型的擬合能力下降\n",
    "\n",
    "### LASSO, Ridge Regression\n",
    "LASSO 與 Ridge 就是回歸模型加上不同的正則化函數\n",
    "- LASSO: Linear Regression 加上 L1\n",
    "- Ridge: Linear Regression 加上 L2\n",
    "\n",
    "\n",
    "其中有個超參數$\\alpha$可以調整正則化的強度"
   ]
  },
  {
   "cell_type": "markdown",
   "metadata": {},
   "source": [
    "## 作業"
   ]
  },
  {
   "cell_type": "markdown",
   "metadata": {},
   "source": [
    "請閱讀相關文獻，並回答下列問題\n",
    "\n",
    "[脊回歸 (Ridge Regression)](https://blog.csdn.net/daunxx/article/details/51578787)\n",
    "\n",
    "[Linear, Ridge, Lasso Regression 本質區別](https://www.zhihu.com/question/38121173)\n",
    "\n",
    "1. LASSO 回歸可以被用來作為 Feature selection 的工具，請了解 LASSO 模型為什麼可用來作 Feature selection\n",
    "> 因為LASSO要求參數的絕對值不能太大，可以把某些參數shrink到0，因此可以選擇Feature\n",
    "2. 當自變數 (X) 存在高度共線性時，Ridge Regression 可以處理這樣的問題嗎?\n",
    "> 可以，正則化的功能便是在此"
   ]
  }
 ],
 "metadata": {
  "kernelspec": {
   "display_name": "Python 3",
   "language": "python",
   "name": "python3"
  },
  "language_info": {
   "codemirror_mode": {
    "name": "ipython",
    "version": 3
   },
   "file_extension": ".py",
   "mimetype": "text/x-python",
   "name": "python",
   "nbconvert_exporter": "python",
   "pygments_lexer": "ipython3",
   "version": "3.6.7"
  }
 },
 "nbformat": 4,
 "nbformat_minor": 2
}
