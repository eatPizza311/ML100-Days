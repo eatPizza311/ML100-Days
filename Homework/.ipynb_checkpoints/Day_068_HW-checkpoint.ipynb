{
 "cells": [
  {
   "cell_type": "markdown",
   "metadata": {},
   "source": [
    "# Day068\n",
    "##  Step1: choose model - Keras Sequential API\n",
    "參考 [Getting started with the Keras Sequential model](https://keras.io/getting-started/sequential-model-guide/) 和 [The Sequential model API](https://keras.io/models/sequential/)\n",
    "\n",
    "sequential是一系列模型的簡單線性疊加，可以在構造函數中傳入一些列的網路層，需要注意的是Sequential的第一層(也只有第一層，後面的層會自動匹配)需要知道輸入的shape\n",
    "- input_shape: input_shape應該是一個shape的tuple資料類型。是一系列整數的tuple，某些位置可為None，不用指明batch_size的數目。\n",
    "- input_dim: 2D的網路層，如Dense，允許在層的構造函數的input_dim中指定輸入的維度。\n",
    "- input_length: 對於某些3D時間層，可以在構造函數中指定input_dim和input_length來實現。\n",
    "- batch_size: 對於某些RNN，可以指定batch_size。這樣後面的輸入必須是(batch_size, input_shape)的輸入\n",
    "\n",
    "\n",
    "|    名稱    |                作用               |                                                  原型參數                                                 |\n",
    "|:----------:|:---------------------------------:|:---------------------------------------------------------------------------------------------------------:|\n",
    "|    Dense   |            實現全連接層           |  Dense(units,activation,use_bias=True,   kernel_initializer=’glorot_uniform’,   bias_initializer=’zeros’) |\n",
    "| Activation |       對上層輸出應用激活函數      |                                           Activation(activation)                                          |\n",
    "|   Dropout  | 對上層輸出應用dropout以防止過擬合 |                                               Dropout(ratio)                                              |\n",
    "|   Flatten  |          對上層輸出一維化         |                                                 Flatten()                                                 |\n",
    "|   Reshape  |         對上層輸出reshape         |                                           Reshape(target_shape)                                           |"
   ]
  },
  {
   "cell_type": "markdown",
   "metadata": {},
   "source": [
    "## 範例"
   ]
  },
  {
   "cell_type": "code",
   "execution_count": 1,
   "metadata": {},
   "outputs": [
    {
     "name": "stderr",
     "output_type": "stream",
     "text": [
      "Using TensorFlow backend.\n"
     ]
    }
   ],
   "source": [
    "# 載入必須使用的 Library\n",
    "import keras\n",
    "from keras.datasets import cifar10\n",
    "from keras.models import Sequential, load_model\n",
    "from keras.layers import Dense, Dropout, Activation, Flatten\n",
    "from keras.layers import Conv2D, MaxPooling2D\n",
    "import matplotlib.pyplot as plt\n",
    "\n",
    "batch_size = 16\n",
    "num_classes = 10\n",
    "epochs = 10\n",
    "\n",
    "# The data, shuffled and split between train and test sets:\n",
    "(x_train, y_train), (x_test, y_test) = cifar10.load_data()"
   ]
  },
  {
   "cell_type": "markdown",
   "metadata": {},
   "source": [
    "參考[Epoch vs Batch Size vs Iterations](https://towardsdatascience.com/epoch-vs-iterations-vs-batch-size-4dfb9c7ce9c9)"
   ]
  },
  {
   "cell_type": "code",
   "execution_count": 2,
   "metadata": {},
   "outputs": [],
   "source": [
    "# Convert class vectors to binary class matrices.\n",
    "# One-Hot\n",
    "y_train = keras.utils.to_categorical(y_train, num_classes)\n",
    "y_test = keras.utils.to_categorical(y_test, num_classes)\n",
    "\n",
    "# Normalize\n",
    "x_train = x_train.astype('float32') / 255.0\n",
    "x_test = x_test.astype('float32') / 255.0"
   ]
  },
  {
   "cell_type": "code",
   "execution_count": 3,
   "metadata": {},
   "outputs": [
    {
     "name": "stdout",
     "output_type": "stream",
     "text": [
      "WARNING:tensorflow:From C:\\Users\\ChihYing\\Anaconda3\\lib\\site-packages\\tensorflow\\python\\framework\\op_def_library.py:263: colocate_with (from tensorflow.python.framework.ops) is deprecated and will be removed in a future version.\n",
      "Instructions for updating:\n",
      "Colocations handled automatically by placer.\n",
      "_________________________________________________________________\n",
      "Layer (type)                 Output Shape              Param #   \n",
      "=================================================================\n",
      "conv2d_1 (Conv2D)            (None, 32, 32, 64)        1792      \n",
      "_________________________________________________________________\n",
      "max_pooling2d_1 (MaxPooling2 (None, 16, 16, 64)        0         \n",
      "_________________________________________________________________\n",
      "flatten_1 (Flatten)          (None, 16384)             0         \n",
      "_________________________________________________________________\n",
      "dense_1 (Dense)              (None, 1024)              16778240  \n",
      "_________________________________________________________________\n",
      "activation_1 (Activation)    (None, 1024)              0         \n",
      "_________________________________________________________________\n",
      "dense_2 (Dense)              (None, 10)                10250     \n",
      "_________________________________________________________________\n",
      "activation_2 (Activation)    (None, 10)                0         \n",
      "=================================================================\n",
      "Total params: 16,790,282\n",
      "Trainable params: 16,790,282\n",
      "Non-trainable params: 0\n",
      "_________________________________________________________________\n",
      "None\n"
     ]
    }
   ],
   "source": [
    "# build our CNN model\n",
    "model = Sequential()\n",
    "model.add(Conv2D(filters=64, kernel_size=(3, 3),\n",
    "                input_shape=(32, 32, 3),\n",
    "                activation='relu', # y = 0 ~ inf\n",
    "                padding='same'))\n",
    "model.add(MaxPooling2D(pool_size=(2, 2)))\n",
    "model.add(Flatten())\n",
    "model.add(Dense(1024))\n",
    "model.add(Activation('relu'))\n",
    "model.add(Dense(num_classes))\n",
    "model.add(Activation('softmax'))\n",
    "\n",
    "print(model.summary())"
   ]
  },
  {
   "cell_type": "code",
   "execution_count": 4,
   "metadata": {},
   "outputs": [
    {
     "name": "stdout",
     "output_type": "stream",
     "text": [
      "WARNING:tensorflow:From C:\\Users\\ChihYing\\Anaconda3\\lib\\site-packages\\tensorflow\\python\\ops\\math_ops.py:3066: to_int32 (from tensorflow.python.ops.math_ops) is deprecated and will be removed in a future version.\n",
      "Instructions for updating:\n",
      "Use tf.cast instead.\n",
      "Train on 40000 samples, validate on 10000 samples\n",
      "Epoch 1/10\n",
      "40000/40000 [==============================] - 49s 1ms/step - loss: 1.6672 - acc: 0.4351 - val_loss: 1.3192 - val_acc: 0.5346\n",
      "Epoch 2/10\n",
      "40000/40000 [==============================] - 36s 909us/step - loss: 1.1954 - acc: 0.5774 - val_loss: 1.1945 - val_acc: 0.5907\n",
      "Epoch 3/10\n",
      "40000/40000 [==============================] - 34s 848us/step - loss: 1.0439 - acc: 0.6341 - val_loss: 1.0879 - val_acc: 0.6252\n",
      "Epoch 4/10\n",
      "40000/40000 [==============================] - 29s 723us/step - loss: 0.9041 - acc: 0.6809 - val_loss: 1.0319 - val_acc: 0.6425\n",
      "Epoch 5/10\n",
      "40000/40000 [==============================] - 36s 904us/step - loss: 0.7870 - acc: 0.7255 - val_loss: 0.9964 - val_acc: 0.6647\n",
      "Epoch 6/10\n",
      "40000/40000 [==============================] - 38s 938us/step - loss: 0.6690 - acc: 0.7686 - val_loss: 0.9682 - val_acc: 0.6743\n",
      "Epoch 7/10\n",
      "40000/40000 [==============================] - 38s 942us/step - loss: 0.5651 - acc: 0.8074 - val_loss: 1.0324 - val_acc: 0.6584\n",
      "Epoch 8/10\n",
      "40000/40000 [==============================] - 33s 827us/step - loss: 0.4583 - acc: 0.8475 - val_loss: 1.0558 - val_acc: 0.6653\n",
      "Epoch 9/10\n",
      "40000/40000 [==============================] - 34s 840us/step - loss: 0.3642 - acc: 0.8810 - val_loss: 1.0527 - val_acc: 0.6821\n",
      "Epoch 10/10\n",
      "40000/40000 [==============================] - 37s 936us/step - loss: 0.2772 - acc: 0.9134 - val_loss: 1.1263 - val_acc: 0.6744\n",
      "10000/10000 [==============================] - 3s 265us/step\n",
      "Test accuracy: 0.6685\n"
     ]
    }
   ],
   "source": [
    "# initiate Adam optimizer\n",
    "opt = keras.optimizers.Adam()\n",
    "\n",
    "# Let's train the model using Adam\n",
    "model.compile(loss='categorical_crossentropy',optimizer=opt,metrics=['accuracy'])\n",
    "\n",
    "model_history = model.fit(x_train, y_train, validation_split=0.2, epochs=10, batch_size=128, verbose=1)  \n",
    "\n",
    "# Score trained model.\n",
    "scores = model.evaluate(x_test, y_test, verbose=1)\n",
    "print('Test accuracy:', scores[1])"
   ]
  },
  {
   "cell_type": "markdown",
   "metadata": {},
   "source": [
    "## 作業:\n",
    "請修改input shape: (Conv2D(64, (3, 3))的設定, 新增一層 Dense 並觀看 model.summary 的輸出"
   ]
  },
  {
   "cell_type": "code",
   "execution_count": 5,
   "metadata": {},
   "outputs": [
    {
     "name": "stdout",
     "output_type": "stream",
     "text": [
      "WARNING:tensorflow:From C:\\Users\\ChihYing\\Anaconda3\\lib\\site-packages\\keras\\backend\\tensorflow_backend.py:3445: calling dropout (from tensorflow.python.ops.nn_ops) with keep_prob is deprecated and will be removed in a future version.\n",
      "Instructions for updating:\n",
      "Please use `rate` instead of `keep_prob`. Rate should be set to `rate = 1 - keep_prob`.\n"
     ]
    }
   ],
   "source": [
    "# build our CNN model, 多加幾層\n",
    "model = Sequential()\n",
    "model.add(Conv2D(64, (3, 3), padding='same',\n",
    "                 input_shape=x_train.shape[1:]))\n",
    "model.add(Flatten())\n",
    "model.add(Dense(512))\n",
    "model.add(Activation('relu'))\n",
    "model.add(Dense(512))\n",
    "model.add(Activation('relu'))\n",
    "model.add(Dropout(0.5))\n",
    "model.add(Dense(num_classes))\n",
    "model.add(Activation('softmax'))\n"
   ]
  },
  {
   "cell_type": "code",
   "execution_count": 7,
   "metadata": {},
   "outputs": [
    {
     "name": "stdout",
     "output_type": "stream",
     "text": [
      "Train on 40000 samples, validate on 10000 samples\n",
      "Epoch 1/10\n",
      "40000/40000 [==============================] - 48s 1ms/step - loss: 2.0054 - acc: 0.3460 - val_loss: 1.5828 - val_acc: 0.4401\n",
      "Epoch 2/10\n",
      "40000/40000 [==============================] - 50s 1ms/step - loss: 1.5522 - acc: 0.4492 - val_loss: 1.4972 - val_acc: 0.4692\n",
      "Epoch 3/10\n",
      "40000/40000 [==============================] - 66s 2ms/step - loss: 1.4298 - acc: 0.4929 - val_loss: 1.4716 - val_acc: 0.4791\n",
      "Epoch 4/10\n",
      "40000/40000 [==============================] - 68s 2ms/step - loss: 1.3371 - acc: 0.5251 - val_loss: 1.4443 - val_acc: 0.4930\n",
      "Epoch 5/10\n",
      "40000/40000 [==============================] - 68s 2ms/step - loss: 1.2444 - acc: 0.5542 - val_loss: 1.4593 - val_acc: 0.4914\n",
      "Epoch 6/10\n",
      "40000/40000 [==============================] - 68s 2ms/step - loss: 1.1652 - acc: 0.5847 - val_loss: 1.4718 - val_acc: 0.4991\n",
      "Epoch 7/10\n",
      "40000/40000 [==============================] - 67s 2ms/step - loss: 1.0829 - acc: 0.6108 - val_loss: 1.5188 - val_acc: 0.4924\n",
      "Epoch 8/10\n",
      "40000/40000 [==============================] - 66s 2ms/step - loss: 0.9992 - acc: 0.6409 - val_loss: 1.5412 - val_acc: 0.4957\n",
      "Epoch 9/10\n",
      "40000/40000 [==============================] - 66s 2ms/step - loss: 0.9318 - acc: 0.6642 - val_loss: 1.6296 - val_acc: 0.4906\n",
      "Epoch 10/10\n",
      "40000/40000 [==============================] - 67s 2ms/step - loss: 0.8491 - acc: 0.6938 - val_loss: 1.7321 - val_acc: 0.4893\n",
      "10000/10000 [==============================] - 3s 342us/step\n",
      "Test accuracy: 0.4863\n"
     ]
    }
   ],
   "source": [
    "opt = keras.optimizers.Adam()\n",
    "model.compile(loss='categorical_crossentropy', optimizer=opt, metrics=['accuracy'])\n",
    "model.fit(x_train, y_train, validation_split=0.2, epochs=10, batch_size=128, verbose=1)\n",
    "# Score trained model.\n",
    "scores = model.evaluate(x_test, y_test, verbose=1)\n",
    "print('Test accuracy:', scores[1])"
   ]
  },
  {
   "cell_type": "markdown",
   "metadata": {},
   "source": [
    "> 增加層數會增加運算時間，但不一定會增加準確率"
   ]
  }
 ],
 "metadata": {
  "kernelspec": {
   "display_name": "Python 3",
   "language": "python",
   "name": "python3"
  },
  "language_info": {
   "codemirror_mode": {
    "name": "ipython",
    "version": 3
   },
   "file_extension": ".py",
   "mimetype": "text/x-python",
   "name": "python",
   "nbconvert_exporter": "python",
   "pygments_lexer": "ipython3",
   "version": "3.7.3"
  }
 },
 "nbformat": 4,
 "nbformat_minor": 2
}
