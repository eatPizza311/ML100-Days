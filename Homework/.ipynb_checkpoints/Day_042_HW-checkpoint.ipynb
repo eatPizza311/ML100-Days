{
 "cells": [
  {
   "cell_type": "markdown",
   "metadata": {},
   "source": [
    "# Day042\n",
    "## tree based model - 決策樹程式碼撰寫\n",
    "### 使用 Sklearn 建立決策樹模型\n",
    "根據回歸/分類問題分別建立不同的 Classifier\n",
    "> from sklearn.tree_model import DecisionTreeRegressor\n",
    "\n",
    "\n",
    "> from sklearn.tree_model import DecisionTreeClassifier\n",
    "\n",
    "### 決策樹的超參數\n",
    "- criterion: 衡量資料相似程度的 metric\n",
    "- max_depth: 樹能生長的最深限制\n",
    "- min_samples_split: 至少要多少樣本以上才進行切分\n",
    "- min_samples_lear: 最終的葉子 (節點) 上至少要有多少樣本"
   ]
  },
  {
   "cell_type": "markdown",
   "metadata": {},
   "source": [
    "## 建立模型四步驟\n",
    "\n",
    "在 Scikit-learn 中，建立一個機器學習的模型其實非常簡單，流程大略是以下四個步驟\n",
    "\n",
    "1. 讀進資料，並檢查資料的 shape (有多少 samples (rows), 多少 features (columns)，label 的型態是什麼？)\n",
    "    - **使用 pandas 讀取 .csv 檔：**pd.read_csv\n",
    "    - **使用 numpy 讀取 .txt 檔：**np.loadtxt \n",
    "    - **使用 Scikit-learn 內建的資料集：**sklearn.datasets.load_xxx\n",
    "    - **檢查資料數量：**data.shape (data should be np.array or dataframe)\n",
    "2. 將資料切為訓練 (train) / 測試 (test)\n",
    "    - train_test_split(data)\n",
    "3. 建立模型，將資料 fit 進模型開始訓練\n",
    "    - clf = DecisionTreeClassifier()\n",
    "    - clf.fit(x_train, y_train)\n",
    "4. 將測試資料 (features) 放進訓練好的模型中，得到 prediction，與測試資料的 label (y_test) 做評估\n",
    "    - clf.predict(x_test)\n",
    "    - accuracy_score(y_test, y_pred)\n",
    "    - f1_score(y_test, y_pred)"
   ]
  },
  {
   "cell_type": "markdown",
   "metadata": {},
   "source": [
    "## 範例"
   ]
  },
  {
   "cell_type": "code",
   "execution_count": 1,
   "metadata": {},
   "outputs": [],
   "source": [
    "from sklearn import metrics, datasets\n",
    "\n",
    "# 如果是分類問題，請使用 DecisionTreeClassifier，若為回歸問題，請使用 DecisionTreeRegressor\n",
    "from sklearn.tree import DecisionTreeRegressor, DecisionTreeClassifier\n",
    "from sklearn.model_selection import train_test_split"
   ]
  },
  {
   "cell_type": "code",
   "execution_count": 2,
   "metadata": {},
   "outputs": [],
   "source": [
    "# 讀取鳶尾花資料集\n",
    "iris = datasets.load_iris()\n",
    "\n",
    "# 切分資料\n",
    "train_X, val_X, train_y, val_y = train_test_split(iris.data, iris.target, test_size=0.25, random_state=1)\n",
    "\n",
    "# 建立模型\n",
    "clf = DecisionTreeClassifier(random_state=1)\n",
    "\n",
    "# 訓練模型\n",
    "clf.fit(train_X, train_y)\n",
    "\n",
    "# 預測測試集\n",
    "y_pred = clf.predict(val_X)"
   ]
  },
  {
   "cell_type": "code",
   "execution_count": 3,
   "metadata": {},
   "outputs": [
    {
     "name": "stdout",
     "output_type": "stream",
     "text": [
      "Acuuracy:  0.9736842105263158\n"
     ]
    }
   ],
   "source": [
    "acc = metrics.accuracy_score(val_y, y_pred)\n",
    "print(\"Acuuracy: \", acc)"
   ]
  },
  {
   "cell_type": "code",
   "execution_count": 4,
   "metadata": {},
   "outputs": [
    {
     "name": "stdout",
     "output_type": "stream",
     "text": [
      "['sepal length (cm)', 'sepal width (cm)', 'petal length (cm)', 'petal width (cm)']\n"
     ]
    }
   ],
   "source": [
    "print(iris.feature_names)"
   ]
  },
  {
   "cell_type": "code",
   "execution_count": 5,
   "metadata": {},
   "outputs": [
    {
     "name": "stdout",
     "output_type": "stream",
     "text": [
      "Feature importance:  [0.00805949 0.02014872 0.08035985 0.89143195]\n"
     ]
    }
   ],
   "source": [
    "print(\"Feature importance: \", clf.feature_importances_)"
   ]
  },
  {
   "cell_type": "markdown",
   "metadata": {},
   "source": [
    "## 作業\n",
    "\n",
    "1. 試著調整 DecisionTreeClassifier(...) 中的參數，並觀察是否會改變結果？"
   ]
  },
  {
   "cell_type": "code",
   "execution_count": 6,
   "metadata": {
    "scrolled": true
   },
   "outputs": [
    {
     "name": "stdout",
     "output_type": "stream",
     "text": [
      "Acuuracy:  1.0\n"
     ]
    }
   ],
   "source": [
    "# 建立模型\n",
    "clf = DecisionTreeClassifier(random_state=1, splitter=\"random\")\n",
    "\n",
    "# 訓練模型\n",
    "clf.fit(train_X, train_y)\n",
    "\n",
    "# 預測測試集\n",
    "y_pred = clf.predict(val_X)\n",
    "\n",
    "acc = metrics.accuracy_score(val_y, y_pred)\n",
    "print(\"Acuuracy: \", acc)"
   ]
  },
  {
   "cell_type": "markdown",
   "metadata": {},
   "source": [
    "> 由於類別的數量少，所有改變max_depth、max_leaf_nodes都不會有影響，改成entropy後也沒有影響，但將在每個node選擇的策略由best改成random就得到了1.0的準確率，splitter請參考[What does “splitter” attribute in sklearn's DecisionTreeClassifier do?](https://stackoverflow.com/questions/46756606/what-does-splitter-attribute-in-sklearns-decisiontreeclassifier-do)"
   ]
  },
  {
   "cell_type": "markdown",
   "metadata": {},
   "source": [
    "2. 改用其他資料集 (boston, wine)，並與回歸模型的結果進行比較"
   ]
  },
  {
   "cell_type": "code",
   "execution_count": 7,
   "metadata": {},
   "outputs": [
    {
     "name": "stdout",
     "output_type": "stream",
     "text": [
      "Mean squared error: 2903.10\n"
     ]
    }
   ],
   "source": [
    "from sklearn.metrics import mean_squared_error\n",
    "from sklearn.linear_model import LinearRegression\n",
    "\n",
    "# 讀取糖尿病資料集\n",
    "diabetes = datasets.load_diabetes()\n",
    "\n",
    "# 切分資料\n",
    "train_X, val_X, train_y, val_y = train_test_split(diabetes.data, diabetes.target, test_size=0.25, random_state=1)\n",
    "\n",
    "# 建立一個線性回歸模型\n",
    "regr = LinearRegression()\n",
    "\n",
    "# 將訓練資料丟進去模型訓練\n",
    "regr.fit(train_X, train_y)\n",
    "\n",
    "# 將測試資料丟進模型得到預測結果\n",
    "y_pred = regr.predict(val_X)\n",
    "\n",
    "print(\"Mean squared error: %.2f\"\n",
    "      % mean_squared_error(val_y, y_pred))"
   ]
  },
  {
   "cell_type": "code",
   "execution_count": 8,
   "metadata": {},
   "outputs": [
    {
     "name": "stdout",
     "output_type": "stream",
     "text": [
      "Mean squared error: 3855.63\n"
     ]
    }
   ],
   "source": [
    "# 建立模型\n",
    "clf = DecisionTreeRegressor(random_state=1, splitter=\"random\", max_depth=5)\n",
    "# 訓練模型\n",
    "clf.fit(train_X, train_y)\n",
    "# 預測測試集\n",
    "y_pred = clf.predict(val_X)\n",
    "\n",
    "print(\"Mean squared error: %.2f\"\n",
    "      % mean_squared_error(val_y, y_pred))"
   ]
  },
  {
   "cell_type": "markdown",
   "metadata": {},
   "source": [
    "> 經過調整還是無法比回歸模型好"
   ]
  }
 ],
 "metadata": {
  "kernelspec": {
   "display_name": "Python 3",
   "language": "python",
   "name": "python3"
  },
  "language_info": {
   "codemirror_mode": {
    "name": "ipython",
    "version": 3
   },
   "file_extension": ".py",
   "mimetype": "text/x-python",
   "name": "python",
   "nbconvert_exporter": "python",
   "pygments_lexer": "ipython3",
   "version": "3.6.7"
  }
 },
 "nbformat": 4,
 "nbformat_minor": 2
}
