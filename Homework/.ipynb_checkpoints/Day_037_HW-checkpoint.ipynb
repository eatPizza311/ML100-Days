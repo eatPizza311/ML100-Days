{
 "cells": [
  {
   "cell_type": "markdown",
   "metadata": {},
   "source": [
    "# Day037\n",
    "## regression model 介紹 - 線性迴歸/羅吉斯回歸\n",
    "### 線性回歸(Linear Regression)\n",
    "- 簡單常⾒的線性模型，可使⽤於回歸問題\n",
    "- 訓練速度非常快，但須注意資料共線性、資料標準化等限制\n",
    "> 共線性(collinarity)：當2個（或以上）的自變數互不獨立(即彼此相關)，就是具有「共線性」。「共線性」會使迴歸模型中存在著重複的自變數，提高某一自變數的解釋力與預測力，使得理論的建構不正確。\n",
    "- 通常可作為 baseline 模型作為參考點\n",
    "\n",
    "### 羅吉斯回歸(Logistics Regression)\n",
    "- 雖然有回歸兩個字，但 Logsitics 是分類模型\n",
    "- 將線性回歸的結果，加上 [Sigmoid](https://en.wikipedia.org/wiki/Sigmoid_function) 函數，將預測值限制在 0 ~ 1 之間，即為預測機率值，Sigmoid的公式如下:\n",
    "\n",
    "$$S(x) = \\frac{1}{1 + e^{-x}} = \\frac{e^{x}}{1 + e^{x}}$$\n",
    "    \n",
    "<img src=\"https://taweihuang.hpd.io/wp-content/uploads/2017/12/%E8%9E%A2%E5%B9%95%E5%BF%AB%E7%85%A7-2017-12-22-%E4%B8%8A%E5%8D%8812.16.47-720x485.png\" height=\"400\" width=\"600\">\n",
    "\n",
    "    \n",
    "    \n",
    "- 分類界的 Linear Regression\n",
    "<img src=\"https://plot.ly/~florianh/149/logistic-regression-2-features.png\">"
   ]
  },
  {
   "cell_type": "markdown",
   "metadata": {},
   "source": [
    "## 作業"
   ]
  },
  {
   "cell_type": "markdown",
   "metadata": {},
   "source": [
    "請閱讀以下相關文獻，並回答以下問題\n",
    "\n",
    "[Linear Regression 詳細介紹](https://medium.com/@yehjames/%E8%B3%87%E6%96%99%E5%88%86%E6%9E%90-%E6%A9%9F%E5%99%A8%E5%AD%B8%E7%BF%92-%E7%AC%AC3-3%E8%AC%9B-%E7%B7%9A%E6%80%A7%E5%88%86%E9%A1%9E-%E9%82%8F%E8%BC%AF%E6%96%AF%E5%9B%9E%E6%AD%B8-logistic-regression-%E4%BB%8B%E7%B4%B9-a1a5f47017e5)\n",
    "\n",
    "[Logistics Regression 詳細介紹](https://medium.com/@yehjames/%E8%B3%87%E6%96%99%E5%88%86%E6%9E%90-%E6%A9%9F%E5%99%A8%E5%AD%B8%E7%BF%92-%E7%AC%AC3-3%E8%AC%9B-%E7%B7%9A%E6%80%A7%E5%88%86%E9%A1%9E-%E9%82%8F%E8%BC%AF%E6%96%AF%E5%9B%9E%E6%AD%B8-logistic-regression-%E4%BB%8B%E7%B4%B9-a1a5f47017e5)\n",
    "\n",
    "[你可能不知道的 Logisitc Regression](https://taweihuang.hpd.io/2017/12/22/logreg101/)\n"
   ]
  },
  {
   "cell_type": "markdown",
   "metadata": {},
   "source": [
    "#### 1. 線性回歸模型能夠準確預測非線性關係的資料集嗎?\n",
    "> 對於非線性關係，線性回歸產生的直線無法完全切和資料，所以無法準確預測。\n",
    "#### 2. 回歸模型是否對資料分布有基本假設?\n",
    "> Logistic回歸假設資料遵守[伯努利分布(Bernoulli distribution)](https://zh.wikipedia.org/wiki/%E4%BC%AF%E5%8A%AA%E5%88%A9%E5%88%86%E5%B8%83)，也就是資料不是0就是1。　詳細參考[逻辑回归常见面试题总结](https://blog.csdn.net/qq_23269761/article/details/81778585)"
   ]
  },
  {
   "cell_type": "markdown",
   "metadata": {},
   "source": [
    "###  線性分類延伸 - 感知器(Perceptron) 介紹\n",
    "Perceptron這個演算法只有在資料是線性可分(用一條線就能區分)的形況下才能正確分類（演算法才會停止）。\n",
    "<img src=\"https://cdn-images-1.medium.com/max/800/1*HAmYr3Prou-kZ-38OZf-Uw.png\">\n",
    "Perceptron是以\"神經元模型\"為基礎開發出來的演算法 (只有概念跟真實的生物神經元傳遞訊號的機制類似)，左邊的突觸是神經接收訊息的地方(input)，若input的訊號總和強度大於等於某一個值(threshold)，這個神經元就會透過軸突(axon)發送訊息到右邊的突觸給下一個神經元。\n",
    "\n",
    "舉例來說當你的膝蓋被打超過一定的力道時，膝蓋神經就會發出訊號給肌肉內的神經進行所謂的膝反射。\n",
    "\n",
    "假設左邊的突觸有n個，每一個 input 以$x_1, x_2, x_3, ...x_n$來表示的話，當$w_1x_1 + w_2x_2 + ...w_nx_n$大於某一個定值，就會出發神經元發送信號出去。\n",
    "\n",
    "$w_1 \\sim w_n$以及某一個定值都是這個神經元根據過往經驗學會的數字，平常說在train這個model就是在找出這些值。\n",
    "\n",
    "為了計算方便，通常會把 threshold 移到左邊作為 $w_0$ ($x_0 = 1$)，變成$w_0x_0 + w_1x_1 + w_2x_2 + ...w_nx_n > 0$，以二元分類來說（+1代表一類, -1代表另一類），只要這些數字大於0就判斷是+1,小於等於零就是-1(也可以定成大於等於0就是+1小於零就是-1)，以數學方程式來表示的話如下圖所示\n",
    "<img src=\"https://cdn-images-1.medium.com/max/800/1*MofmXIxbv5AOIXHQp_hSOw.png\">\n",
    "上圖中的Activation function(激勵函數)，就是大於0就判斷1、小於等於0就判斷成是-1。\n",
    "\n",
    "實際運用的程式碼請參考[線性分類-感知器(Perceptron) 介紹](https://medium.com/@yehjames/%E8%B3%87%E6%96%99%E5%88%86%E6%9E%90-%E6%A9%9F%E5%99%A8%E5%AD%B8%E7%BF%92-%E7%AC%AC3-2%E8%AC%9B-%E7%B7%9A%E6%80%A7%E5%88%86%E9%A1%9E-%E6%84%9F%E7%9F%A5%E5%99%A8-perceptron-%E4%BB%8B%E7%B4%B9-84d8b809f866)"
   ]
  }
 ],
 "metadata": {
  "kernelspec": {
   "display_name": "Python 3",
   "language": "python",
   "name": "python3"
  },
  "language_info": {
   "codemirror_mode": {
    "name": "ipython",
    "version": 3
   },
   "file_extension": ".py",
   "mimetype": "text/x-python",
   "name": "python",
   "nbconvert_exporter": "python",
   "pygments_lexer": "ipython3",
   "version": "3.6.7"
  }
 },
 "nbformat": 4,
 "nbformat_minor": 2
}
