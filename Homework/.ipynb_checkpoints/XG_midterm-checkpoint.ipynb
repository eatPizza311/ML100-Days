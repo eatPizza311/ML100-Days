{
 "cells": [
  {
   "cell_type": "code",
   "execution_count": 1,
   "metadata": {},
   "outputs": [],
   "source": [
    "#Import libraries:\n",
    "import pandas as pd\n",
    "import numpy as np\n",
    "import xgboost as xgb\n",
    "from xgboost.sklearn import XGBClassifier\n",
    "from sklearn import metrics   #Additional scklearn functions\n",
    "from sklearn.model_selection import cross_validate, GridSearchCV #Perforing grid search\n",
    "import copy\n",
    "\n",
    "import matplotlib.pylab as plt\n",
    "%matplotlib inline\n",
    "from matplotlib.pylab import rcParams\n",
    "rcParams['figure.figsize'] = 12, 4\n",
    "\n",
    "# Set data_path\n",
    "dir_data = '../Data/Mid/'\n",
    "\n",
    "# Load in data\n",
    "df_train = pd.read_csv(dir_data + 'train_data.csv')\n",
    "df_test = pd.read_csv(dir_data + 'test_features.csv')"
   ]
  },
  {
   "cell_type": "code",
   "execution_count": 2,
   "metadata": {},
   "outputs": [],
   "source": [
    "# 重組資料成為訓練 / 預測用格式\n",
    "train_Y = df_train['poi'].astype('int')\n",
    "names = df_test['name']\n",
    "df_train_dropped = df_train.drop(['name', 'email_address'] , axis=1)\n",
    "df_test_dropped = df_test.drop(['name', 'email_address'] , axis=1)\n",
    "df = pd.concat([df_train_dropped,df_test_dropped])\n",
    "\n",
    "\n",
    "train_num = train_Y.shape[0]\n",
    "train_X = df[:train_num]\n",
    "\n",
    "email_features = ['from_messages', 'from_poi_to_this_person', \n",
    "                  'from_this_person_to_poi', 'shared_receipt_with_poi', 'to_messages']"
   ]
  },
  {
   "cell_type": "code",
   "execution_count": 3,
   "metadata": {},
   "outputs": [],
   "source": [
    "def modelfit(alg, dtrain, predictors,useTrainCV=True, cv_folds=5, early_stopping_rounds=50):\n",
    "    \n",
    "    if useTrainCV:\n",
    "        xgb_param = alg.get_xgb_params()\n",
    "        xgtrain = xgb.DMatrix(dtrain[predictors].values, label=train_Y.values)\n",
    "        cvresult = xgb.cv(xgb_param, xgtrain, num_boost_round=alg.get_params()['n_estimators'], nfold=cv_folds,\n",
    "            metrics='auc', early_stopping_rounds=early_stopping_rounds)\n",
    "        alg.set_params(n_estimators=cvresult.shape[0])\n",
    "    \n",
    "    #Fit the algorithm on the data\n",
    "    alg.fit(dtrain[predictors], train_Y,eval_metric='auc')\n",
    "        \n",
    "    #Predict training set:\n",
    "    dtrain_predictions = alg.predict(dtrain[predictors])\n",
    "    dtrain_predprob = alg.predict_proba(dtrain[predictors])[:,1]\n",
    "        \n",
    "    #Print model report:\n",
    "    print(\"\\nModel Report\")\n",
    "    print(\"Accuracy : %.4g\" % metrics.accuracy_score(train_Y.values, dtrain_predictions)) \n",
    "    print(\"AUC Score (Train): %f\" % metrics.roc_auc_score(train_Y, dtrain_predprob)) \n",
    "                    \n",
    "    feat_imp = pd.Series(alg.get_booster().get_fscore()).sort_values(ascending=False)\n",
    "    feat_imp.plot(kind='bar', title='Feature Importances')\n",
    "    plt.ylabel('Feature Importance Score')"
   ]
  },
  {
   "cell_type": "code",
   "execution_count": 4,
   "metadata": {
    "scrolled": true
   },
   "outputs": [],
   "source": [
    "df_fixed = copy.deepcopy(df)\n",
    "\n",
    "# impute email features with different group's median\n",
    "df_fixed.loc[df_fixed.poi == 1, email_features] = df_fixed[email_features][df_fixed.poi == 1].fillna(df_fixed[email_features][df_fixed.poi == 1].median())\n",
    "df_fixed.loc[df_fixed.poi == 0, email_features] = df_fixed[email_features][df_fixed.poi == 0].fillna(df_fixed[email_features][df_fixed.poi == 0].median())\n",
    "df_fixed = df_fixed.fillna(0)\n",
    "# impute finacial features with 0\n",
    "df_fixed = df_fixed.fillna(0).drop(['poi'] , axis=1)\n",
    "df_fixed.drop(axis=0, labels=['WROBEL BRUCE', 'WHALEY DAVID A', 'THE TRAVEL AGENCY IN THE PARK', 'GRAMM WENDY L', 'LOCKHART EUGENE E'], inplace=True)"
   ]
  },
  {
   "cell_type": "code",
   "execution_count": 5,
   "metadata": {},
   "outputs": [],
   "source": [
    "# Add the new email features to the dataframe\n",
    "df_fixed['to_poi_ratio'] = (df_fixed['from_poi_to_this_person'] / df_fixed['to_messages']).fillna(0)\n",
    "df_fixed['from_poi_ratio'] = (df_fixed['from_this_person_to_poi'] / df_fixed['from_messages']).fillna(0)\n",
    "df_fixed['shared_poi_ratio'] = (df_fixed['shared_receipt_with_poi'] / df_fixed['to_messages']).fillna(0)\n",
    "# Create the new financial features and add to the dataframe\n",
    "df_fixed['bonus_to_salary'] = (df_fixed['bonus'] / df_fixed['salary']).fillna(0)\n",
    "df_fixed['bonus_to_total'] = (df_fixed['bonus'] / df_fixed['total_payments']).fillna(0)\n",
    "\n",
    "train_X = df_fixed[:train_num]\n",
    "test_X = df_fixed[train_num:]"
   ]
  },
  {
   "cell_type": "code",
   "execution_count": 14,
   "metadata": {},
   "outputs": [
    {
     "name": "stdout",
     "output_type": "stream",
     "text": [
      "\n",
      "Model Report\n",
      "Accuracy : 0.9912\n",
      "AUC Score (Train): 0.998462\n"
     ]
    },
    {
     "data": {
      "image/png": "[encoded data removed]",
      "text/plain": [
       "<matplotlib.figure.Figure at 0x136e639d518>"
      ]
     },
     "metadata": {
      "needs_background": "light"
     },
     "output_type": "display_data"
    }
   ],
   "source": [
    "#Choose all features\n",
    "features = [col for col in df_fixed]\n",
    "\n",
    "xgb1 = XGBClassifier(\n",
    " learning_rate =0.1,\n",
    " n_estimators=1000,\n",
    " max_depth=5,\n",
    " min_child_weight=1,\n",
    " gamma=0,\n",
    " subsample=0.8,\n",
    " colsample_bytree=0.8,\n",
    " objective= 'binary:logistic',\n",
    " nthread=4,\n",
    " scale_pos_weight=1,\n",
    " seed=27)\n",
    "modelfit(xgb1, train_X, features, cv_folds=4)"
   ]
  },
  {
   "cell_type": "code",
   "execution_count": 7,
   "metadata": {},
   "outputs": [],
   "source": [
    "xgb1.fit(train_X, train_Y)\n",
    "pred = xgb1.predict_proba(test_X)[:, 1]\n",
    "sub = pd.DataFrame({'name': names, 'poi': pred})\n",
    "sub.to_csv('mid_tuned.csv', index=False)"
   ]
  }
 ],
 "metadata": {
  "kernelspec": {
   "display_name": "Python 3",
   "language": "python",
   "name": "python3"
  },
  "language_info": {
   "codemirror_mode": {
    "name": "ipython",
    "version": 3
   },
   "file_extension": ".py",
   "mimetype": "text/x-python",
   "name": "python",
   "nbconvert_exporter": "python",
   "pygments_lexer": "ipython3",
   "version": "3.6.7"
  }
 },
 "nbformat": 4,
 "nbformat_minor": 2
}
