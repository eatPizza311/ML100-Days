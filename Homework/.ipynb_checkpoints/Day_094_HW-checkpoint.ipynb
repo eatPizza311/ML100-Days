{
 "cells": [
  {
   "cell_type": "markdown",
   "metadata": {},
   "source": [
    "# Day094\n",
    "## 卷積(Convolution)層與參數調整\n",
    "### 卷積的超參數(Hyper parameter )\n",
    "- 內核大小 (Kernel size )\n",
    "- 深度 (Depth, Kernel的總數)\n",
    "- 填充(Padding)\n",
    "- 選框每次移動的步數(Stride)\n",
    "> model.add(Convolution2D(25, 3, 3, input_shape=(1, 28, 28)))<br>\n",
    "=> 卷積引數: filter數量，filter長，filter寬，輸入影像的三維(RGB, 長, 寬)，RGB=1(黑白)，RGB=3(全彩)\n",
    "\n",
    "### 填充或移動步數(Padding/Stride)的用途\n",
    "RUN 過 CNN，有兩個問題\n",
    "- 是不是卷積計算後，卷積後的圖就一定只能變小?\n",
    "    > 可以選擇維持一樣大\n",
    "- 卷積計算是不是一次只能移動一格?\n",
    "\n",
    "#### 控制卷積計算的圖大小 - Valid and Same convolutions\n",
    "- padding = ‘VALID’ :\n",
    "    > 等於最一開始敘述的卷積計算，圖根據filter大小和stride大小而變小\n",
    "    - new_height = new_width = (W - F + 1) / S\n",
    "- padding = ‘ Same’ :\n",
    "    > 意思是就是要讓輸入和輸出的大小是一樣的\n",
    "    - pad=1，表示輸入圖的外圈額外加 1 圈 0 (6\\*6 → 8\\*8)，假設 pad=2，圖外圈額外加 2 圈 0，以此類推\n",
    "    \n",
    "__內核上的值 1 允許過濾亮度，而當過濾器在頂部滑動時，-1突出顯示黑暗，0 突出顯示原始圖像中的灰色__\n",
    "\n",
    "### 多個通道(channels)的卷積作法\n",
    "- 考慮多種顏色\n",
    "- 針對 RGB會有3個對應的 kernel\n",
    "> 輸入的原圖為 $4 \\times 4 \\times 3$，kernel就要 $3 \\times 3 \\times 3$，最後一個 3 為深度要一樣，最後輸出為 $2 \\times 2 \\times 1$，要把三個卷積加起來再加上bias，所以輸出的深度才為1\n",
    "\n"
   ]
  },
  {
   "cell_type": "markdown",
   "metadata": {},
   "source": [
    "## 教學目標:\n",
    "    了解 Convolution 卷積的組成\n",
    "    \n",
    "## 範例內容:\n",
    "    定義單步的卷積\n",
    "    \n",
    "    輸出卷積的計算值"
   ]
  },
  {
   "cell_type": "code",
   "execution_count": 1,
   "metadata": {},
   "outputs": [],
   "source": [
    "import numpy as np"
   ]
  },
  {
   "cell_type": "code",
   "execution_count": 2,
   "metadata": {},
   "outputs": [],
   "source": [
    "# GRADED FUNCTION: conv_single_step\n",
    "def conv_single_step(a_slide_prev, W, b):\n",
    "    \"\"\"\n",
    "    定義一層 Kernel (內核)\n",
    "    Arguments:\n",
    "        a_slice_prev -- 輸入資料的維度\n",
    "        W -- 權重, 被使用在 a_slice_prev\n",
    "        b -- 偏差參數 \n",
    "    Returns:\n",
    "        Z -- 滑動窗口（W，b）卷積在前一個 feature map 上的結果\n",
    "    \"\"\"\n",
    "    \n",
    "    # 定義一個元素介於 a_slice and W\n",
    "    s = a_slice_prev * W\n",
    "    # 加總所有的 \"s\" 並指定給Z.\n",
    "    Z = np.sum(s)\n",
    "    # Add bias b to Z. 這是 float() 函數, \n",
    "    Z = float(Z + b)\n",
    "\n",
    "    return Z"
   ]
  },
  {
   "cell_type": "code",
   "execution_count": 3,
   "metadata": {},
   "outputs": [
    {
     "name": "stdout",
     "output_type": "stream",
     "text": [
      "Z = -6.999089450680221\n"
     ]
    }
   ],
   "source": [
    "'''\n",
    "seed( ) 用於指定隨機數生成時所用算法開始的整數值，\n",
    "如果使用相同的seed( )值，則每次生成的隨即數都相同，\n",
    "如果不設置這個值，則係統根據時間來自己選擇這個值，\n",
    "此時每次生成的隨機數因時間差異而不同。\n",
    "'''\n",
    "np.random.seed(1)\n",
    "#定義一個 4x4x3 的 feature map\n",
    "a_slice_prev = np.random.randn(4, 4, 3)\n",
    "W = np.random.randn(4, 4, 3)\n",
    "b = np.random.randn(1, 1, 1)\n",
    "\n",
    "#取得計算後,卷積矩陣的值\n",
    "Z = conv_single_step(a_slice_prev, W, b)\n",
    "print(\"Z =\", Z)"
   ]
  },
  {
   "cell_type": "markdown",
   "metadata": {},
   "source": [
    "# 作業:\n",
    "    修改 a_slice_prev, 檢查 Z 的輸出"
   ]
  },
  {
   "cell_type": "code",
   "execution_count": 4,
   "metadata": {},
   "outputs": [
    {
     "name": "stdout",
     "output_type": "stream",
     "text": [
      "3*3*3, Z =-5.19283565556167\n",
      "4*4*3, Z =-6.862158951891249\n",
      "5*5*3, Z =4.592364504800378\n",
      "6*6*3, Z =0.08055098774025371\n",
      "7*7*3, Z =4.591329192640259\n"
     ]
    }
   ],
   "source": [
    "np.random.seed(1)\n",
    "#定義一個 axaxd 的 feature map\n",
    "row = 3\n",
    "col = 3\n",
    "\n",
    "for i in range(5):\n",
    "    \n",
    "    a_slice_prev = np.random.randn(row + i, col + i, 3)\n",
    "    W = np.random.randn(row + i, col + i, 3)\n",
    "    b = np.random.randn(1, 1, 1)\n",
    "    #取得計算後,卷積矩陣的值\n",
    "    Z = conv_single_step(a_slice_prev, W, b)\n",
    "    print(f\"{row + i}*{col + i}*3, Z ={Z}\")"
   ]
  }
 ],
 "metadata": {
  "kernelspec": {
   "display_name": "Python 3",
   "language": "python",
   "name": "python3"
  },
  "language_info": {
   "codemirror_mode": {
    "name": "ipython",
    "version": 3
   },
   "file_extension": ".py",
   "mimetype": "text/x-python",
   "name": "python",
   "nbconvert_exporter": "python",
   "pygments_lexer": "ipython3",
   "version": "3.7.1"
  }
 },
 "nbformat": 4,
 "nbformat_minor": 2
}
