{
 "cells": [
  {
   "cell_type": "markdown",
   "metadata": {},
   "source": [
    "# 機器學習百日馬拉松期中考 - Enron Fraud Dataset 安隆公司詐欺案資料集 \n",
    "複習所學的知識點，並依照每日所學逐步建立出解答"
   ]
  },
  {
   "cell_type": "markdown",
   "metadata": {},
   "source": [
    "### Day032 - 機器學習: 流程與步驟\n",
    "1. 資料搜集、前處理: \n",
    "    - 資料前處理: 缺失值填補、離群值處理、標準化\n",
    "    \n",
    "2. 定義目標與評估準則:\n",
    "    - 定義目標:\n",
    "        回歸問題? 分類問題?  <br>\n",
    "        要預測的目標是甚麼? (target 或 y)  <br>\n",
    "        要用甚麼資料來進⾏預測? (predictor 或 x)  <br>\n",
    "        將資料分為\n",
    "        - 訓練集, training set\n",
    "        - 驗證集, validation set\n",
    "        - 測試集, test set\n",
    "        \n",
    "    - 設定評估準則: 不同問題有不同的評估指標\n",
    "        - 回歸問題 (預測值為實數):\n",
    "            - RMSE, Root Mean Square Error\n",
    "            - Mean Absolute Error\n",
    "            - R-Square\n",
    "        - 分類問題 (預測值為類別):\n",
    "            - Accuracy\n",
    "            - F1-score\n",
    "            - AUC, Area Under Curve\n",
    "            \n",
    " \n",
    "3. 建立模型與調整參數:\n",
    "    - 根據設定目標建立機器學習模型\n",
    "    - 各模型都有其超參數需調整，根據經驗與對模型了解、訓練情形等進⾏調參\n",
    "    \n",
    "    \n",
    "4. 導入:\n",
    "    - 建立資料搜集、前處理等流程\n",
    "    - 送進模型進⾏預測\n",
    "    - 輸出預測結果\n",
    "    - 視專案需求整合前後端: 建議統⼀資料格式，方便讀寫 (.json, .csv)"
   ]
  },
  {
   "cell_type": "markdown",
   "metadata": {},
   "source": [
    "### Day001 - 資料介紹與評估指標\n",
    "這部分將回答以下四個問題:\n",
    "1. 為什麼這個問題重要？\n",
    "> 可以透過高階經理人內部的mail來往以及薪資、股票等財務特徵來找出可疑的詐欺犯罪者\n",
    "\n",
    "2. 資料從何而來？\n",
    "> Email資料來自[Enron Email Dataset](https://www.cs.cmu.edu/~./enron/)，由CALO Project收集 <br>\n",
    "財務資料來自[FindLaw.com](http://www.findlaw.com)\n",
    "\n",
    "3. 資料的型態是什麼？\n",
    "> 資料的型態為結構化資料， 有關財務的特徵共有14個(單位皆為美元)，分別為\n",
    "    - salary\n",
    "    - deferral_payments\n",
    "    - total_payments\n",
    "    - loan_advances\n",
    "    - bonus\n",
    "    - restricted_stock_deferred\n",
    "    - deferred_income\n",
    "    - total_stock_value\n",
    "    - expenses\n",
    "    - exercised_stock_options\n",
    "    - other\n",
    "    - long_term_incentive\n",
    "    - restricted_stock\n",
    "    - director_fees\n",
    "    \n",
    "    > 有關 email 的特徵共有六個(除了 email_address，其餘皆為次數)，分別為\n",
    "    - to_messages\n",
    "    - email_address\n",
    "    - from_poi_to_this_person\n",
    "    - from_messages\n",
    "    - from_this_person_to_poi\n",
    "    - shared_receipt_with_poi\n",
    "    \n",
    "    > 要預測的目標為POI label: [‘poi’] (boolean, represented as integer)\n",
    "\n",
    "4. 我們可以回答什麼問題？\n",
    "> Kaggle的評估指標為 AUC"
   ]
  }
 ],
 "metadata": {
  "kernelspec": {
   "display_name": "Python 3",
   "language": "python",
   "name": "python3"
  },
  "language_info": {
   "codemirror_mode": {
    "name": "ipython",
    "version": 3
   },
   "file_extension": ".py",
   "mimetype": "text/x-python",
   "name": "python",
   "nbconvert_exporter": "python",
   "pygments_lexer": "ipython3",
   "version": "3.6.7"
  }
 },
 "nbformat": 4,
 "nbformat_minor": 2
}
