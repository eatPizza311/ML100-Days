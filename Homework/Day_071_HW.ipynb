{
 "cells": [
  {
   "cell_type": "markdown",
   "metadata": {},
   "source": [
    "# Day071\n",
    "## loss function\n",
    "機器學習中所有的算法都需要最大化或最小化一個函數，這個函數被稱為「目標函數」。其中，我們一般把最小化的一類函數，稱為「損失函數」。它能根據預測結果，衡量出模型預測能力的好壞。\n",
    "\n",
    "### 損失函數為什麼是最小化\n",
    "- 期望: 希望模型預測出來的東西可以跟實際的值一樣\n",
    "- 預測出來的東西基本上跟實際值都會有落差\n",
    "    - 在回歸問題稱為「殘差(residual)」\n",
    "    - 在分類問題稱為「錯誤率(error rate)」\n",
    "- 損失函數中的損失就是「實際值(y)和預測值($\\hat{y}$)的落差」，$loss\\ /\\ residual = y - \\hat{y}$\n",
    "\n",
    "\n",
    "$$error\\ rate\\ =\\ \\frac{\\sum_{i=1}^n{sign(y_i\\neq\\hat{y}))}}{n},\\ sign(y_i\\neq\\hat{y})=\\left\\{\\begin{matrix}1,\\ y_i\\neq\\hat{y}\n",
    "\\\\ 0,\\ y_i=\\hat{y}\n",
    "\\end{matrix}\\right.$$\n",
    "\n",
    "### mean_squared_error\n",
    "均方誤差(mean_squared_error)：最小平方法(Least Square) 的目標函數，是預測值與實際值的差距之平均值。還有其他變形的函數，如 mean_absolute_error、mean_absolute_percentage_error、mean_squared_logarithmic_error。\n",
    "$$\\frac{\\sum{(\\hat{y}-y)^2}}{N}$$\n",
    "- 使用時機: \n",
    "    - n個樣本的預測值與實際值的差距\n",
    "    - Numerical 相關\n",
    "- Keras 上的調用方式\n",
    "> from keras import losses <br>\n",
    "model.compile(loss= ‘mean_squared_error‘, optimizer='sgd’) <br>\n",
    "其中包含y_true， y_pred的傳遞，函數是表達如下:<br> keras.losses.mean_squared_error(y_true, y_pred)\n",
    "\n",
    "### Cross Entropy\n",
    "表示兩個機率分布之間的距離，當預測值與實際值愈相近，損失函數就愈小，反之差距很大，就會更影響損失函數的值\n",
    "\n",
    "$$H(y_{true}, y_{pred})\\ =\\ -\\sum{y_{true}\\times log(y_{pred})}$$\n",
    "\n",
    "Ex. $H((1, 0),\\ (0.6, 0.4))\\ =\\ -(1 * log0.6 + 0log0.4) ≈ -(-0.222 + 0) = 0.222$\n",
    "\n",
    "- 要用 Cross Entropy 取代 MSE，因為，在梯度下降時，Cross Entropy 計算速度較快\n",
    "- 使用時機：\n",
    "    - 整數目標：Sparse categorical_crossentropy\n",
    "    - 分類目標：categorical_crossentropy\n",
    "    - 二分類目標：binary_crossentropy\n",
    "- Keras 上的調用方式：\n",
    "> from keras import losses<br>\n",
    "model.compile(loss= ‘categorical_crossentropy ‘, optimizer='sgd’)<br>\n",
    "其中包含y_true， y_pred的傳遞，函數是表達如下:<br>keras.losses.categorical_crossentropy(y_true, y_pred)\n",
    "\n",
    "### Hinge Error (hinge)\n",
    "是一種不考慮負值的單邊誤差，同樣也有多種變形，squared_hinge、categorical_hinge\n",
    "\n",
    "$$l(y)=max(0,\\ 1-y_{true}*y_{pred})$$\n",
    "\n",
    "以二元為例，當預測值(0~1)跟實際值(0, 1)為同號(預測到正確的分類)且$\\left | y \\right | \\geq 1$，$l(y)=0$，但當預測值跟實際值不同號，$l(y)$會隨 $y$ 增加，或是當$\\left | y \\right | < 1$時，儘管同號也會有一樣的情況。\n",
    "- 使用時機\n",
    "    - 適用於『支援向量機』(SVM)的最大間隔分類法(maximum-margin classification)\n",
    "- Keras 上的調用方式：\n",
    "> from keras import losses<br>\n",
    "model.compile(loss= ‘hinge‘, optimizer='sgd’)<br>\n",
    "其中包含y_true， y_pred的傳遞，函數是表達如下:<br>keras.losses.hinge(y_true, y_pred) "
   ]
  },
  {
   "cell_type": "markdown",
   "metadata": {},
   "source": [
    "## 範例\n",
    "#### Import Library"
   ]
  },
  {
   "cell_type": "code",
   "execution_count": 1,
   "metadata": {},
   "outputs": [
    {
     "name": "stderr",
     "output_type": "stream",
     "text": [
      "Using TensorFlow backend.\n"
     ]
    }
   ],
   "source": [
    "from keras.datasets import cifar10\n",
    "import numpy as np\n",
    "np.random.seed(10)"
   ]
  },
  {
   "cell_type": "markdown",
   "metadata": {},
   "source": [
    "#### 資料準備"
   ]
  },
  {
   "cell_type": "code",
   "execution_count": 2,
   "metadata": {},
   "outputs": [],
   "source": [
    "#取得Keras Dataset\n",
    "(x_img_train,y_label_train),(x_img_test,y_label_test)=cifar10.load_data()"
   ]
  },
  {
   "cell_type": "code",
   "execution_count": 3,
   "metadata": {},
   "outputs": [
    {
     "name": "stdout",
     "output_type": "stream",
     "text": [
      "train data: images: (50000, 32, 32, 3)  labels: (50000, 1)\n",
      "test  data: images: (10000, 32, 32, 3)  labels: (10000, 1)\n"
     ]
    }
   ],
   "source": [
    "#確認 CIFAR10 Dataset 資料維度\n",
    "print(\"train data:\",'images:',x_img_train.shape,\n",
    "      \" labels:\",y_label_train.shape) \n",
    "print(\"test  data:\",'images:',x_img_test.shape ,\n",
    "      \" labels:\",y_label_test.shape) "
   ]
  },
  {
   "cell_type": "code",
   "execution_count": 4,
   "metadata": {},
   "outputs": [],
   "source": [
    "#資料正規化\n",
    "x_img_train_normalize = x_img_train.astype('float32') / 255.0\n",
    "x_img_test_normalize = x_img_test.astype('float32') / 255.0"
   ]
  },
  {
   "cell_type": "code",
   "execution_count": 5,
   "metadata": {},
   "outputs": [
    {
     "data": {
      "text/plain": [
       "(10000, 10)"
      ]
     },
     "execution_count": 5,
     "metadata": {},
     "output_type": "execute_result"
    }
   ],
   "source": [
    "#針對Label 做 ONE HOT ENCODE\n",
    "from keras.utils import np_utils\n",
    "y_label_train_OneHot = np_utils.to_categorical(y_label_train)\n",
    "y_label_test_OneHot = np_utils.to_categorical(y_label_test)\n",
    "y_label_test_OneHot.shape"
   ]
  },
  {
   "cell_type": "markdown",
   "metadata": {},
   "source": [
    "#### 建立模型"
   ]
  },
  {
   "cell_type": "code",
   "execution_count": 6,
   "metadata": {},
   "outputs": [],
   "source": [
    "from keras.models import Sequential\n",
    "from keras.layers import Dense, Dropout, Activation, Flatten\n",
    "from keras.layers import Conv2D, MaxPooling2D, ZeroPadding2D"
   ]
  },
  {
   "cell_type": "code",
   "execution_count": 7,
   "metadata": {},
   "outputs": [],
   "source": [
    "model = Sequential()"
   ]
  },
  {
   "cell_type": "code",
   "execution_count": 8,
   "metadata": {},
   "outputs": [],
   "source": [
    "#卷積層1"
   ]
  },
  {
   "cell_type": "code",
   "execution_count": 9,
   "metadata": {},
   "outputs": [
    {
     "name": "stdout",
     "output_type": "stream",
     "text": [
      "WARNING:tensorflow:From C:\\Users\\ChihYing\\Anaconda3\\lib\\site-packages\\tensorflow\\python\\framework\\op_def_library.py:263: colocate_with (from tensorflow.python.framework.ops) is deprecated and will be removed in a future version.\n",
      "Instructions for updating:\n",
      "Colocations handled automatically by placer.\n"
     ]
    }
   ],
   "source": [
    "model.add(Conv2D(filters=32,kernel_size=(3,3),\n",
    "                 input_shape=(32, 32,3), \n",
    "                 activation='relu', \n",
    "                 padding='same'))"
   ]
  },
  {
   "cell_type": "code",
   "execution_count": 10,
   "metadata": {},
   "outputs": [
    {
     "name": "stdout",
     "output_type": "stream",
     "text": [
      "WARNING:tensorflow:From C:\\Users\\ChihYing\\Anaconda3\\lib\\site-packages\\keras\\backend\\tensorflow_backend.py:3445: calling dropout (from tensorflow.python.ops.nn_ops) with keep_prob is deprecated and will be removed in a future version.\n",
      "Instructions for updating:\n",
      "Please use `rate` instead of `keep_prob`. Rate should be set to `rate = 1 - keep_prob`.\n"
     ]
    }
   ],
   "source": [
    "model.add(Dropout(rate=0.25))"
   ]
  },
  {
   "cell_type": "code",
   "execution_count": 11,
   "metadata": {},
   "outputs": [],
   "source": [
    "model.add(MaxPooling2D(pool_size=(2, 2)))"
   ]
  },
  {
   "cell_type": "code",
   "execution_count": 12,
   "metadata": {},
   "outputs": [],
   "source": [
    "#卷積層2與池化層2"
   ]
  },
  {
   "cell_type": "code",
   "execution_count": 13,
   "metadata": {},
   "outputs": [],
   "source": [
    "model.add(Conv2D(filters=64, kernel_size=(3, 3), \n",
    "                 activation='relu', padding='same'))"
   ]
  },
  {
   "cell_type": "code",
   "execution_count": 14,
   "metadata": {},
   "outputs": [],
   "source": [
    "model.add(Dropout(0.25))"
   ]
  },
  {
   "cell_type": "code",
   "execution_count": 15,
   "metadata": {},
   "outputs": [],
   "source": [
    "model.add(MaxPooling2D(pool_size=(2, 2)))"
   ]
  },
  {
   "cell_type": "code",
   "execution_count": 16,
   "metadata": {},
   "outputs": [],
   "source": [
    "#建立神經網路(平坦層、隱藏層、輸出層)"
   ]
  },
  {
   "cell_type": "code",
   "execution_count": 17,
   "metadata": {},
   "outputs": [],
   "source": [
    "model.add(Flatten())\n",
    "model.add(Dropout(rate=0.25))"
   ]
  },
  {
   "cell_type": "code",
   "execution_count": 18,
   "metadata": {},
   "outputs": [],
   "source": [
    "model.add(Dense(1024, activation='relu'))\n",
    "model.add(Dropout(rate=0.25))"
   ]
  },
  {
   "cell_type": "code",
   "execution_count": 19,
   "metadata": {},
   "outputs": [],
   "source": [
    "model.add(Dense(10, activation='softmax'))"
   ]
  },
  {
   "cell_type": "code",
   "execution_count": 20,
   "metadata": {},
   "outputs": [
    {
     "name": "stdout",
     "output_type": "stream",
     "text": [
      "_________________________________________________________________\n",
      "Layer (type)                 Output Shape              Param #   \n",
      "=================================================================\n",
      "conv2d_1 (Conv2D)            (None, 32, 32, 32)        896       \n",
      "_________________________________________________________________\n",
      "dropout_1 (Dropout)          (None, 32, 32, 32)        0         \n",
      "_________________________________________________________________\n",
      "max_pooling2d_1 (MaxPooling2 (None, 16, 16, 32)        0         \n",
      "_________________________________________________________________\n",
      "conv2d_2 (Conv2D)            (None, 16, 16, 64)        18496     \n",
      "_________________________________________________________________\n",
      "dropout_2 (Dropout)          (None, 16, 16, 64)        0         \n",
      "_________________________________________________________________\n",
      "max_pooling2d_2 (MaxPooling2 (None, 8, 8, 64)          0         \n",
      "_________________________________________________________________\n",
      "flatten_1 (Flatten)          (None, 4096)              0         \n",
      "_________________________________________________________________\n",
      "dropout_3 (Dropout)          (None, 4096)              0         \n",
      "_________________________________________________________________\n",
      "dense_1 (Dense)              (None, 1024)              4195328   \n",
      "_________________________________________________________________\n",
      "dropout_4 (Dropout)          (None, 1024)              0         \n",
      "_________________________________________________________________\n",
      "dense_2 (Dense)              (None, 10)                10250     \n",
      "=================================================================\n",
      "Total params: 4,224,970\n",
      "Trainable params: 4,224,970\n",
      "Non-trainable params: 0\n",
      "_________________________________________________________________\n",
      "None\n"
     ]
    }
   ],
   "source": [
    "#檢查model 的STACK\n",
    "print(model.summary())"
   ]
  },
  {
   "cell_type": "markdown",
   "metadata": {},
   "source": [
    "#### 載入之前訓練的模型"
   ]
  },
  {
   "cell_type": "code",
   "execution_count": 21,
   "metadata": {},
   "outputs": [
    {
     "name": "stdout",
     "output_type": "stream",
     "text": [
      "載入模型失敗!開始訓練一個新模型\n"
     ]
    }
   ],
   "source": [
    "try:\n",
    "    model.load_weights(\"SaveModel/cifarCnnModel.h5\")\n",
    "    print(\"載入模型成功!繼續訓練模型\")\n",
    "except :    \n",
    "    print(\"載入模型失敗!開始訓練一個新模型\")"
   ]
  },
  {
   "cell_type": "markdown",
   "metadata": {},
   "source": [
    "#### 訓練模型"
   ]
  },
  {
   "cell_type": "markdown",
   "metadata": {},
   "source": [
    "## 作業: \n",
    "    請分別選用 \"MSE\", \"binary_crossentropy\"\n",
    "    查看Train/test accurancy and loss rate"
   ]
  },
  {
   "cell_type": "code",
   "execution_count": 22,
   "metadata": {},
   "outputs": [],
   "source": [
    "import matplotlib.pyplot as plt\n",
    "def show_train_history(train_history,train_acc,test_acc):\n",
    "    plt.plot(train_history.history[train_acc])\n",
    "    plt.plot(train_history.history[test_acc])\n",
    "    plt.title('Train History')\n",
    "    plt.ylabel('Accuracy')\n",
    "    plt.xlabel('Epoch')\n",
    "    plt.legend(['train', 'test'], loc='upper left')\n",
    "    plt.show()"
   ]
  },
  {
   "cell_type": "markdown",
   "metadata": {},
   "source": [
    "#### categorical_crossentropy"
   ]
  },
  {
   "cell_type": "code",
   "execution_count": 23,
   "metadata": {},
   "outputs": [],
   "source": [
    "model.compile(loss='categorical_crossentropy', optimizer='sgd', metrics=['accuracy'])"
   ]
  },
  {
   "cell_type": "code",
   "execution_count": 24,
   "metadata": {},
   "outputs": [
    {
     "name": "stdout",
     "output_type": "stream",
     "text": [
      "WARNING:tensorflow:From C:\\Users\\ChihYing\\Anaconda3\\lib\\site-packages\\tensorflow\\python\\ops\\math_ops.py:3066: to_int32 (from tensorflow.python.ops.math_ops) is deprecated and will be removed in a future version.\n",
      "Instructions for updating:\n",
      "Use tf.cast instead.\n",
      "Train on 40000 samples, validate on 10000 samples\n",
      "Epoch 1/10\n",
      "40000/40000 [==============================] - 21s 529us/step - loss: 1.8131 - acc: 0.3426 - val_loss: 1.6104 - val_acc: 0.4558\n",
      "Epoch 2/10\n",
      "40000/40000 [==============================] - 19s 472us/step - loss: 1.4489 - acc: 0.4786 - val_loss: 1.3858 - val_acc: 0.5388\n",
      "Epoch 3/10\n",
      "40000/40000 [==============================] - 19s 469us/step - loss: 1.2960 - acc: 0.5389 - val_loss: 1.3028 - val_acc: 0.5846\n",
      "Epoch 4/10\n",
      "40000/40000 [==============================] - 20s 490us/step - loss: 1.1877 - acc: 0.5802 - val_loss: 1.2070 - val_acc: 0.6151\n",
      "Epoch 5/10\n",
      "40000/40000 [==============================] - 18s 458us/step - loss: 1.1007 - acc: 0.6094 - val_loss: 1.1482 - val_acc: 0.6364\n",
      "Epoch 6/10\n",
      "40000/40000 [==============================] - 18s 459us/step - loss: 1.0324 - acc: 0.6351 - val_loss: 1.1126 - val_acc: 0.6316\n",
      "Epoch 7/10\n",
      "40000/40000 [==============================] - 18s 459us/step - loss: 0.9690 - acc: 0.6576 - val_loss: 1.0578 - val_acc: 0.6544\n",
      "Epoch 8/10\n",
      "40000/40000 [==============================] - 19s 480us/step - loss: 0.9144 - acc: 0.6770 - val_loss: 1.0055 - val_acc: 0.6785\n",
      "Epoch 9/10\n",
      "40000/40000 [==============================] - 19s 471us/step - loss: 0.8669 - acc: 0.6954 - val_loss: 0.9837 - val_acc: 0.6718\n",
      "Epoch 10/10\n",
      "40000/40000 [==============================] - 19s 472us/step - loss: 0.8139 - acc: 0.7143 - val_loss: 0.9608 - val_acc: 0.6813\n"
     ]
    }
   ],
   "source": [
    "train_history_categorical_crossentropy=model.fit(x_img_train_normalize, y_label_train_OneHot,\n",
    "                                                 validation_split=0.2,\n",
    "                                                 epochs=10, batch_size=16, verbose=1)          "
   ]
  },
  {
   "cell_type": "code",
   "execution_count": 25,
   "metadata": {},
   "outputs": [
    {
     "data": {
      "image/png": "[encoded data removed]",
      "text/plain": [
       "<Figure size 432x288 with 1 Axes>"
      ]
     },
     "metadata": {
      "needs_background": "light"
     },
     "output_type": "display_data"
    }
   ],
   "source": [
    "show_train_history(train_history_categorical_crossentropy, 'acc','val_acc')"
   ]
  },
  {
   "cell_type": "code",
   "execution_count": 26,
   "metadata": {
    "scrolled": true
   },
   "outputs": [
    {
     "data": {
      "image/png": "[encoded data removed]",
      "text/plain": [
       "<Figure size 432x288 with 1 Axes>"
      ]
     },
     "metadata": {
      "needs_background": "light"
     },
     "output_type": "display_data"
    }
   ],
   "source": [
    "show_train_history(train_history_categorical_crossentropy, 'loss','val_loss')"
   ]
  },
  {
   "cell_type": "markdown",
   "metadata": {},
   "source": [
    "### mse"
   ]
  },
  {
   "cell_type": "code",
   "execution_count": 27,
   "metadata": {},
   "outputs": [],
   "source": [
    "model.compile(loss='mean_squared_error', optimizer='sgd', metrics=['accuracy'])"
   ]
  },
  {
   "cell_type": "code",
   "execution_count": 28,
   "metadata": {},
   "outputs": [
    {
     "name": "stdout",
     "output_type": "stream",
     "text": [
      "Train on 40000 samples, validate on 10000 samples\n",
      "Epoch 1/10\n",
      "40000/40000 [==============================] - 20s 499us/step - loss: 0.0349 - acc: 0.7500 - val_loss: 0.0419 - val_acc: 0.7092\n",
      "Epoch 2/10\n",
      "40000/40000 [==============================] - 20s 489us/step - loss: 0.0342 - acc: 0.7553 - val_loss: 0.0416 - val_acc: 0.7107\n",
      "Epoch 3/10\n",
      "40000/40000 [==============================] - 20s 493us/step - loss: 0.0339 - acc: 0.7568 - val_loss: 0.0413 - val_acc: 0.7135\n",
      "Epoch 4/10\n",
      "40000/40000 [==============================] - 19s 464us/step - loss: 0.0334 - acc: 0.7623 - val_loss: 0.0410 - val_acc: 0.7145\n",
      "Epoch 5/10\n",
      "40000/40000 [==============================] - 18s 448us/step - loss: 0.0330 - acc: 0.7651 - val_loss: 0.0407 - val_acc: 0.7169\n",
      "Epoch 6/10\n",
      "40000/40000 [==============================] - 18s 459us/step - loss: 0.0328 - acc: 0.7651 - val_loss: 0.0408 - val_acc: 0.7144\n",
      "Epoch 7/10\n",
      "40000/40000 [==============================] - 17s 433us/step - loss: 0.0324 - acc: 0.7688 - val_loss: 0.0405 - val_acc: 0.7185\n",
      "Epoch 8/10\n",
      "40000/40000 [==============================] - 17s 430us/step - loss: 0.0324 - acc: 0.7685 - val_loss: 0.0405 - val_acc: 0.7171\n",
      "Epoch 9/10\n",
      "40000/40000 [==============================] - 17s 420us/step - loss: 0.0322 - acc: 0.7711 - val_loss: 0.0403 - val_acc: 0.7174\n",
      "Epoch 10/10\n",
      "40000/40000 [==============================] - 17s 416us/step - loss: 0.0321 - acc: 0.7699 - val_loss: 0.0406 - val_acc: 0.7148\n"
     ]
    }
   ],
   "source": [
    "train_history_mse = model.fit(x_img_train_normalize, y_label_train_OneHot,\n",
    "                             validation_split=0.2,\n",
    "                             epochs=10, batch_size=16, verbose=1)"
   ]
  },
  {
   "cell_type": "code",
   "execution_count": 29,
   "metadata": {},
   "outputs": [
    {
     "data": {
      "image/png": "[encoded data removed]",
      "text/plain": [
       "<Figure size 432x288 with 1 Axes>"
      ]
     },
     "metadata": {
      "needs_background": "light"
     },
     "output_type": "display_data"
    }
   ],
   "source": [
    "show_train_history(train_history_mse, 'acc','val_acc')"
   ]
  },
  {
   "cell_type": "code",
   "execution_count": 30,
   "metadata": {},
   "outputs": [
    {
     "data": {
      "image/png": "[encoded data removed]",
      "text/plain": [
       "<Figure size 432x288 with 1 Axes>"
      ]
     },
     "metadata": {
      "needs_background": "light"
     },
     "output_type": "display_data"
    }
   ],
   "source": [
    "show_train_history(train_history_mse, 'loss','val_loss')"
   ]
  },
  {
   "cell_type": "markdown",
   "metadata": {},
   "source": [
    "#### binary_crossentropy"
   ]
  },
  {
   "cell_type": "code",
   "execution_count": 31,
   "metadata": {},
   "outputs": [],
   "source": [
    "model.compile(loss='binary_crossentropy', optimizer='sgd', metrics=['accuracy'])"
   ]
  },
  {
   "cell_type": "code",
   "execution_count": 32,
   "metadata": {},
   "outputs": [
    {
     "name": "stdout",
     "output_type": "stream",
     "text": [
      "Train on 40000 samples, validate on 10000 samples\n",
      "Epoch 1/10\n",
      "40000/40000 [==============================] - 19s 466us/step - loss: 0.1105 - acc: 0.9570 - val_loss: 0.1388 - val_acc: 0.9463\n",
      "Epoch 2/10\n",
      "40000/40000 [==============================] - 19s 469us/step - loss: 0.1098 - acc: 0.9571 - val_loss: 0.1375 - val_acc: 0.9471\n",
      "Epoch 3/10\n",
      "40000/40000 [==============================] - 18s 444us/step - loss: 0.1080 - acc: 0.9581 - val_loss: 0.1385 - val_acc: 0.9464\n",
      "Epoch 4/10\n",
      "40000/40000 [==============================] - 17s 435us/step - loss: 0.1067 - acc: 0.9580 - val_loss: 0.1363 - val_acc: 0.9477\n",
      "Epoch 5/10\n",
      "40000/40000 [==============================] - 18s 442us/step - loss: 0.1056 - acc: 0.9590 - val_loss: 0.1354 - val_acc: 0.9477\n",
      "Epoch 6/10\n",
      "40000/40000 [==============================] - 18s 444us/step - loss: 0.1038 - acc: 0.9597 - val_loss: 0.1351 - val_acc: 0.9482\n",
      "Epoch 7/10\n",
      "40000/40000 [==============================] - 18s 448us/step - loss: 0.1025 - acc: 0.9602 - val_loss: 0.1338 - val_acc: 0.9486\n",
      "Epoch 8/10\n",
      "40000/40000 [==============================] - 18s 457us/step - loss: 0.1010 - acc: 0.9608 - val_loss: 0.1334 - val_acc: 0.9487\n",
      "Epoch 9/10\n",
      "40000/40000 [==============================] - 19s 465us/step - loss: 0.1006 - acc: 0.9610 - val_loss: 0.1331 - val_acc: 0.9489\n",
      "Epoch 10/10\n",
      "40000/40000 [==============================] - 17s 432us/step - loss: 0.0984 - acc: 0.9619 - val_loss: 0.1316 - val_acc: 0.9496\n"
     ]
    }
   ],
   "source": [
    "train_history_binary = model.fit(x_img_train_normalize, y_label_train_OneHot,\n",
    "                             validation_split=0.2,\n",
    "                             epochs=10, batch_size=16, verbose=1)"
   ]
  },
  {
   "cell_type": "code",
   "execution_count": 33,
   "metadata": {},
   "outputs": [
    {
     "data": {
      "image/png": "[encoded data removed]",
      "text/plain": [
       "<Figure size 432x288 with 1 Axes>"
      ]
     },
     "metadata": {
      "needs_background": "light"
     },
     "output_type": "display_data"
    }
   ],
   "source": [
    "show_train_history(train_history_binary, 'acc','val_acc')"
   ]
  },
  {
   "cell_type": "code",
   "execution_count": 34,
   "metadata": {},
   "outputs": [
    {
     "data": {
      "image/png": "[encoded data removed]",
      "text/plain": [
       "<Figure size 432x288 with 1 Axes>"
      ]
     },
     "metadata": {
      "needs_background": "light"
     },
     "output_type": "display_data"
    }
   ],
   "source": [
    "show_train_history(train_history_binary, 'loss','val_loss')"
   ]
  }
 ],
 "metadata": {
  "anaconda-cloud": {},
  "kernelspec": {
   "display_name": "Python 3",
   "language": "python",
   "name": "python3"
  },
  "language_info": {
   "codemirror_mode": {
    "name": "ipython",
    "version": 3
   },
   "file_extension": ".py",
   "mimetype": "text/x-python",
   "name": "python",
   "nbconvert_exporter": "python",
   "pygments_lexer": "ipython3",
   "version": "3.7.3"
  }
 },
 "nbformat": 4,
 "nbformat_minor": 1
}
