{
 "cells": [
  {
   "cell_type": "markdown",
   "metadata": {},
   "source": [
    "# Day086\n",
    "## 訓練神經網路的細節與技巧 - 使用 callbacks 函數儲存 model\n",
    "### 為何要使用 Model Check Point?\n",
    "> 自動將目前最佳的模型權重存下\n",
    "    - 假如不幸斷線: 可以重新自最佳的權重開始\n",
    "    - 假如要做 Inference: 可以保證使用的是對 monitor metric 最佳的權重\n",
    "\n",
    "### [ModelCheckPoint in Keras](https://keras.io/callbacks/#modelcheckpoint)\n",
    "> from keras.callbacks import ModelCheckPoint<br>\n",
    "checkPoint = ModelCheckPoint('file_path',<br>\n",
    "monitor='val_acc',<br>\n",
    "save_best_only=True)"
   ]
  },
  {
   "cell_type": "markdown",
   "metadata": {},
   "source": [
    "## Work\n",
    "1. 試比較 save_best_only 與否的差異\n",
    "2. 請僅存入將 save_weights_only 設定為 True, 並嘗試 reset ipynb 並將模型與權重重新建回並預測 x_test"
   ]
  },
  {
   "cell_type": "code",
   "execution_count": 1,
   "metadata": {},
   "outputs": [
    {
     "name": "stderr",
     "output_type": "stream",
     "text": [
      "Using TensorFlow backend.\n"
     ]
    }
   ],
   "source": [
    "import keras"
   ]
  },
  {
   "cell_type": "code",
   "execution_count": 2,
   "metadata": {},
   "outputs": [],
   "source": [
    "train, test = keras.datasets.cifar10.load_data()"
   ]
  },
  {
   "cell_type": "code",
   "execution_count": 3,
   "metadata": {},
   "outputs": [],
   "source": [
    "## 資料前處理\n",
    "def preproc_x(x, flatten=True):\n",
    "    x = x / 255.\n",
    "    if flatten:\n",
    "        x = x.reshape((len(x), -1))\n",
    "    return x\n",
    "\n",
    "def preproc_y(y, num_classes=10):\n",
    "    if y.shape[-1] == 1:\n",
    "        y = keras.utils.to_categorical(y, num_classes)\n",
    "    return y    "
   ]
  },
  {
   "cell_type": "code",
   "execution_count": 4,
   "metadata": {},
   "outputs": [],
   "source": [
    "x_train, y_train = train\n",
    "x_test, y_test = test\n",
    "\n",
    "# Preproc the inputs\n",
    "x_train = preproc_x(x_train)\n",
    "x_test = preproc_x(x_test)\n",
    "\n",
    "# Preprc the outputs\n",
    "y_train = preproc_y(y_train)\n",
    "y_test = preproc_y(y_test)"
   ]
  },
  {
   "cell_type": "code",
   "execution_count": 5,
   "metadata": {},
   "outputs": [],
   "source": [
    "def build_mlp(input_shape, output_units=10, num_neurons=[512, 256, 128]):\n",
    "    \"\"\"\n",
    "    Build your own model\n",
    "    \"\"\"\n",
    "    input_layer = keras.layers.Input(input_shape)\n",
    "    \n",
    "    for i, units in enumerate(num_neurons):\n",
    "        if i == 0:\n",
    "            x = keras.layers.Dense(units=units,\n",
    "                                   activation='relu',\n",
    "                                   name='hidden_layer'+str(i+1))(input_layer)\n",
    "            x = keras.layers.BatchNormalization()(x)\n",
    "        else:\n",
    "            x = keras.layers.Dense(units=units,\n",
    "                                   activation='relu',\n",
    "                                   name='hidden_layer'+str(i+1))(x)\n",
    "            x = keras.layers.BatchNormalization()(x)\n",
    "    out = keras.layers.Dense(units=output_units, activation='softmax', name='output')(x)\n",
    "    \n",
    "    model = keras.models.Model(inputs=[input_layer], outputs=[out])\n",
    "    return model"
   ]
  },
  {
   "cell_type": "code",
   "execution_count": 6,
   "metadata": {},
   "outputs": [],
   "source": [
    "## 超參數設定\n",
    "\"\"\"\n",
    "Set your hyper-parameters\n",
    "\"\"\"\n",
    "LEARNING_RATE = 1e-3\n",
    "EPOCHS = 50\n",
    "BATCH_SIZE = 1024\n",
    "MOMENTUM = 0.95"
   ]
  },
  {
   "cell_type": "markdown",
   "metadata": {},
   "source": [
    "### save_best_only = False"
   ]
  },
  {
   "cell_type": "code",
   "execution_count": 9,
   "metadata": {},
   "outputs": [],
   "source": [
    "# 載入 Callbacks\n",
    "from keras.callbacks import ModelCheckpoint\n",
    "\"\"\"\n",
    "Set model checkpoint callbacks\n",
    "\"\"\"\n",
    "# file_path = \"./weights.{epoch:02d}-{val_loss:.2f}.hdf5\"\n",
    "file_path = \"./tmp.hdf5\"\n",
    "checkpoint = ModelCheckpoint(file_path,\n",
    "                             monitor='val_loss',\n",
    "                             save_best_only=False)"
   ]
  },
  {
   "cell_type": "code",
   "execution_count": 10,
   "metadata": {
    "scrolled": true
   },
   "outputs": [
    {
     "name": "stdout",
     "output_type": "stream",
     "text": [
      "_________________________________________________________________\n",
      "Layer (type)                 Output Shape              Param #   \n",
      "=================================================================\n",
      "input_2 (InputLayer)         (None, 3072)              0         \n",
      "_________________________________________________________________\n",
      "hidden_layer1 (Dense)        (None, 512)               1573376   \n",
      "_________________________________________________________________\n",
      "batch_normalization_4 (Batch (None, 512)               2048      \n",
      "_________________________________________________________________\n",
      "hidden_layer2 (Dense)        (None, 256)               131328    \n",
      "_________________________________________________________________\n",
      "batch_normalization_5 (Batch (None, 256)               1024      \n",
      "_________________________________________________________________\n",
      "hidden_layer3 (Dense)        (None, 128)               32896     \n",
      "_________________________________________________________________\n",
      "batch_normalization_6 (Batch (None, 128)               512       \n",
      "_________________________________________________________________\n",
      "output (Dense)               (None, 10)                1290      \n",
      "=================================================================\n",
      "Total params: 1,742,474\n",
      "Trainable params: 1,740,682\n",
      "Non-trainable params: 1,792\n",
      "_________________________________________________________________\n",
      "Train on 50000 samples, validate on 10000 samples\n",
      "Epoch 1/50\n",
      "50000/50000 [==============================] - 3s 64us/step - loss: 2.1893 - acc: 0.2740 - val_loss: 2.0827 - val_acc: 0.3174\n",
      "Epoch 2/50\n",
      "50000/50000 [==============================] - 2s 37us/step - loss: 1.7485 - acc: 0.3935 - val_loss: 1.7956 - val_acc: 0.3794\n",
      "Epoch 3/50\n",
      "50000/50000 [==============================] - 2s 39us/step - loss: 1.6220 - acc: 0.4357 - val_loss: 1.6756 - val_acc: 0.4140\n",
      "Epoch 4/50\n",
      "50000/50000 [==============================] - 2s 41us/step - loss: 1.5473 - acc: 0.4626 - val_loss: 1.6285 - val_acc: 0.4268\n",
      "Epoch 5/50\n",
      "50000/50000 [==============================] - 2s 39us/step - loss: 1.4917 - acc: 0.4799 - val_loss: 1.5864 - val_acc: 0.4402\n",
      "Epoch 6/50\n",
      "50000/50000 [==============================] - 2s 43us/step - loss: 1.4445 - acc: 0.4964 - val_loss: 1.5637 - val_acc: 0.4442\n",
      "Epoch 7/50\n",
      "50000/50000 [==============================] - 2s 38us/step - loss: 1.4058 - acc: 0.5103 - val_loss: 1.5435 - val_acc: 0.4538\n",
      "Epoch 8/50\n",
      "50000/50000 [==============================] - 2s 38us/step - loss: 1.3711 - acc: 0.5220 - val_loss: 1.5404 - val_acc: 0.4516\n",
      "Epoch 9/50\n",
      "50000/50000 [==============================] - 2s 40us/step - loss: 1.3364 - acc: 0.5356 - val_loss: 1.5082 - val_acc: 0.4614\n",
      "Epoch 10/50\n",
      "50000/50000 [==============================] - 2s 39us/step - loss: 1.3070 - acc: 0.5461 - val_loss: 1.5114 - val_acc: 0.4696\n",
      "Epoch 11/50\n",
      "50000/50000 [==============================] - 2s 39us/step - loss: 1.2776 - acc: 0.5562 - val_loss: 1.5022 - val_acc: 0.4710\n",
      "Epoch 12/50\n",
      "50000/50000 [==============================] - 2s 39us/step - loss: 1.2508 - acc: 0.5671 - val_loss: 1.4823 - val_acc: 0.4774\n",
      "Epoch 13/50\n",
      "50000/50000 [==============================] - 2s 41us/step - loss: 1.2264 - acc: 0.5754 - val_loss: 1.4874 - val_acc: 0.4732\n",
      "Epoch 14/50\n",
      "50000/50000 [==============================] - 2s 40us/step - loss: 1.2003 - acc: 0.5836 - val_loss: 1.4793 - val_acc: 0.4751\n",
      "Epoch 15/50\n",
      "50000/50000 [==============================] - 2s 41us/step - loss: 1.1765 - acc: 0.5940 - val_loss: 1.4776 - val_acc: 0.4794\n",
      "Epoch 16/50\n",
      "50000/50000 [==============================] - 2s 37us/step - loss: 1.1520 - acc: 0.6025 - val_loss: 1.4811 - val_acc: 0.4774\n",
      "Epoch 17/50\n",
      "50000/50000 [==============================] - 2s 42us/step - loss: 1.1288 - acc: 0.6116 - val_loss: 1.4667 - val_acc: 0.4845\n",
      "Epoch 18/50\n",
      "50000/50000 [==============================] - 2s 38us/step - loss: 1.1057 - acc: 0.6205 - val_loss: 1.4642 - val_acc: 0.4862\n",
      "Epoch 19/50\n",
      "50000/50000 [==============================] - 2s 38us/step - loss: 1.0819 - acc: 0.6311 - val_loss: 1.4606 - val_acc: 0.4857\n",
      "Epoch 20/50\n",
      "50000/50000 [==============================] - 2s 38us/step - loss: 1.0624 - acc: 0.6379 - val_loss: 1.4830 - val_acc: 0.4836\n",
      "Epoch 21/50\n",
      "50000/50000 [==============================] - 2s 39us/step - loss: 1.0400 - acc: 0.6462 - val_loss: 1.4689 - val_acc: 0.4867\n",
      "Epoch 22/50\n",
      "50000/50000 [==============================] - 2s 38us/step - loss: 1.0176 - acc: 0.6554 - val_loss: 1.4735 - val_acc: 0.4836\n",
      "Epoch 23/50\n",
      "50000/50000 [==============================] - 2s 40us/step - loss: 0.9969 - acc: 0.6642 - val_loss: 1.4703 - val_acc: 0.4900\n",
      "Epoch 24/50\n",
      "50000/50000 [==============================] - 2s 39us/step - loss: 0.9737 - acc: 0.6727 - val_loss: 1.4819 - val_acc: 0.4911\n",
      "Epoch 25/50\n",
      "50000/50000 [==============================] - 2s 38us/step - loss: 0.9546 - acc: 0.6812 - val_loss: 1.4673 - val_acc: 0.4895\n",
      "Epoch 26/50\n",
      "50000/50000 [==============================] - 2s 37us/step - loss: 0.9325 - acc: 0.6896 - val_loss: 1.4741 - val_acc: 0.4929\n",
      "Epoch 27/50\n",
      "50000/50000 [==============================] - 2s 38us/step - loss: 0.9136 - acc: 0.6961 - val_loss: 1.4767 - val_acc: 0.4945\n",
      "Epoch 28/50\n",
      "50000/50000 [==============================] - 2s 38us/step - loss: 0.8906 - acc: 0.7062 - val_loss: 1.4853 - val_acc: 0.4901\n",
      "Epoch 29/50\n",
      "50000/50000 [==============================] - 2s 37us/step - loss: 0.8718 - acc: 0.7133 - val_loss: 1.4913 - val_acc: 0.4920\n",
      "Epoch 30/50\n",
      "50000/50000 [==============================] - 2s 38us/step - loss: 0.8525 - acc: 0.7206 - val_loss: 1.4835 - val_acc: 0.4913\n",
      "Epoch 31/50\n",
      "50000/50000 [==============================] - 2s 38us/step - loss: 0.8314 - acc: 0.7281 - val_loss: 1.5029 - val_acc: 0.4912\n",
      "Epoch 32/50\n",
      "50000/50000 [==============================] - 2s 38us/step - loss: 0.8126 - acc: 0.7351 - val_loss: 1.5065 - val_acc: 0.4888\n",
      "Epoch 33/50\n",
      "50000/50000 [==============================] - 2s 39us/step - loss: 0.7927 - acc: 0.7443 - val_loss: 1.5076 - val_acc: 0.4892\n",
      "Epoch 34/50\n",
      "50000/50000 [==============================] - 2s 38us/step - loss: 0.7754 - acc: 0.7507 - val_loss: 1.5333 - val_acc: 0.4943\n",
      "Epoch 35/50\n",
      "50000/50000 [==============================] - 2s 39us/step - loss: 0.7530 - acc: 0.7602 - val_loss: 1.5282 - val_acc: 0.4930\n",
      "Epoch 36/50\n",
      "50000/50000 [==============================] - 2s 39us/step - loss: 0.7341 - acc: 0.7670 - val_loss: 1.5467 - val_acc: 0.4931\n",
      "Epoch 37/50\n",
      "50000/50000 [==============================] - 2s 38us/step - loss: 0.7165 - acc: 0.7739 - val_loss: 1.5490 - val_acc: 0.4936\n",
      "Epoch 38/50\n",
      "50000/50000 [==============================] - 2s 43us/step - loss: 0.6974 - acc: 0.7815 - val_loss: 1.5845 - val_acc: 0.4900\n",
      "Epoch 39/50\n",
      "50000/50000 [==============================] - 2s 41us/step - loss: 0.6797 - acc: 0.7886 - val_loss: 1.5635 - val_acc: 0.4907\n",
      "Epoch 40/50\n",
      "50000/50000 [==============================] - 2s 40us/step - loss: 0.6601 - acc: 0.7965 - val_loss: 1.5773 - val_acc: 0.4972\n",
      "Epoch 41/50\n",
      "50000/50000 [==============================] - 2s 39us/step - loss: 0.6436 - acc: 0.8038 - val_loss: 1.5921 - val_acc: 0.4860\n",
      "Epoch 42/50\n",
      "50000/50000 [==============================] - 2s 39us/step - loss: 0.6213 - acc: 0.8135 - val_loss: 1.5976 - val_acc: 0.4914\n",
      "Epoch 43/50\n",
      "50000/50000 [==============================] - 2s 41us/step - loss: 0.6051 - acc: 0.8180 - val_loss: 1.6220 - val_acc: 0.4899\n",
      "Epoch 44/50\n",
      "50000/50000 [==============================] - 2s 40us/step - loss: 0.5901 - acc: 0.8237 - val_loss: 1.6406 - val_acc: 0.4924\n",
      "Epoch 45/50\n",
      "50000/50000 [==============================] - 2s 39us/step - loss: 0.5694 - acc: 0.8330 - val_loss: 1.6270 - val_acc: 0.4970\n",
      "Epoch 46/50\n",
      "50000/50000 [==============================] - 2s 38us/step - loss: 0.5535 - acc: 0.8392 - val_loss: 1.6630 - val_acc: 0.4863\n",
      "Epoch 47/50\n",
      "50000/50000 [==============================] - 2s 38us/step - loss: 0.5350 - acc: 0.8464 - val_loss: 1.6466 - val_acc: 0.4900\n",
      "Epoch 48/50\n",
      "50000/50000 [==============================] - 2s 37us/step - loss: 0.5184 - acc: 0.8536 - val_loss: 1.6741 - val_acc: 0.4882\n",
      "Epoch 49/50\n",
      "50000/50000 [==============================] - 2s 37us/step - loss: 0.5028 - acc: 0.8596 - val_loss: 1.6990 - val_acc: 0.4874\n"
     ]
    },
    {
     "name": "stdout",
     "output_type": "stream",
     "text": [
      "Epoch 50/50\n",
      "50000/50000 [==============================] - 2s 38us/step - loss: 0.4854 - acc: 0.8658 - val_loss: 1.6887 - val_acc: 0.4863\n"
     ]
    }
   ],
   "source": [
    "\"\"\"\n",
    "Write your training loop and show the results\n",
    "\"\"\"\n",
    "model = build_mlp(input_shape=x_train.shape[1:])\n",
    "model.summary()\n",
    "\n",
    "optimizer = keras.optimizers.SGD(lr=LEARNING_RATE, nesterov=True, momentum=MOMENTUM)\n",
    "model.compile(loss='categorical_crossentropy', metrics=['accuracy'], optimizer=optimizer)\n",
    "\n",
    "model.fit(x_train, y_train,\n",
    "          epochs=EPOCHS,\n",
    "          batch_size=BATCH_SIZE,\n",
    "          validation_data=(x_test, y_test),\n",
    "          shuffle=True,\n",
    "          callbacks=[checkpoint])\n",
    "\n",
    "# collect the result\n",
    "train_loss = model.history.history[\"loss\"]\n",
    "valid_loss = model.history.history[\"val_loss\"]\n",
    "train_acc = model.history.history[\"acc\"]\n",
    "valid_acc = model.history.history[\"val_acc\"]"
   ]
  },
  {
   "cell_type": "code",
   "execution_count": 14,
   "metadata": {},
   "outputs": [
    {
     "name": "stdout",
     "output_type": "stream",
     "text": [
      "10000/10000 [==============================] - 1s 58us/step\n",
      "10000/10000 [==============================] - 1s 61us/step\n"
     ]
    }
   ],
   "source": [
    "# Load back\n",
    "model = keras.models.load_model(\"./tmp.hdf5\")\n",
    "loss_loadback, acc_loadback = model.evaluate(x_test, y_test)\n",
    "\n",
    "model_diff = keras.models.load_model(\"./weights.50-1.69.hdf5\")\n",
    "loss_loadback_diff, acc_loadback_diff = model_diff.evaluate(x_test, y_test)"
   ]
  },
  {
   "cell_type": "code",
   "execution_count": 15,
   "metadata": {},
   "outputs": [
    {
     "data": {
      "image/png": "[encoded data removed]",
      "text/plain": [
       "<Figure size 432x288 with 1 Axes>"
      ]
     },
     "metadata": {
      "needs_background": "light"
     },
     "output_type": "display_data"
    },
    {
     "data": {
      "image/png": "[encoded data removed]",
      "text/plain": [
       "<Figure size 432x288 with 1 Axes>"
      ]
     },
     "metadata": {
      "needs_background": "light"
     },
     "output_type": "display_data"
    }
   ],
   "source": [
    "import matplotlib.pyplot as plt\n",
    "%matplotlib inline\n",
    "\n",
    "plt.plot(range(len(train_loss)), train_loss, label=\"train loss\")\n",
    "plt.plot(range(len(valid_loss)), valid_loss, label=\"valid loss\")\n",
    "plt.hlines(y=loss_loadback, xmin=0, xmax=len(train_loss), colors='r', linestyles='--')\n",
    "plt.hlines(y=loss_loadback_diff, xmin=0, xmax=len(train_loss), colors='g', linestyles=':')\n",
    "plt.legend()\n",
    "plt.title(\"Loss\")\n",
    "plt.show()\n",
    "\n",
    "plt.plot(range(len(train_acc)), train_acc, label=\"train accuracy\")\n",
    "plt.plot(range(len(valid_acc)), valid_acc, label=\"valid accuracy\")\n",
    "plt.hlines(y=acc_loadback, xmin=0, xmax=len(train_loss), colors='r', linestyles='--')\n",
    "plt.hlines(y=acc_loadback_diff, xmin=0, xmax=len(train_loss), colors='g', linestyles=':')\n",
    "\n",
    "plt.legend()\n",
    "plt.title(\"Accuracy\")\n",
    "plt.show()"
   ]
  },
  {
   "cell_type": "markdown",
   "metadata": {},
   "source": [
    "> 如果有改名字的話就會在每一次epoch都存，如果沒有就會存最後一次，所以紅線跟綠線是重疊在 loss=1.69 的"
   ]
  },
  {
   "cell_type": "markdown",
   "metadata": {},
   "source": [
    "### save_best_only = True"
   ]
  },
  {
   "cell_type": "code",
   "execution_count": 21,
   "metadata": {},
   "outputs": [],
   "source": [
    "\"\"\"\n",
    "Set model checkpoint callbacks\n",
    "\"\"\"\n",
    "# file_path = \"./weights.{epoch:02d}-{val_loss:.2f}.hdf5\"\n",
    "file_path = \"./tmp.hdf5\"\n",
    "checkpoint = ModelCheckpoint(file_path,\n",
    "                             monitor='val_loss',\n",
    "                             save_best_only=True)"
   ]
  },
  {
   "cell_type": "code",
   "execution_count": 22,
   "metadata": {},
   "outputs": [
    {
     "name": "stdout",
     "output_type": "stream",
     "text": [
      "Train on 50000 samples, validate on 10000 samples\n",
      "Epoch 1/50\n",
      "50000/50000 [==============================] - 3s 67us/step - loss: 2.2145 - acc: 0.2661 - val_loss: 2.0519 - val_acc: 0.3121\n",
      "Epoch 2/50\n",
      "50000/50000 [==============================] - 2s 38us/step - loss: 1.7363 - acc: 0.3944 - val_loss: 1.8081 - val_acc: 0.3767\n",
      "Epoch 3/50\n",
      "50000/50000 [==============================] - 2s 38us/step - loss: 1.6139 - acc: 0.4336 - val_loss: 1.6805 - val_acc: 0.4191\n",
      "Epoch 4/50\n",
      "50000/50000 [==============================] - 2s 37us/step - loss: 1.5434 - acc: 0.4584 - val_loss: 1.6265 - val_acc: 0.4276\n",
      "Epoch 5/50\n",
      "50000/50000 [==============================] - 2s 39us/step - loss: 1.4852 - acc: 0.4799 - val_loss: 1.6132 - val_acc: 0.4412\n",
      "Epoch 6/50\n",
      "50000/50000 [==============================] - 2s 38us/step - loss: 1.4441 - acc: 0.4939 - val_loss: 1.5725 - val_acc: 0.4467\n",
      "Epoch 7/50\n",
      "50000/50000 [==============================] - 2s 38us/step - loss: 1.4031 - acc: 0.5090 - val_loss: 1.5555 - val_acc: 0.4619\n",
      "Epoch 8/50\n",
      "50000/50000 [==============================] - 2s 38us/step - loss: 1.3674 - acc: 0.5216 - val_loss: 1.5363 - val_acc: 0.4658\n",
      "Epoch 9/50\n",
      "50000/50000 [==============================] - 2s 38us/step - loss: 1.3378 - acc: 0.5321 - val_loss: 1.5284 - val_acc: 0.4656\n",
      "Epoch 10/50\n",
      "50000/50000 [==============================] - 2s 38us/step - loss: 1.3059 - acc: 0.5434 - val_loss: 1.5146 - val_acc: 0.4690\n",
      "Epoch 11/50\n",
      "50000/50000 [==============================] - 2s 38us/step - loss: 1.2774 - acc: 0.5560 - val_loss: 1.4987 - val_acc: 0.4728\n",
      "Epoch 12/50\n",
      "50000/50000 [==============================] - 2s 38us/step - loss: 1.2519 - acc: 0.5640 - val_loss: 1.4977 - val_acc: 0.4744\n",
      "Epoch 13/50\n",
      "50000/50000 [==============================] - 2s 38us/step - loss: 1.2257 - acc: 0.5749 - val_loss: 1.4894 - val_acc: 0.4796\n",
      "Epoch 14/50\n",
      "50000/50000 [==============================] - 2s 39us/step - loss: 1.1997 - acc: 0.5832 - val_loss: 1.4901 - val_acc: 0.4768\n",
      "Epoch 15/50\n",
      "50000/50000 [==============================] - 2s 37us/step - loss: 1.1757 - acc: 0.5952 - val_loss: 1.4836 - val_acc: 0.4802\n",
      "Epoch 16/50\n",
      "50000/50000 [==============================] - 2s 37us/step - loss: 1.1525 - acc: 0.6015 - val_loss: 1.4721 - val_acc: 0.4862\n",
      "Epoch 17/50\n",
      "50000/50000 [==============================] - 2s 38us/step - loss: 1.1284 - acc: 0.6126 - val_loss: 1.4718 - val_acc: 0.4856\n",
      "Epoch 18/50\n",
      "50000/50000 [==============================] - 2s 38us/step - loss: 1.1028 - acc: 0.6209 - val_loss: 1.4652 - val_acc: 0.4873\n",
      "Epoch 19/50\n",
      "50000/50000 [==============================] - 2s 38us/step - loss: 1.0824 - acc: 0.6296 - val_loss: 1.4758 - val_acc: 0.4808\n",
      "Epoch 20/50\n",
      "50000/50000 [==============================] - 2s 40us/step - loss: 1.0608 - acc: 0.6367 - val_loss: 1.4675 - val_acc: 0.4874\n",
      "Epoch 21/50\n",
      "50000/50000 [==============================] - 2s 42us/step - loss: 1.0394 - acc: 0.6463 - val_loss: 1.4607 - val_acc: 0.4914\n",
      "Epoch 22/50\n",
      "50000/50000 [==============================] - 2s 41us/step - loss: 1.0160 - acc: 0.6539 - val_loss: 1.4599 - val_acc: 0.4941\n",
      "Epoch 23/50\n",
      "50000/50000 [==============================] - 2s 40us/step - loss: 0.9937 - acc: 0.6635 - val_loss: 1.4629 - val_acc: 0.4925\n",
      "Epoch 24/50\n",
      "50000/50000 [==============================] - 2s 44us/step - loss: 0.9757 - acc: 0.6709 - val_loss: 1.4661 - val_acc: 0.4917\n",
      "Epoch 25/50\n",
      "50000/50000 [==============================] - 2s 42us/step - loss: 0.9528 - acc: 0.6794 - val_loss: 1.4653 - val_acc: 0.4954\n",
      "Epoch 26/50\n",
      "50000/50000 [==============================] - 2s 37us/step - loss: 0.9336 - acc: 0.6860 - val_loss: 1.4733 - val_acc: 0.4909\n",
      "Epoch 27/50\n",
      "50000/50000 [==============================] - 3s 56us/step - loss: 0.9125 - acc: 0.6952 - val_loss: 1.4892 - val_acc: 0.4929\n",
      "Epoch 28/50\n",
      "50000/50000 [==============================] - 3s 52us/step - loss: 0.8921 - acc: 0.7030 - val_loss: 1.4975 - val_acc: 0.4905\n",
      "Epoch 29/50\n",
      "50000/50000 [==============================] - 2s 47us/step - loss: 0.8715 - acc: 0.7117 - val_loss: 1.4964 - val_acc: 0.4915\n",
      "Epoch 30/50\n",
      "50000/50000 [==============================] - 2s 41us/step - loss: 0.8511 - acc: 0.7200 - val_loss: 1.5057 - val_acc: 0.4879\n",
      "Epoch 31/50\n",
      "50000/50000 [==============================] - 2s 40us/step - loss: 0.8313 - acc: 0.7272 - val_loss: 1.5081 - val_acc: 0.4864\n",
      "Epoch 32/50\n",
      "50000/50000 [==============================] - 2s 40us/step - loss: 0.8113 - acc: 0.7355 - val_loss: 1.5033 - val_acc: 0.4918\n",
      "Epoch 33/50\n",
      "50000/50000 [==============================] - 2s 39us/step - loss: 0.7921 - acc: 0.7425 - val_loss: 1.5140 - val_acc: 0.4939\n",
      "Epoch 34/50\n",
      "50000/50000 [==============================] - 2s 38us/step - loss: 0.7717 - acc: 0.7509 - val_loss: 1.5113 - val_acc: 0.4968\n",
      "Epoch 35/50\n",
      "50000/50000 [==============================] - 2s 40us/step - loss: 0.7535 - acc: 0.7567 - val_loss: 1.5393 - val_acc: 0.4881\n",
      "Epoch 36/50\n",
      "50000/50000 [==============================] - 2s 39us/step - loss: 0.7342 - acc: 0.7659 - val_loss: 1.5398 - val_acc: 0.4924\n",
      "Epoch 37/50\n",
      "50000/50000 [==============================] - 2s 40us/step - loss: 0.7147 - acc: 0.7737 - val_loss: 1.5429 - val_acc: 0.4925\n",
      "Epoch 38/50\n",
      "50000/50000 [==============================] - 2s 40us/step - loss: 0.6951 - acc: 0.7833 - val_loss: 1.5833 - val_acc: 0.4877\n",
      "Epoch 39/50\n",
      "50000/50000 [==============================] - 2s 40us/step - loss: 0.6796 - acc: 0.7873 - val_loss: 1.5597 - val_acc: 0.4914\n",
      "Epoch 40/50\n",
      "50000/50000 [==============================] - 2s 40us/step - loss: 0.6577 - acc: 0.7959 - val_loss: 1.5853 - val_acc: 0.4889\n",
      "Epoch 41/50\n",
      "50000/50000 [==============================] - 2s 39us/step - loss: 0.6392 - acc: 0.8035 - val_loss: 1.6058 - val_acc: 0.4919\n",
      "Epoch 42/50\n",
      "50000/50000 [==============================] - 2s 39us/step - loss: 0.6215 - acc: 0.8101 - val_loss: 1.6130 - val_acc: 0.4836\n",
      "Epoch 43/50\n",
      "50000/50000 [==============================] - 2s 39us/step - loss: 0.6046 - acc: 0.8178 - val_loss: 1.6126 - val_acc: 0.4899\n",
      "Epoch 44/50\n",
      "50000/50000 [==============================] - 2s 39us/step - loss: 0.5859 - acc: 0.8253 - val_loss: 1.6404 - val_acc: 0.4857\n",
      "Epoch 45/50\n",
      "50000/50000 [==============================] - 2s 40us/step - loss: 0.5684 - acc: 0.8317 - val_loss: 1.6415 - val_acc: 0.4874\n",
      "Epoch 46/50\n",
      "50000/50000 [==============================] - 2s 39us/step - loss: 0.5506 - acc: 0.8375 - val_loss: 1.6407 - val_acc: 0.4888\n",
      "Epoch 47/50\n",
      "50000/50000 [==============================] - 2s 39us/step - loss: 0.5359 - acc: 0.8448 - val_loss: 1.6793 - val_acc: 0.4883\n",
      "Epoch 48/50\n",
      "50000/50000 [==============================] - 2s 45us/step - loss: 0.5182 - acc: 0.8520 - val_loss: 1.6921 - val_acc: 0.4842\n",
      "Epoch 49/50\n",
      "50000/50000 [==============================] - 2s 41us/step - loss: 0.5012 - acc: 0.8576 - val_loss: 1.7145 - val_acc: 0.4813\n",
      "Epoch 50/50\n",
      "50000/50000 [==============================] - 2s 37us/step - loss: 0.4871 - acc: 0.8628 - val_loss: 1.7109 - val_acc: 0.4883\n"
     ]
    }
   ],
   "source": [
    "\"\"\"\n",
    "Write your training loop and show the results\n",
    "\"\"\"\n",
    "model = build_mlp(input_shape=x_train.shape[1:])\n",
    "model.compile(loss='categorical_crossentropy', metrics=['accuracy'], optimizer=optimizer)\n",
    "\n",
    "model.fit(x_train, y_train,\n",
    "          epochs=EPOCHS,\n",
    "          batch_size=BATCH_SIZE,\n",
    "          validation_data=(x_test, y_test),\n",
    "          shuffle=True,\n",
    "          callbacks=[checkpoint])\n",
    "\n",
    "# collect the result\n",
    "train_loss = model.history.history[\"loss\"]\n",
    "valid_loss = model.history.history[\"val_loss\"]\n",
    "train_acc = model.history.history[\"acc\"]\n",
    "valid_acc = model.history.history[\"val_acc\"]"
   ]
  },
  {
   "cell_type": "code",
   "execution_count": 23,
   "metadata": {},
   "outputs": [
    {
     "name": "stdout",
     "output_type": "stream",
     "text": [
      "10000/10000 [==============================] - 1s 83us/step\n"
     ]
    }
   ],
   "source": [
    "# Load back\n",
    "model = keras.models.load_model(\"./tmp.hdf5\")\n",
    "loss_loadback, acc_loadback = model.evaluate(x_test, y_test)"
   ]
  },
  {
   "cell_type": "code",
   "execution_count": 24,
   "metadata": {},
   "outputs": [
    {
     "data": {
      "image/png": "[encoded data removed]",
      "text/plain": [
       "<Figure size 432x288 with 1 Axes>"
      ]
     },
     "metadata": {
      "needs_background": "light"
     },
     "output_type": "display_data"
    },
    {
     "data": {
      "image/png": "[encoded data removed]",
      "text/plain": [
       "<Figure size 432x288 with 1 Axes>"
      ]
     },
     "metadata": {
      "needs_background": "light"
     },
     "output_type": "display_data"
    }
   ],
   "source": [
    "plt.plot(range(len(train_loss)), train_loss, label=\"train loss\")\n",
    "plt.plot(range(len(valid_loss)), valid_loss, label=\"valid loss\")\n",
    "plt.hlines(y=loss_loadback, xmin=0, xmax=len(train_loss), colors='r', linestyles='--')\n",
    "plt.legend()\n",
    "plt.title(\"Loss\")\n",
    "plt.show()\n",
    "\n",
    "plt.plot(range(len(train_acc)), train_acc, label=\"train accuracy\")\n",
    "plt.plot(range(len(valid_acc)), valid_acc, label=\"valid accuracy\")\n",
    "plt.hlines(y=acc_loadback, xmin=0, xmax=len(train_loss), colors='r', linestyles='--')\n",
    "\n",
    "plt.legend()\n",
    "plt.title(\"Accuracy\")\n",
    "plt.show()"
   ]
  },
  {
   "cell_type": "markdown",
   "metadata": {},
   "source": [
    "> 只要有改名字就會存成多個，沒改就會存成最讚的"
   ]
  }
 ],
 "metadata": {
  "anaconda-cloud": {},
  "kernelspec": {
   "display_name": "Python 3",
   "language": "python",
   "name": "python3"
  },
  "language_info": {
   "codemirror_mode": {
    "name": "ipython",
    "version": 3
   },
   "file_extension": ".py",
   "mimetype": "text/x-python",
   "name": "python",
   "nbconvert_exporter": "python",
   "pygments_lexer": "ipython3",
   "version": "3.7.3"
  }
 },
 "nbformat": 4,
 "nbformat_minor": 2
}
