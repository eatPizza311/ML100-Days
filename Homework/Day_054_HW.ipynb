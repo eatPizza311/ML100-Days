{
 "cells": [
  {
   "cell_type": "markdown",
   "metadata": {},
   "source": [
    "# Day054\n",
    "## clustering 1: 非監督式機器學習簡介"
   ]
  },
  {
   "cell_type": "markdown",
   "metadata": {},
   "source": [
    "> 非監督學習允許我們在對結果無法預知時接近問題。\n",
    "1. 在不清楚資料特性、問題定義、沒有標記的情況下，非監督式學習技術可以幫助我們理清資料脈絡\n",
    "2. 特徵數太龐大的情況下，非監督式學習可以幫助概念抽象化，用更簡潔的特徵描述資料\n",
    "\n",
    "### 非監督學習算法概要\n",
    "1. 聚類分析 : 尋找資料的隱藏模式\n",
    "2. 降低維度 : 特徵數太大且特徵間相關性高，以此方式縮減特徵維度\n",
    "3. 其他 : 關聯法則 (購物籃分析)、異常值偵測、探索性資料分析等"
   ]
  },
  {
   "cell_type": "markdown",
   "metadata": {},
   "source": [
    "# 作業\n",
    "* 試著想想看, 非監督學習是否有可能使用評價函數 (Metric) 來鑑別好壞呢?  \n",
    "(Hint : 可以分為 \"有目標值\" 與 \"無目標值\" 兩個方向思考)"
   ]
  },
  {
   "cell_type": "markdown",
   "metadata": {
    "collapsed": true
   },
   "source": [
    "> 參考以下文章，[Performance metrics to evaluate unsupervised learning](https://stats.stackexchange.com/questions/79028/performance-metrics-to-evaluate-unsupervised-learning)"
   ]
  }
 ],
 "metadata": {
  "kernelspec": {
   "display_name": "Python 3",
   "language": "python",
   "name": "python3"
  },
  "language_info": {
   "codemirror_mode": {
    "name": "ipython",
    "version": 3
   },
   "file_extension": ".py",
   "mimetype": "text/x-python",
   "name": "python",
   "nbconvert_exporter": "python",
   "pygments_lexer": "ipython3",
   "version": "3.6.7"
  }
 },
 "nbformat": 4,
 "nbformat_minor": 1
}
